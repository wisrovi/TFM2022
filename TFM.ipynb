{
 "cells": [
  {
   "cell_type": "markdown",
   "metadata": {},
   "source": [
    "# El dataset se puede descargar de: https://www.kaggle.com/datasets/imsparsh/musicnet-dataset"
   ]
  },
  {
   "cell_type": "markdown",
   "metadata": {},
   "source": [
    "Una vez descargado se debe poner en la carpeta /kaggle/input/musicnet-dataset todo el contenido de la descarga"
   ]
  },
  {
   "cell_type": "raw",
   "metadata": {},
   "source": [
    "El dataset tiene dos formatos:\n",
    "\n",
    ".wav: archivo de audio estándar ~ grabación\n",
    "\n",
    ".mid: formato midi (interfaz digital de instrumentos musicales) ( https://en.wikipedia.org/wiki/MIDI )\n",
    "\n",
    "Es un estándar técnico que describe un protocolo de comunicaciones que conecta instrumentos musicales electrónicos. "
   ]
  },
  {
   "cell_type": "markdown",
   "metadata": {},
   "source": [
    "_______________________________"
   ]
  },
  {
   "cell_type": "markdown",
   "metadata": {},
   "source": [
    "Para la ejecucipn de este cuaderno se deben instalar las siguientes librerias (en las versiones establecidas), tal como se muestra a continuacion"
   ]
  },
  {
   "cell_type": "raw",
   "metadata": {},
   "source": [
    "!pip install pandas\n",
    "!pip install librosa==0.8.1\n",
    "!pip install numpy==1.21\n",
    "!pip install python_speech_features"
   ]
  },
  {
   "cell_type": "markdown",
   "metadata": {},
   "source": [
    "# 1) Preprocesar datos"
   ]
  },
  {
   "cell_type": "code",
   "execution_count": 1,
   "metadata": {},
   "outputs": [],
   "source": [
    "import numpy as np\n",
    "\n",
    "from libraries.Kaggle_audios import Kaggle_audios\n",
    "from libraries.ProcessAudio import ProcessAudio\n",
    "\n",
    "import pickle"
   ]
  },
  {
   "cell_type": "code",
   "execution_count": 2,
   "metadata": {},
   "outputs": [],
   "source": [
    "TIEMPO_SELECCIONADO = 2\n",
    "ARCHIVO_FINAL_TRAIN = \"data/scaler_pca_to_use/train\"\n",
    "ARCHIVO_FINAL_TEST = \"data/scaler_pca_to_use/test\""
   ]
  },
  {
   "cell_type": "code",
   "execution_count": 14,
   "metadata": {},
   "outputs": [],
   "source": [
    "from functools import wraps\n",
    "from time import time\n",
    "\n",
    "\n",
    "def count_elapsed_time(f):\n",
    "    @wraps(f)\n",
    "    def cronometro(*args, **kwargs):\n",
    "        t_inicial = time()  # tomo la hora antes de ejecutar la funcion\n",
    "        salida = f(*args, **kwargs)\n",
    "        t_final = time()  # tomo la hora despues de ejecutar la funcion\n",
    "        print('Tiempo transcurrido (en segundos): {}'.format(t_final - t_inicial))\n",
    "        return salida\n",
    "\n",
    "    return cronometro"
   ]
  },
  {
   "cell_type": "code",
   "execution_count": 3,
   "metadata": {},
   "outputs": [],
   "source": [
    "def prepare_data_tensorflow(data):\n",
    "    train = data[:, 1:-11]\n",
    "    instrument_list = data[:,-11:]\n",
    "    X = np.array(train, dtype=float)\n",
    "    y = instrument_list\n",
    "    return X, y\n",
    "\n",
    "def aplicando_pca(scaler_pca, name_file, dataX, dataY):\n",
    "    x_for_model = scaler_pca.transform(X=dataX)\n",
    "    # print(\"Original\", X.shape)\n",
    "    np.savez_compressed(name_file + \".npz\", data=x_for_model)\n",
    "    np.savez_compressed(name_file + \"_label.npz\", data=dataY)\n",
    "    \n",
    "def leyendo_datos(name_file):\n",
    "    x = np.load(name_file + \".npz\")['data']\n",
    "    y = np.load(name_file + \"_label.npz\")['data']\n",
    "    return x, y\n",
    "\n",
    "def Preprocesar_audios(name_file, use_train, save:bool = True):\n",
    "    cortar = Kaggle_audios(config_time=TIEMPO_SELECCIONADO, train=use_train)\n",
    "\n",
    "    print(\"\\tLeyendo todos los archivos WAV originales\")\n",
    "    all_data, all_label, rate = cortar.read_data(\n",
    "        limit=None, show_info=False)  # leer todos los wav y cada uno separarlos en pequeños audios de 3 segundos\n",
    "\n",
    "    print(\"\\tTime:\", TIEMPO_SELECCIONADO, \" - Input:\", all_data.shape, \" - Output:\", all_label.shape, \" - rate:\", rate)\n",
    "\n",
    "    print(\"\\tExtrayendo caracteristicas audios\")\n",
    "    data = list()\n",
    "    for id_audio, x in enumerate(all_data):\n",
    "        processAudio = ProcessAudio()\n",
    "        processAudio.set_data(x)\n",
    "        data_save = processAudio.get_all(id_audio)  # Extrayendo caracteristicas audios, salen 26 caracteristicas\n",
    "        data_save += all_label[id_audio].tolist()\n",
    "\n",
    "        data.append(data_save)\n",
    "        try:\n",
    "            if id_audio%150 == 0:\n",
    "                print(\"\\n\\t\", end=\"\")\n",
    "            print(\".\", end=\"\")\n",
    "        except:\n",
    "            print()\n",
    "\n",
    "    print(\"\\tConvirtiendo a numpy\")\n",
    "    data = np.array(data)\n",
    "\n",
    "    if save:\n",
    "        print(\"\\tGuardando data\")\n",
    "        np.savez_compressed(name_file + '.npz', data)\n",
    "        print(\"\\tGuardando csv completo\")\n",
    "\n",
    "    return data"
   ]
  },
  {
   "cell_type": "markdown",
   "metadata": {},
   "source": [
    "## 1.1) Leer audios, separarlos en audios mas pequeños y extraer las caracteristicas de cada uno de estos nuevos audios"
   ]
  },
  {
   "cell_type": "code",
   "execution_count": null,
   "metadata": {},
   "outputs": [],
   "source": [
    "print(\"Preprocesando TRAIN\")\n",
    "data_train = Preprocesar_audios(ARCHIVO_FINAL_TRAIN, use_train=True, save=False)\n",
    "print(\"\\tTime:\", TIEMPO_SELECCIONADO, \" - Train:\", len(data_train))"
   ]
  },
  {
   "cell_type": "markdown",
   "metadata": {},
   "source": [
    "## 1.2) Hallando el normalizador y el PCA"
   ]
  },
  {
   "cell_type": "code",
   "execution_count": null,
   "metadata": {},
   "outputs": [],
   "source": [
    "from sklearn.decomposition import PCA\n",
    "from sklearn.preprocessing import StandardScaler\n",
    "from sklearn.pipeline import make_pipeline"
   ]
  },
  {
   "cell_type": "code",
   "execution_count": null,
   "metadata": {},
   "outputs": [],
   "source": [
    "X_train, _ = prepare_data_tensorflow(data_train)\n",
    "scaler_pca = make_pipeline(StandardScaler(), PCA())\n",
    "scaler_pca.fit(X_train)\n",
    "\n",
    "modelo_pca = scaler_pca.named_steps['pca']"
   ]
  },
  {
   "cell_type": "code",
   "execution_count": null,
   "metadata": {},
   "outputs": [],
   "source": [
    "import matplotlib.pyplot as plt\n",
    "# Porcentaje de varianza explicada acumulada\n",
    "# ==============================================================================\n",
    "prop_varianza_acum = modelo_pca.explained_variance_ratio_.cumsum()\n",
    "print('------------------------------------------')\n",
    "print('Porcentaje de varianza explicada acumulada')\n",
    "print('------------------------------------------')\n",
    "print(prop_varianza_acum)\n",
    "\n",
    "fig, ax = plt.subplots(nrows=1, ncols=1, figsize=(20, 20))\n",
    "ax.plot(\n",
    "    np.arange(26) + 1,\n",
    "    prop_varianza_acum,\n",
    "    marker='o'\n",
    ")\n",
    "\n",
    "for x, y in zip(np.arange(26) + 1, prop_varianza_acum):\n",
    "    label = round(y, 2)\n",
    "    ax.annotate(\n",
    "        label,\n",
    "        (x, y),\n",
    "        textcoords=\"offset points\",\n",
    "        xytext=(0, 10),\n",
    "        ha='center',\n",
    "        fontsize=20\n",
    "    )\n",
    "\n",
    "ax.set_ylim(0, 1.1)\n",
    "ax.set_xticks(np.arange(modelo_pca.n_components_) + 1)\n",
    "ax.set_title('Porcentaje de varianza explicada acumulada')\n",
    "ax.set_xlabel('Componente principal')\n",
    "ax.set_ylabel('Por. varianza acumulada')\n",
    "\n",
    "ax.axvline(x=15, color=\"red\")\n",
    "ax.axhline(y=0.925, color=\"red\")\n",
    "\n",
    "plt.show()\n"
   ]
  },
  {
   "cell_type": "raw",
   "metadata": {},
   "source": [
    "se elige el 92% como valor de varianza explicada, pues con esta varianza de 8% menos del total se logra una reduccion de entradas del 42% (26 a 15) con lo que es un buen negocio que le facilita al modelo el aprendizaje"
   ]
  },
  {
   "cell_type": "code",
   "execution_count": null,
   "metadata": {},
   "outputs": [],
   "source": [
    "\"\"\"\n",
    "            Hallando el Normalizador y el PCA (92%)\n",
    "\"\"\"\n",
    "\n",
    "MINIMA_VARIANA_EXPLICADA = 0.92\n",
    "scaler_pca = make_pipeline(StandardScaler(), PCA(MINIMA_VARIANA_EXPLICADA))\n",
    "scaler_pca.fit(X_train)"
   ]
  },
  {
   "cell_type": "code",
   "execution_count": 19,
   "metadata": {},
   "outputs": [
    {
     "ename": "NameError",
     "evalue": "name 'scaler_pca' is not defined",
     "output_type": "error",
     "traceback": [
      "\u001b[0;31m---------------------------------------------------------------------------\u001b[0m",
      "\u001b[0;31mNameError\u001b[0m                                 Traceback (most recent call last)",
      "Input \u001b[0;32mIn [19]\u001b[0m, in \u001b[0;36m<module>\u001b[0;34m\u001b[0m\n\u001b[1;32m      1\u001b[0m \u001b[38;5;28;01mimport\u001b[39;00m \u001b[38;5;21;01mpickle\u001b[39;00m\n\u001b[0;32m----> 2\u001b[0m pickle\u001b[38;5;241m.\u001b[39mdump(\u001b[43mscaler_pca\u001b[49m, \u001b[38;5;28mopen\u001b[39m(\u001b[38;5;124m'\u001b[39m\u001b[38;5;124mdata/scaler_pca_to_use/scaler_pca.pkl\u001b[39m\u001b[38;5;124m'\u001b[39m,\u001b[38;5;124m'\u001b[39m\u001b[38;5;124mwb\u001b[39m\u001b[38;5;124m'\u001b[39m))\n",
      "\u001b[0;31mNameError\u001b[0m: name 'scaler_pca' is not defined"
     ]
    }
   ],
   "source": [
    "pickle.dump(scaler_pca, open('data/scaler_pca_to_use/scaler_pca.pkl','wb'))"
   ]
  },
  {
   "cell_type": "markdown",
   "metadata": {},
   "source": [
    "## 1.3) Aplicando el normalizador, PCA a los datos train y guardando el resultado"
   ]
  },
  {
   "cell_type": "code",
   "execution_count": null,
   "metadata": {},
   "outputs": [],
   "source": [
    "\"\"\"\n",
    "            Aplicando PCA\n",
    "\"\"\"\n",
    "X_train, Y_train = prepare_data_tensorflow(data_train)\n",
    "aplicando_pca(scaler_pca, ARCHIVO_FINAL_TRAIN, X_train, Y_train )"
   ]
  },
  {
   "cell_type": "markdown",
   "metadata": {},
   "source": [
    "## 1.4) Aplicando el normalizador, PCA a los datos test y guardando el resultado"
   ]
  },
  {
   "cell_type": "code",
   "execution_count": null,
   "metadata": {},
   "outputs": [],
   "source": [
    "print(\"Preprocesando TEST\")\n",
    "data_test = Preprocesar_audios(ARCHIVO_FINAL_TEST, False, save=False)\n",
    "print(\"\\tTime:\", TIEMPO_SELECCIONADO, \" - Test:\", len(data_test))\n",
    "\n",
    "X_test, Y_test = prepare_data_tensorflow(data_test)\n",
    "aplicando_pca(scaler_pca, ARCHIVO_FINAL_TEST, X_test, Y_test )"
   ]
  },
  {
   "cell_type": "markdown",
   "metadata": {},
   "source": [
    "# 2) Cargando los datos para usarlos en el entrenamiento del modelo"
   ]
  },
  {
   "cell_type": "code",
   "execution_count": 4,
   "metadata": {},
   "outputs": [
    {
     "name": "stdout",
     "output_type": "stream",
     "text": [
      "x_for_model_charge_train: (60851, 15) (60851, 11)\n"
     ]
    }
   ],
   "source": [
    "\"\"\"\n",
    "            Leyendo datos\n",
    "\"\"\"\n",
    "xTrain_for_model_charge, yTrain = leyendo_datos(ARCHIVO_FINAL_TRAIN)\n",
    "print(\"x_for_model_charge_train:\", xTrain_for_model_charge.shape, yTrain.shape)"
   ]
  },
  {
   "cell_type": "code",
   "execution_count": 25,
   "metadata": {},
   "outputs": [
    {
     "name": "stdout",
     "output_type": "stream",
     "text": [
      "x_for_model_charge_test: (745, 15) (745, 11)\n"
     ]
    }
   ],
   "source": [
    "xTest_for_model_charge, yTest = leyendo_datos(ARCHIVO_FINAL_TEST)\n",
    "print(\"x_for_model_charge_test:\", xTest_for_model_charge.shape, yTest.shape)"
   ]
  },
  {
   "cell_type": "markdown",
   "metadata": {},
   "source": [
    "# 3) Creando y entrenando modelos modelos"
   ]
  },
  {
   "cell_type": "markdown",
   "metadata": {},
   "source": [
    "## 3.1) Modelo clasico"
   ]
  },
  {
   "cell_type": "code",
   "execution_count": 6,
   "metadata": {},
   "outputs": [],
   "source": [
    "from sklearn.model_selection import train_test_split\n",
    "from sklearn.multioutput import MultiOutputClassifier\n",
    "from sklearn.model_selection import KFold\n",
    "from sklearn.model_selection import GridSearchCV\n",
    "import sklearn.metrics as metrics"
   ]
  },
  {
   "cell_type": "code",
   "execution_count": 7,
   "metadata": {},
   "outputs": [],
   "source": [
    "from sklearn.linear_model import LogisticRegression\n",
    "from sklearn.tree import DecisionTreeClassifier\n",
    "from sklearn.ensemble import RandomForestClassifier\n",
    "\n",
    "from sklearn.naive_bayes import GaussianNB\n",
    "from sklearn.svm import SVC\n",
    "from sklearn.dummy import DummyClassifier\n",
    "from sklearn.neighbors import KNeighborsClassifier"
   ]
  },
  {
   "cell_type": "code",
   "execution_count": 27,
   "metadata": {},
   "outputs": [],
   "source": [
    "mean = lambda lst: int((sum(lst) / len(lst))*100)/100\n",
    "\n",
    "\n",
    "def calcular_porcentajes_aciertos(y_f, y_t):\n",
    "    verdaderos = dict()\n",
    "    falsos = dict()\n",
    "    for j in range(y_f.shape[1]):\n",
    "        verdaderos[j] = 0\n",
    "        falsos[j] = 0\n",
    "\n",
    "    for i in range(y_f.shape[0]):\n",
    "        for j in range(y_f.shape[1]):\n",
    "            if y_f[i][j] == y_t[i][j]:\n",
    "                verdaderos[j] += 1\n",
    "            else:\n",
    "                falsos[j] += 1\n",
    "\n",
    "    for j in range(y_f.shape[1]):\n",
    "        #y_final.shape[1] -> 100%\n",
    "        #verdaderos[j]    -> X\n",
    "        verdaderos[j] = int(verdaderos[j] * 100 / y_f.shape[0])\n",
    "        falsos[j] = int(falsos[j] * 100 / y_f.shape[0])\n",
    "\n",
    "    return verdaderos, falsos, str(mean([v for i, v in verdaderos.items()])) + \"%\""
   ]
  },
  {
   "cell_type": "markdown",
   "metadata": {},
   "source": [
    "## 3.1.1)  Dividiendo datos para train y valid"
   ]
  },
  {
   "cell_type": "code",
   "execution_count": 9,
   "metadata": {},
   "outputs": [],
   "source": [
    "X_train, X_test, y_train, y_test = train_test_split(xTrain_for_model_charge, yTrain, test_size=0.1)  # 0.2"
   ]
  },
  {
   "cell_type": "markdown",
   "metadata": {},
   "source": [
    "## 3.2) Entrenando modelo"
   ]
  },
  {
   "cell_type": "code",
   "execution_count": 11,
   "metadata": {},
   "outputs": [
    {
     "name": "stdout",
     "output_type": "stream",
     "text": [
      "[RandomForestClassifier] Aciertos train 99.81%\n",
      "[RandomForestClassifier] Aciertos validacion 95.72%\n",
      "[RandomForestClassifier] Aciertos test 94.63%\n"
     ]
    }
   ],
   "source": [
    "algoritmo_clasico = RandomForestClassifier()\n",
    "algoritmo_clasico = MultiOutputClassifier(algoritmo_clasico, n_jobs=-1)\n",
    "\n",
    "seed = 1\n",
    "grid = GridSearchCV(\n",
    "          estimator = algoritmo_clasico,\n",
    "          param_grid={},\n",
    "          cv = KFold(n_splits=10, shuffle=True, random_state=seed)\n",
    "        )\n",
    "grid.fit(X_train, y_train)\n",
    "algoritmo_clasico = grid.best_estimator_\n",
    "\n",
    "\n",
    "\n",
    "\n",
    "y_final = algoritmo_clasico.predict(X_train)\n",
    "aciertos = calcular_porcentajes_aciertos(y_final, y_train)[2]\n",
    "print(\"[RandomForestClassifier] Aciertos train\", aciertos)\n",
    "\n",
    "\n",
    "\n",
    "\n",
    "\n",
    "y_final = algoritmo_clasico.predict(X_test)\n",
    "aciertos = calcular_porcentajes_aciertos(y_final, y_test)[2]\n",
    "print(\"[RandomForestClassifier] Aciertos validacion\", aciertos)\n",
    "\n",
    "\n",
    "\n",
    "\n",
    "\n",
    "y_final = algoritmo_clasico.predict(xTest_for_model_charge)\n",
    "aciertos = calcular_porcentajes_aciertos(y_final, yTest)[2]\n",
    "print(\"[RandomForestClassifier] Aciertos test\", aciertos)"
   ]
  },
  {
   "cell_type": "code",
   "execution_count": 12,
   "metadata": {},
   "outputs": [
    {
     "name": "stdout",
     "output_type": "stream",
     "text": [
      "[LogisticRegression] Aciertos train 92.18%\n",
      "[LogisticRegression] Aciertos validacion 92.36%\n",
      "[LogisticRegression] Aciertos test 90.72%\n"
     ]
    }
   ],
   "source": [
    "algoritmo_clasico = LogisticRegression(\n",
    "          solver='sag', #'liblinear', 'sag'\n",
    "          max_iter=1000, \n",
    "          random_state=1, #0 ,1\n",
    "          multi_class='ovr'\n",
    "          )\n",
    "algoritmo_clasico = MultiOutputClassifier(algoritmo_clasico, n_jobs=-1)\n",
    "\n",
    "seed = 1\n",
    "grid = GridSearchCV(\n",
    "          estimator = algoritmo_clasico,\n",
    "          param_grid={},\n",
    "          cv = KFold(n_splits=10, shuffle=True, random_state=seed)\n",
    "        )\n",
    "grid.fit(X_train, y_train)\n",
    "algoritmo_clasico = grid.best_estimator_\n",
    "\n",
    "\n",
    "\n",
    "y_final = algoritmo_clasico.predict(X_train)\n",
    "aciertos = calcular_porcentajes_aciertos(y_final, y_train)[2]\n",
    "print(\"[LogisticRegression] Aciertos train\", aciertos)\n",
    "\n",
    "\n",
    "\n",
    "\n",
    "y_final = algoritmo_clasico.predict(X_test)\n",
    "aciertos = calcular_porcentajes_aciertos(y_final, y_test)[2]\n",
    "print(\"[LogisticRegression] Aciertos validacion\", aciertos)\n",
    "\n",
    "\n",
    "\n",
    "\n",
    "\n",
    "y_final = algoritmo_clasico.predict(xTest_for_model_charge)\n",
    "aciertos = calcular_porcentajes_aciertos(y_final, yTest)[2]\n",
    "print(\"[LogisticRegression] Aciertos test\", aciertos)"
   ]
  },
  {
   "cell_type": "code",
   "execution_count": 13,
   "metadata": {},
   "outputs": [
    {
     "name": "stdout",
     "output_type": "stream",
     "text": [
      "[DecisionTreeClassifier] Aciertos train 100.0%\n",
      "[DecisionTreeClassifier] Aciertos validacion 92.54%\n",
      "[DecisionTreeClassifier] Aciertos test 91.45%\n"
     ]
    }
   ],
   "source": [
    "algoritmo_clasico = DecisionTreeClassifier(\n",
    "          max_depth = None,\n",
    "          min_samples_split = 2,\n",
    "          min_samples_leaf  = 1,\n",
    "          random_state      = 123\n",
    "          )\n",
    "algoritmo_clasico = MultiOutputClassifier(algoritmo_clasico, n_jobs=-1)\n",
    "\n",
    "seed = 1\n",
    "grid = GridSearchCV(\n",
    "          estimator = algoritmo_clasico,\n",
    "          param_grid={},\n",
    "          cv = KFold(n_splits=10, shuffle=True, random_state=seed)\n",
    "        )\n",
    "grid.fit(X_train, y_train)\n",
    "algoritmo_clasico = grid.best_estimator_\n",
    "\n",
    "\n",
    "\n",
    "y_final = algoritmo_clasico.predict(X_train)\n",
    "aciertos = calcular_porcentajes_aciertos(y_final, y_train)[2]\n",
    "print(\"[DecisionTreeClassifier] Aciertos train\", aciertos)\n",
    "\n",
    "\n",
    "\n",
    "\n",
    "\n",
    "y_final = algoritmo_clasico.predict(X_test)\n",
    "aciertos = calcular_porcentajes_aciertos(y_final, y_test)[2]\n",
    "print(\"[DecisionTreeClassifier] Aciertos validacion\", aciertos)\n",
    "\n",
    "\n",
    "\n",
    "\n",
    "\n",
    "y_final = algoritmo_clasico.predict(xTest_for_model_charge)\n",
    "aciertos = calcular_porcentajes_aciertos(y_final, yTest)[2]\n",
    "print(\"[DecisionTreeClassifier] Aciertos test\", aciertos)"
   ]
  },
  {
   "cell_type": "code",
   "execution_count": 14,
   "metadata": {},
   "outputs": [
    {
     "name": "stderr",
     "output_type": "stream",
     "text": [
      "/usr/local/lib/python3.8/dist-packages/sklearn/utils/deprecation.py:103: FutureWarning: `n_features_in_` is deprecated in 1.0 and will be removed in 1.2.\n",
      "  warnings.warn(msg, category=FutureWarning)\n",
      "/usr/local/lib/python3.8/dist-packages/sklearn/utils/deprecation.py:103: FutureWarning: `n_features_in_` is deprecated in 1.0 and will be removed in 1.2.\n",
      "  warnings.warn(msg, category=FutureWarning)\n",
      "/usr/local/lib/python3.8/dist-packages/sklearn/utils/deprecation.py:103: FutureWarning: `n_features_in_` is deprecated in 1.0 and will be removed in 1.2.\n",
      "  warnings.warn(msg, category=FutureWarning)\n",
      "/usr/local/lib/python3.8/dist-packages/sklearn/utils/deprecation.py:103: FutureWarning: `n_features_in_` is deprecated in 1.0 and will be removed in 1.2.\n",
      "  warnings.warn(msg, category=FutureWarning)\n",
      "/usr/local/lib/python3.8/dist-packages/sklearn/utils/deprecation.py:103: FutureWarning: `n_features_in_` is deprecated in 1.0 and will be removed in 1.2.\n",
      "  warnings.warn(msg, category=FutureWarning)\n",
      "/usr/local/lib/python3.8/dist-packages/sklearn/utils/deprecation.py:103: FutureWarning: `n_features_in_` is deprecated in 1.0 and will be removed in 1.2.\n",
      "  warnings.warn(msg, category=FutureWarning)\n",
      "/usr/local/lib/python3.8/dist-packages/sklearn/utils/deprecation.py:103: FutureWarning: `n_features_in_` is deprecated in 1.0 and will be removed in 1.2.\n",
      "  warnings.warn(msg, category=FutureWarning)\n",
      "/usr/local/lib/python3.8/dist-packages/sklearn/utils/deprecation.py:103: FutureWarning: `n_features_in_` is deprecated in 1.0 and will be removed in 1.2.\n",
      "  warnings.warn(msg, category=FutureWarning)\n",
      "/usr/local/lib/python3.8/dist-packages/sklearn/utils/deprecation.py:103: FutureWarning: `n_features_in_` is deprecated in 1.0 and will be removed in 1.2.\n",
      "  warnings.warn(msg, category=FutureWarning)\n",
      "/usr/local/lib/python3.8/dist-packages/sklearn/utils/deprecation.py:103: FutureWarning: `n_features_in_` is deprecated in 1.0 and will be removed in 1.2.\n",
      "  warnings.warn(msg, category=FutureWarning)\n",
      "/usr/local/lib/python3.8/dist-packages/sklearn/utils/deprecation.py:103: FutureWarning: `n_features_in_` is deprecated in 1.0 and will be removed in 1.2.\n",
      "  warnings.warn(msg, category=FutureWarning)\n"
     ]
    },
    {
     "name": "stdout",
     "output_type": "stream",
     "text": [
      "[DummyClassifier] Aciertos train 85.54%\n",
      "[DummyClassifier] Aciertos validacion 85.63%\n",
      "[DummyClassifier] Aciertos test 81.54%\n"
     ]
    }
   ],
   "source": [
    "algoritmo_clasico = DummyClassifier()\n",
    "algoritmo_clasico = MultiOutputClassifier(algoritmo_clasico, n_jobs=-1)\n",
    "\n",
    "seed = 1\n",
    "grid = GridSearchCV(\n",
    "          estimator = algoritmo_clasico,\n",
    "          param_grid={},\n",
    "          cv = KFold(n_splits=10, shuffle=True, random_state=seed)\n",
    "        )\n",
    "grid.fit(X_train, y_train)\n",
    "algoritmo_clasico = grid.best_estimator_\n",
    "\n",
    "\n",
    "\n",
    "y_final = algoritmo_clasico.predict(X_train)\n",
    "aciertos = calcular_porcentajes_aciertos(y_final, y_train)[2]\n",
    "print(\"[DummyClassifier] Aciertos train\", aciertos)\n",
    "\n",
    "\n",
    "\n",
    "\n",
    "\n",
    "y_final = algoritmo_clasico.predict(X_test)\n",
    "aciertos = calcular_porcentajes_aciertos(y_final, y_test)[2]\n",
    "print(\"[DummyClassifier] Aciertos validacion\", aciertos)\n",
    "\n",
    "\n",
    "\n",
    "\n",
    "\n",
    "y_final = algoritmo_clasico.predict(xTest_for_model_charge)\n",
    "aciertos = calcular_porcentajes_aciertos(y_final, yTest)[2]\n",
    "print(\"[DummyClassifier] Aciertos test\", aciertos)"
   ]
  },
  {
   "cell_type": "code",
   "execution_count": 17,
   "metadata": {},
   "outputs": [
    {
     "name": "stdout",
     "output_type": "stream",
     "text": [
      "[KNeighborsClassifier] Aciertos train 96.81%\n",
      "[KNeighborsClassifier] Aciertos validacion 96.18%\n",
      "[KNeighborsClassifier] Aciertos test 96.0%\n"
     ]
    }
   ],
   "source": [
    "algoritmo_clasico = KNeighborsClassifier(11)\n",
    "algoritmo_clasico = MultiOutputClassifier(algoritmo_clasico, n_jobs=-1)\n",
    "\n",
    "seed = 1\n",
    "grid = GridSearchCV(\n",
    "          estimator = algoritmo_clasico,\n",
    "          param_grid={},\n",
    "          cv = KFold(n_splits=10, shuffle=True, random_state=seed)\n",
    "        )\n",
    "grid.fit(X_train, y_train)\n",
    "algoritmo_clasico = grid.best_estimator_\n",
    "\n",
    "\n",
    "\n",
    "y_final = algoritmo_clasico.predict(X_train)\n",
    "aciertos = calcular_porcentajes_aciertos(y_final, y_train)[2]\n",
    "print(\"[KNeighborsClassifier] Aciertos train\", aciertos)\n",
    "\n",
    "\n",
    "\n",
    "\n",
    "\n",
    "y_final = algoritmo_clasico.predict(X_test)\n",
    "aciertos = calcular_porcentajes_aciertos(y_final, y_test)[2]\n",
    "print(\"[KNeighborsClassifier] Aciertos validacion\", aciertos)\n",
    "\n",
    "\n",
    "\n",
    "\n",
    "\n",
    "y_final = algoritmo_clasico.predict(xTest_for_model_charge)\n",
    "aciertos = calcular_porcentajes_aciertos(y_final, yTest)[2]\n",
    "print(\"[KNeighborsClassifier] Aciertos test\", aciertos)"
   ]
  },
  {
   "cell_type": "code",
   "execution_count": 16,
   "metadata": {},
   "outputs": [
    {
     "name": "stdout",
     "output_type": "stream",
     "text": [
      "[GaussianNB] Aciertos train 90.63%\n",
      "[GaussianNB] Aciertos validacion 90.81%\n",
      "[GaussianNB] Aciertos test 89.0%\n"
     ]
    }
   ],
   "source": [
    "algoritmo_clasico = GaussianNB()\n",
    "algoritmo_clasico = MultiOutputClassifier(algoritmo_clasico, n_jobs=-1)\n",
    "\n",
    "seed = 1\n",
    "grid = GridSearchCV(\n",
    "          estimator = algoritmo_clasico,\n",
    "          param_grid={},\n",
    "          cv = KFold(n_splits=10, shuffle=True, random_state=seed)\n",
    "        )\n",
    "grid.fit(X_train, y_train)\n",
    "algoritmo_clasico = grid.best_estimator_\n",
    "\n",
    "\n",
    "\n",
    "y_final = algoritmo_clasico.predict(X_train)\n",
    "aciertos = calcular_porcentajes_aciertos(y_final, y_train)[2]\n",
    "print(\"[GaussianNB] Aciertos train\", aciertos)\n",
    "\n",
    "\n",
    "\n",
    "\n",
    "\n",
    "y_final = algoritmo_clasico.predict(X_test)\n",
    "aciertos = calcular_porcentajes_aciertos(y_final, y_test)[2]\n",
    "print(\"[GaussianNB] Aciertos validacion\", aciertos)\n",
    "\n",
    "\n",
    "\n",
    "\n",
    "\n",
    "y_final = algoritmo_clasico.predict(xTest_for_model_charge)\n",
    "aciertos = calcular_porcentajes_aciertos(y_final, yTest)[2]\n",
    "print(\"[GaussianNB] Aciertos test\", aciertos)"
   ]
  },
  {
   "cell_type": "markdown",
   "metadata": {},
   "source": [
    "## 3.3) Guardando modelo"
   ]
  },
  {
   "cell_type": "code",
   "execution_count": 21,
   "metadata": {},
   "outputs": [],
   "source": [
    "pickle.dump(algoritmo_clasico, open('data/scaler_pca_to_use/KNeighborsClassifier.pkl', 'wb'))"
   ]
  },
  {
   "cell_type": "markdown",
   "metadata": {},
   "source": [
    "## 3.4) Cargando modelo"
   ]
  },
  {
   "cell_type": "code",
   "execution_count": 36,
   "metadata": {},
   "outputs": [],
   "source": [
    "#model = pickle.load(open('data/scaler_pca_to_use/KNeighborsClassifier.pkl', 'rb'))\n",
    "model = pickle.load(open('data/scaler_pca_to_use/randomforest.pkl', 'rb'))"
   ]
  },
  {
   "cell_type": "markdown",
   "metadata": {},
   "source": [
    "## 3.5) Probando modelo"
   ]
  },
  {
   "cell_type": "code",
   "execution_count": 17,
   "metadata": {},
   "outputs": [
    {
     "name": "stdout",
     "output_type": "stream",
     "text": [
      "Aciertos train 96.63%\n"
     ]
    }
   ],
   "source": [
    "y_final = model.predict(X_train)\n",
    "\n",
    "aciertos = calcular_porcentajes_aciertos(y_final, y_train)[2]\n",
    "print(\"Aciertos train\", aciertos)"
   ]
  },
  {
   "cell_type": "markdown",
   "metadata": {},
   "source": [
    "## 3.3) Validando modelo"
   ]
  },
  {
   "cell_type": "code",
   "execution_count": 18,
   "metadata": {},
   "outputs": [
    {
     "name": "stdout",
     "output_type": "stream",
     "text": [
      "Aciertos validacion 96.72%\n"
     ]
    }
   ],
   "source": [
    "y_final = model.predict(X_test)\n",
    "\n",
    "aciertos = calcular_porcentajes_aciertos(y_final, y_test)[2]\n",
    "print(\"Aciertos validacion\", aciertos)"
   ]
  },
  {
   "cell_type": "markdown",
   "metadata": {},
   "source": [
    "## 3.4) Testeando modelo"
   ]
  },
  {
   "cell_type": "code",
   "execution_count": 37,
   "metadata": {},
   "outputs": [
    {
     "name": "stdout",
     "output_type": "stream",
     "text": [
      "Tiempo transcurrido (en segundos): 0.8689899444580078\n",
      "Aciertos test 94.9%\n"
     ]
    }
   ],
   "source": [
    "@count_elapsed_time\n",
    "def predecir():\n",
    "    y_final = model.predict(xTest_for_model_charge)\n",
    "    return y_final\n",
    "\n",
    "y_final = predecir()\n",
    "aciertos = calcular_porcentajes_aciertos(y_final, yTest)[2]\n",
    "print(\"Aciertos test\", aciertos)"
   ]
  },
  {
   "cell_type": "markdown",
   "metadata": {},
   "source": [
    "# 4) Creando y entrenando modelo red neuronal"
   ]
  },
  {
   "cell_type": "code",
   "execution_count": 38,
   "metadata": {},
   "outputs": [
    {
     "name": "stdout",
     "output_type": "stream",
     "text": [
      "datos train: (60851, 15) (60851, 11)\n",
      "datos test: (745, 15) (745, 11)\n"
     ]
    }
   ],
   "source": [
    "xTrain_for_model_charge, yTrain = leyendo_datos(ARCHIVO_FINAL_TRAIN)\n",
    "yTrain = np.array(yTrain, dtype=float)\n",
    "xTrain_for_model_charge = np.array(xTrain_for_model_charge, dtype=float)\n",
    "print(\"datos train:\", xTrain_for_model_charge.shape, yTrain.shape)\n",
    "\n",
    "xTest_for_model_charge, yTest = leyendo_datos(ARCHIVO_FINAL_TEST)\n",
    "yTest = np.array(yTest, dtype=float)\n",
    "xTest_for_model_charge = np.array(xTest_for_model_charge, dtype=float)\n",
    "print(\"datos test:\", xTest_for_model_charge.shape, yTest.shape)"
   ]
  },
  {
   "cell_type": "code",
   "execution_count": 39,
   "metadata": {},
   "outputs": [],
   "source": [
    "from tensorflow.keras.models import Sequential, Model\n",
    "from tensorflow.keras.layers import Dense, Dropout, LayerNormalization, LeakyReLU, Conv1D, Conv2D, Flatten, MaxPooling2D, Input\n",
    "from tensorflow.keras.layers import BatchNormalization, InputLayer, Reshape, Activation, GlobalAveragePooling1D\n",
    "from tensorflow.keras.layers import AveragePooling2D, AveragePooling1D, UpSampling1D, UpSampling2D, MaxPooling1D"
   ]
  },
  {
   "cell_type": "code",
   "execution_count": 40,
   "metadata": {},
   "outputs": [],
   "source": [
    "from tensorflow.keras.optimizers import Adam\n",
    "def get_optimizador():\n",
    "    adam = Adam(learning_rate=1e-5)\n",
    "    return adam"
   ]
  },
  {
   "cell_type": "code",
   "execution_count": 41,
   "metadata": {},
   "outputs": [],
   "source": [
    "from keras.callbacks import EarlyStopping, ReduceLROnPlateau, ModelCheckpoint, RemoteMonitor, TerminateOnNaN, BackupAndRestore\n",
    "\n",
    "def get_callbacks(name=\"model\"):\n",
    "    #EarlyStopping, detener el entrenamiento una vez que su pérdida comienza a aumentar\n",
    "    early_stop = EarlyStopping(\n",
    "        monitor='accuracy',\n",
    "        patience=8, #argumento de patience representa el número de épocas antes de detenerse una vez que su pérdida comienza a aumentar (deja de mejorar).\n",
    "        min_delta=0,  #es un umbral para cuantificar una pérdida en alguna época como mejora o no. Si la diferencia de pérdida es inferior a min_delta , se cuantifica como no mejora. Es mejor dejarlo como 0 ya que estamos interesados ​​en cuando la pérdida empeora.\n",
    "        restore_best_weights=True,\n",
    "        mode='max')\n",
    "\n",
    "    #ReduceLROnPlateau, que si el entrenamiento no mejora tras unos epochs específicos, reduce el valor de learning rate del modelo\n",
    "    reduce_lr = ReduceLROnPlateau(\n",
    "        monitor='loss', \n",
    "        factor=0.1, \n",
    "        patience=5, \n",
    "        min_delta=1e-4, \n",
    "        mode='min',\n",
    "        verbose=1,\n",
    "    )\n",
    "\n",
    "    # Saves Keras model after each epoch\n",
    "    #Para algunos casos es importante saber cual entrenamiento fue mejor, \n",
    "    #este callback guarda el modelo tras cada epoca completada con el fin de si luego se desea un registro de pesos para cada epoca\n",
    "    #Se ha usado este callback para poder optener el mejor modelo de pesos, sobretodo en la red neuronal creada desde cero\n",
    "    #siendo de gran utilidad para determinar el como ir modificando los layer hasta obtener el mejor modelo\n",
    "    checkpointer = ModelCheckpoint(\n",
    "        filepath='models_backup/' + name +'-{val_accuracy:.4f}.h5', \n",
    "        monitor='val_accuracy',\n",
    "        verbose=1, \n",
    "        mode='max',\n",
    "        save_best_only=True,\n",
    "        save_weights_only=False\n",
    "    )\n",
    "\n",
    "    remote_monitor = RemoteMonitor(\n",
    "        root='http://localhost:6006',\n",
    "        path='/publish/epoch/end/',\n",
    "        field='data',\n",
    "        headers=None,\n",
    "        send_as_json=False\n",
    "    )\n",
    "    \n",
    "    backup_restore = BackupAndRestore(backup_dir=\"backup\")\n",
    "    \n",
    "    proteccion_nan_loss = TerminateOnNaN()\n",
    "\n",
    "    \n",
    "    callbacks_list = [early_stop, reduce_lr, checkpointer, proteccion_nan_loss, backup_restore]#, remote_monitor]\n",
    "    \n",
    "    return callbacks_list"
   ]
  },
  {
   "cell_type": "code",
   "execution_count": 42,
   "metadata": {},
   "outputs": [],
   "source": [
    "import matplotlib.pyplot as plt\n",
    "def plot_history(history):\n",
    "    # list all data in history\n",
    "    print(history.history.keys())\n",
    "    # summarize history for accuracy\n",
    "\n",
    "    # summarize history for loss\n",
    "    plt.plot(history.history['loss'])\n",
    "    plt.plot(history.history['accuracy'])\n",
    "    plt.title('model loss')\n",
    "    plt.ylabel('loss')\n",
    "    plt.xlabel('epoch')\n",
    "    plt.legend(['train', 'test'], loc='upper left')\n",
    "    plt.show()"
   ]
  },
  {
   "cell_type": "markdown",
   "metadata": {},
   "source": [
    "## 4.1) Modelo basico"
   ]
  },
  {
   "cell_type": "code",
   "execution_count": 43,
   "metadata": {},
   "outputs": [
    {
     "name": "stdout",
     "output_type": "stream",
     "text": [
      "Model: \"RedBasica\"\n",
      "_________________________________________________________________\n",
      " Layer (type)                Output Shape              Param #   \n",
      "=================================================================\n",
      " dense (Dense)               (None, 32)                512       \n",
      "                                                                 \n",
      " dense_1 (Dense)             (None, 64)                2112      \n",
      "                                                                 \n",
      " dense_2 (Dense)             (None, 256)               16640     \n",
      "                                                                 \n",
      " dense_3 (Dense)             (None, 256)               65792     \n",
      "                                                                 \n",
      " dense_4 (Dense)             (None, 128)               32896     \n",
      "                                                                 \n",
      " dense_5 (Dense)             (None, 32)                4128      \n",
      "                                                                 \n",
      " dropout (Dropout)           (None, 32)                0         \n",
      "                                                                 \n",
      " output_layer (Dense)        (None, 11)                363       \n",
      "                                                                 \n",
      "=================================================================\n",
      "Total params: 122,443\n",
      "Trainable params: 122,443\n",
      "Non-trainable params: 0\n",
      "_________________________________________________________________\n"
     ]
    }
   ],
   "source": [
    "cantidad_entradas = 15\n",
    "cantidad_salidas = 11\n",
    "\n",
    "model = Sequential(name=\"RedBasica\")\n",
    "model.add(Dense(32, activation='relu', input_shape=(cantidad_entradas,)))\n",
    "model.add(Dense(64, activation='relu'))\n",
    "model.add(Dense(256, activation='relu'))\n",
    "model.add(Dense(256, activation='relu'))\n",
    "model.add(Dense(128, activation='relu'))\n",
    "model.add(Dense(32, activation='relu'))\n",
    "model.add(Dropout(0.5))\n",
    "model.add(Dense(cantidad_salidas, activation='softmax', name='output_layer'))\n",
    "\n",
    "model.summary()"
   ]
  },
  {
   "cell_type": "code",
   "execution_count": 44,
   "metadata": {},
   "outputs": [],
   "source": [
    "model.compile(optimizer=get_optimizador(),\n",
    "              loss='mse',  # categorical_crossentropy sparse_categorical_crossentropy mean_squared_error\n",
    "              metrics=['accuracy'])"
   ]
  },
  {
   "cell_type": "code",
   "execution_count": 45,
   "metadata": {},
   "outputs": [
    {
     "name": "stdout",
     "output_type": "stream",
     "text": [
      "Epoch 1/500\n",
      "846/856 [============================>.] - ETA: 0s - loss: 0.1295 - accuracy: 0.5648\n",
      "Epoch 1: val_accuracy improved from -inf to 0.76076, saving model to models_backup/model-0.7608.h5\n",
      "856/856 [==============================] - 3s 3ms/step - loss: 0.1294 - accuracy: 0.5661 - val_loss: 0.1048 - val_accuracy: 0.7608 - lr: 1.0000e-05\n",
      "Epoch 2/500\n",
      "844/856 [============================>.] - ETA: 0s - loss: 0.1028 - accuracy: 0.7205\n",
      "Epoch 2: val_accuracy improved from 0.76076 to 0.76503, saving model to models_backup/model-0.7650.h5\n",
      "856/856 [==============================] - 2s 2ms/step - loss: 0.1027 - accuracy: 0.7205 - val_loss: 0.0908 - val_accuracy: 0.7650 - lr: 1.0000e-05\n",
      "Epoch 3/500\n",
      "840/856 [============================>.] - ETA: 0s - loss: 0.0954 - accuracy: 0.7111\n",
      "Epoch 3: val_accuracy improved from 0.76503 to 0.76881, saving model to models_backup/model-0.7688.h5\n",
      "856/856 [==============================] - 2s 2ms/step - loss: 0.0954 - accuracy: 0.7113 - val_loss: 0.0872 - val_accuracy: 0.7688 - lr: 1.0000e-05\n",
      "Epoch 4/500\n",
      "842/856 [============================>.] - ETA: 0s - loss: 0.0924 - accuracy: 0.7111\n",
      "Epoch 4: val_accuracy improved from 0.76881 to 0.77834, saving model to models_backup/model-0.7783.h5\n",
      "856/856 [==============================] - 2s 2ms/step - loss: 0.0924 - accuracy: 0.7110 - val_loss: 0.0848 - val_accuracy: 0.7783 - lr: 1.0000e-05\n",
      "Epoch 5/500\n",
      "836/856 [============================>.] - ETA: 0s - loss: 0.0904 - accuracy: 0.7172\n",
      "Epoch 5: val_accuracy improved from 0.77834 to 0.78524, saving model to models_backup/model-0.7852.h5\n",
      "856/856 [==============================] - 2s 2ms/step - loss: 0.0904 - accuracy: 0.7172 - val_loss: 0.0835 - val_accuracy: 0.7852 - lr: 1.0000e-05\n",
      "Epoch 6/500\n",
      "852/856 [============================>.] - ETA: 0s - loss: 0.0891 - accuracy: 0.7168\n",
      "Epoch 6: val_accuracy improved from 0.78524 to 0.78837, saving model to models_backup/model-0.7884.h5\n",
      "856/856 [==============================] - 2s 2ms/step - loss: 0.0891 - accuracy: 0.7168 - val_loss: 0.0826 - val_accuracy: 0.7884 - lr: 1.0000e-05\n",
      "Epoch 7/500\n",
      "847/856 [============================>.] - ETA: 0s - loss: 0.0877 - accuracy: 0.7211\n",
      "Epoch 7: val_accuracy did not improve from 0.78837\n",
      "856/856 [==============================] - 2s 2ms/step - loss: 0.0876 - accuracy: 0.7211 - val_loss: 0.0818 - val_accuracy: 0.7884 - lr: 1.0000e-05\n",
      "Epoch 8/500\n",
      "839/856 [============================>.] - ETA: 0s - loss: 0.0867 - accuracy: 0.7267\n",
      "Epoch 8: val_accuracy did not improve from 0.78837\n",
      "856/856 [==============================] - 2s 2ms/step - loss: 0.0867 - accuracy: 0.7264 - val_loss: 0.0809 - val_accuracy: 0.7762 - lr: 1.0000e-05\n",
      "Epoch 9/500\n",
      "836/856 [============================>.] - ETA: 0s - loss: 0.0858 - accuracy: 0.7271\n",
      "Epoch 9: val_accuracy improved from 0.78837 to 0.78853, saving model to models_backup/model-0.7885.h5\n",
      "856/856 [==============================] - 2s 2ms/step - loss: 0.0858 - accuracy: 0.7273 - val_loss: 0.0802 - val_accuracy: 0.7885 - lr: 1.0000e-05\n",
      "Epoch 10/500\n",
      "844/856 [============================>.] - ETA: 0s - loss: 0.0850 - accuracy: 0.7318\n",
      "Epoch 10: val_accuracy did not improve from 0.78853\n",
      "856/856 [==============================] - 2s 2ms/step - loss: 0.0849 - accuracy: 0.7316 - val_loss: 0.0795 - val_accuracy: 0.7709 - lr: 1.0000e-05\n",
      "Epoch 11/500\n",
      "836/856 [============================>.] - ETA: 0s - loss: 0.0841 - accuracy: 0.7376\n",
      "Epoch 11: val_accuracy improved from 0.78853 to 0.78902, saving model to models_backup/model-0.7890.h5\n",
      "856/856 [==============================] - 2s 2ms/step - loss: 0.0841 - accuracy: 0.7377 - val_loss: 0.0789 - val_accuracy: 0.7890 - lr: 1.0000e-05\n",
      "Epoch 12/500\n",
      "840/856 [============================>.] - ETA: 0s - loss: 0.0832 - accuracy: 0.7388\n",
      "Epoch 12: val_accuracy improved from 0.78902 to 0.79198, saving model to models_backup/model-0.7920.h5\n",
      "856/856 [==============================] - 2s 2ms/step - loss: 0.0832 - accuracy: 0.7390 - val_loss: 0.0782 - val_accuracy: 0.7920 - lr: 1.0000e-05\n",
      "Epoch 13/500\n",
      "849/856 [============================>.] - ETA: 0s - loss: 0.0825 - accuracy: 0.7419\n",
      "Epoch 13: val_accuracy did not improve from 0.79198\n",
      "856/856 [==============================] - 2s 2ms/step - loss: 0.0825 - accuracy: 0.7420 - val_loss: 0.0775 - val_accuracy: 0.7826 - lr: 1.0000e-05\n",
      "Epoch 14/500\n",
      "856/856 [==============================] - ETA: 0s - loss: 0.0817 - accuracy: 0.7437\n",
      "Epoch 14: val_accuracy improved from 0.79198 to 0.79264, saving model to models_backup/model-0.7926.h5\n",
      "856/856 [==============================] - 2s 2ms/step - loss: 0.0817 - accuracy: 0.7437 - val_loss: 0.0770 - val_accuracy: 0.7926 - lr: 1.0000e-05\n",
      "Epoch 15/500\n",
      "845/856 [============================>.] - ETA: 0s - loss: 0.0812 - accuracy: 0.7444\n",
      "Epoch 15: val_accuracy did not improve from 0.79264\n",
      "856/856 [==============================] - 2s 2ms/step - loss: 0.0811 - accuracy: 0.7448 - val_loss: 0.0765 - val_accuracy: 0.7803 - lr: 1.0000e-05\n",
      "Epoch 16/500\n",
      "849/856 [============================>.] - ETA: 0s - loss: 0.0806 - accuracy: 0.7435\n",
      "Epoch 16: val_accuracy did not improve from 0.79264\n",
      "856/856 [==============================] - 2s 2ms/step - loss: 0.0806 - accuracy: 0.7435 - val_loss: 0.0762 - val_accuracy: 0.7898 - lr: 1.0000e-05\n",
      "Epoch 17/500\n",
      "854/856 [============================>.] - ETA: 0s - loss: 0.0800 - accuracy: 0.7472\n",
      "Epoch 17: val_accuracy did not improve from 0.79264\n",
      "856/856 [==============================] - 2s 2ms/step - loss: 0.0801 - accuracy: 0.7470 - val_loss: 0.0759 - val_accuracy: 0.7747 - lr: 1.0000e-05\n",
      "Epoch 18/500\n",
      "846/856 [============================>.] - ETA: 0s - loss: 0.0796 - accuracy: 0.7443\n",
      "Epoch 18: val_accuracy improved from 0.79264 to 0.79790, saving model to models_backup/model-0.7979.h5\n",
      "856/856 [==============================] - 2s 2ms/step - loss: 0.0796 - accuracy: 0.7444 - val_loss: 0.0757 - val_accuracy: 0.7979 - lr: 1.0000e-05\n",
      "Epoch 19/500\n",
      "846/856 [============================>.] - ETA: 0s - loss: 0.0793 - accuracy: 0.7463\n",
      "Epoch 19: val_accuracy did not improve from 0.79790\n",
      "856/856 [==============================] - 2s 2ms/step - loss: 0.0793 - accuracy: 0.7463 - val_loss: 0.0755 - val_accuracy: 0.7846 - lr: 1.0000e-05\n",
      "Epoch 20/500\n",
      "849/856 [============================>.] - ETA: 0s - loss: 0.0789 - accuracy: 0.7460\n",
      "Epoch 20: val_accuracy did not improve from 0.79790\n",
      "856/856 [==============================] - 2s 2ms/step - loss: 0.0789 - accuracy: 0.7459 - val_loss: 0.0752 - val_accuracy: 0.7966 - lr: 1.0000e-05\n",
      "Epoch 21/500\n",
      "842/856 [============================>.] - ETA: 0s - loss: 0.0787 - accuracy: 0.7478\n",
      "Epoch 21: val_accuracy did not improve from 0.79790\n",
      "856/856 [==============================] - 2s 2ms/step - loss: 0.0787 - accuracy: 0.7477 - val_loss: 0.0750 - val_accuracy: 0.7831 - lr: 1.0000e-05\n",
      "Epoch 22/500\n",
      "835/856 [============================>.] - ETA: 0s - loss: 0.0784 - accuracy: 0.7459\n",
      "Epoch 22: val_accuracy did not improve from 0.79790\n",
      "856/856 [==============================] - 2s 3ms/step - loss: 0.0784 - accuracy: 0.7455 - val_loss: 0.0747 - val_accuracy: 0.7742 - lr: 1.0000e-05\n",
      "Epoch 23/500\n",
      "855/856 [============================>.] - ETA: 0s - loss: 0.0781 - accuracy: 0.7492\n",
      "Epoch 23: val_accuracy did not improve from 0.79790\n",
      "856/856 [==============================] - 2s 2ms/step - loss: 0.0781 - accuracy: 0.7491 - val_loss: 0.0746 - val_accuracy: 0.7941 - lr: 1.0000e-05\n",
      "Epoch 24/500\n",
      "840/856 [============================>.] - ETA: 0s - loss: 0.0779 - accuracy: 0.7483\n",
      "Epoch 24: val_accuracy did not improve from 0.79790\n",
      "856/856 [==============================] - 2s 2ms/step - loss: 0.0779 - accuracy: 0.7482 - val_loss: 0.0743 - val_accuracy: 0.7861 - lr: 1.0000e-05\n",
      "Epoch 25/500\n",
      "852/856 [============================>.] - ETA: 0s - loss: 0.0775 - accuracy: 0.7497\n",
      "Epoch 25: val_accuracy did not improve from 0.79790\n",
      "856/856 [==============================] - 2s 2ms/step - loss: 0.0775 - accuracy: 0.7497 - val_loss: 0.0742 - val_accuracy: 0.7959 - lr: 1.0000e-05\n",
      "Epoch 26/500\n",
      "851/856 [============================>.] - ETA: 0s - loss: 0.0773 - accuracy: 0.7510\n",
      "Epoch 26: val_accuracy did not improve from 0.79790\n",
      "856/856 [==============================] - 2s 2ms/step - loss: 0.0773 - accuracy: 0.7506 - val_loss: 0.0740 - val_accuracy: 0.7898 - lr: 1.0000e-05\n"
     ]
    },
    {
     "name": "stdout",
     "output_type": "stream",
     "text": [
      "Epoch 27/500\n",
      "850/856 [============================>.] - ETA: 0s - loss: 0.0771 - accuracy: 0.7489\n",
      "Epoch 27: val_accuracy improved from 0.79790 to 0.80891, saving model to models_backup/model-0.8089.h5\n",
      "856/856 [==============================] - 2s 2ms/step - loss: 0.0770 - accuracy: 0.7493 - val_loss: 0.0739 - val_accuracy: 0.8089 - lr: 1.0000e-05\n",
      "Epoch 28/500\n",
      "836/856 [============================>.] - ETA: 0s - loss: 0.0767 - accuracy: 0.7540\n",
      "Epoch 28: val_accuracy did not improve from 0.80891\n",
      "856/856 [==============================] - 2s 2ms/step - loss: 0.0767 - accuracy: 0.7535 - val_loss: 0.0738 - val_accuracy: 0.7864 - lr: 1.0000e-05\n",
      "Epoch 29/500\n",
      "855/856 [============================>.] - ETA: 0s - loss: 0.0766 - accuracy: 0.7526\n",
      "Epoch 29: val_accuracy did not improve from 0.80891\n",
      "856/856 [==============================] - 2s 2ms/step - loss: 0.0766 - accuracy: 0.7525 - val_loss: 0.0736 - val_accuracy: 0.7882 - lr: 1.0000e-05\n",
      "Epoch 30/500\n",
      "849/856 [============================>.] - ETA: 0s - loss: 0.0765 - accuracy: 0.7510\n",
      "Epoch 30: val_accuracy did not improve from 0.80891\n",
      "856/856 [==============================] - 2s 2ms/step - loss: 0.0765 - accuracy: 0.7512 - val_loss: 0.0734 - val_accuracy: 0.8028 - lr: 1.0000e-05\n",
      "Epoch 31/500\n",
      "842/856 [============================>.] - ETA: 0s - loss: 0.0762 - accuracy: 0.7542\n",
      "Epoch 31: val_accuracy did not improve from 0.80891\n",
      "856/856 [==============================] - 2s 2ms/step - loss: 0.0763 - accuracy: 0.7542 - val_loss: 0.0732 - val_accuracy: 0.7963 - lr: 1.0000e-05\n",
      "Epoch 32/500\n",
      "838/856 [============================>.] - ETA: 0s - loss: 0.0761 - accuracy: 0.7531\n",
      "Epoch 32: val_accuracy did not improve from 0.80891\n",
      "856/856 [==============================] - 2s 2ms/step - loss: 0.0760 - accuracy: 0.7536 - val_loss: 0.0731 - val_accuracy: 0.7979 - lr: 1.0000e-05\n",
      "Epoch 33/500\n",
      "852/856 [============================>.] - ETA: 0s - loss: 0.0759 - accuracy: 0.7555\n",
      "Epoch 33: val_accuracy did not improve from 0.80891\n",
      "856/856 [==============================] - 2s 2ms/step - loss: 0.0759 - accuracy: 0.7553 - val_loss: 0.0729 - val_accuracy: 0.8046 - lr: 1.0000e-05\n",
      "Epoch 34/500\n",
      "838/856 [============================>.] - ETA: 0s - loss: 0.0757 - accuracy: 0.7568\n",
      "Epoch 34: val_accuracy did not improve from 0.80891\n",
      "856/856 [==============================] - 2s 2ms/step - loss: 0.0756 - accuracy: 0.7570 - val_loss: 0.0728 - val_accuracy: 0.8032 - lr: 1.0000e-05\n",
      "Epoch 35/500\n",
      "838/856 [============================>.] - ETA: 0s - loss: 0.0755 - accuracy: 0.7576\n",
      "Epoch 35: val_accuracy did not improve from 0.80891\n",
      "856/856 [==============================] - 2s 2ms/step - loss: 0.0755 - accuracy: 0.7575 - val_loss: 0.0726 - val_accuracy: 0.8036 - lr: 1.0000e-05\n",
      "Epoch 36/500\n",
      "852/856 [============================>.] - ETA: 0s - loss: 0.0753 - accuracy: 0.7576\n",
      "Epoch 36: val_accuracy did not improve from 0.80891\n",
      "856/856 [==============================] - 2s 2ms/step - loss: 0.0754 - accuracy: 0.7576 - val_loss: 0.0725 - val_accuracy: 0.8022 - lr: 1.0000e-05\n",
      "Epoch 37/500\n",
      "853/856 [============================>.] - ETA: 0s - loss: 0.0752 - accuracy: 0.7576\n",
      "Epoch 37: val_accuracy did not improve from 0.80891\n",
      "856/856 [==============================] - 2s 2ms/step - loss: 0.0752 - accuracy: 0.7575 - val_loss: 0.0722 - val_accuracy: 0.8048 - lr: 1.0000e-05\n",
      "Epoch 38/500\n",
      "842/856 [============================>.] - ETA: 0s - loss: 0.0749 - accuracy: 0.7590\n",
      "Epoch 38: val_accuracy did not improve from 0.80891\n",
      "856/856 [==============================] - 2s 2ms/step - loss: 0.0750 - accuracy: 0.7587 - val_loss: 0.0721 - val_accuracy: 0.8055 - lr: 1.0000e-05\n",
      "Epoch 39/500\n",
      "846/856 [============================>.] - ETA: 0s - loss: 0.0749 - accuracy: 0.7581\n",
      "Epoch 39: val_accuracy did not improve from 0.80891\n",
      "856/856 [==============================] - 2s 2ms/step - loss: 0.0749 - accuracy: 0.7583 - val_loss: 0.0720 - val_accuracy: 0.8030 - lr: 1.0000e-05\n",
      "Epoch 40/500\n",
      "855/856 [============================>.] - ETA: 0s - loss: 0.0747 - accuracy: 0.7574\n",
      "Epoch 40: val_accuracy did not improve from 0.80891\n",
      "856/856 [==============================] - 2s 2ms/step - loss: 0.0747 - accuracy: 0.7574 - val_loss: 0.0718 - val_accuracy: 0.8009 - lr: 1.0000e-05\n",
      "Epoch 41/500\n",
      "847/856 [============================>.] - ETA: 0s - loss: 0.0745 - accuracy: 0.7578\n",
      "Epoch 41: val_accuracy did not improve from 0.80891\n",
      "856/856 [==============================] - 2s 2ms/step - loss: 0.0745 - accuracy: 0.7577 - val_loss: 0.0716 - val_accuracy: 0.8068 - lr: 1.0000e-05\n",
      "Epoch 42/500\n",
      "853/856 [============================>.] - ETA: 0s - loss: 0.0743 - accuracy: 0.7578\n",
      "Epoch 42: val_accuracy did not improve from 0.80891\n",
      "856/856 [==============================] - 2s 2ms/step - loss: 0.0743 - accuracy: 0.7577 - val_loss: 0.0714 - val_accuracy: 0.8020 - lr: 1.0000e-05\n",
      "Epoch 43/500\n",
      "855/856 [============================>.] - ETA: 0s - loss: 0.0742 - accuracy: 0.7578\n",
      "Epoch 43: val_accuracy did not improve from 0.80891\n",
      "856/856 [==============================] - 2s 2ms/step - loss: 0.0742 - accuracy: 0.7578 - val_loss: 0.0712 - val_accuracy: 0.7941 - lr: 1.0000e-05\n",
      "Epoch 44/500\n",
      "838/856 [============================>.] - ETA: 0s - loss: 0.0740 - accuracy: 0.7556\n",
      "Epoch 44: val_accuracy improved from 0.80891 to 0.80940, saving model to models_backup/model-0.8094.h5\n",
      "856/856 [==============================] - 2s 2ms/step - loss: 0.0740 - accuracy: 0.7556 - val_loss: 0.0710 - val_accuracy: 0.8094 - lr: 1.0000e-05\n",
      "Epoch 45/500\n",
      "843/856 [============================>.] - ETA: 0s - loss: 0.0738 - accuracy: 0.7563\n",
      "Epoch 45: val_accuracy did not improve from 0.80940\n",
      "856/856 [==============================] - 2s 2ms/step - loss: 0.0738 - accuracy: 0.7562 - val_loss: 0.0708 - val_accuracy: 0.8082 - lr: 1.0000e-05\n",
      "Epoch 46/500\n",
      "836/856 [============================>.] - ETA: 0s - loss: 0.0737 - accuracy: 0.7583\n",
      "Epoch 46: val_accuracy did not improve from 0.80940\n",
      "856/856 [==============================] - 2s 2ms/step - loss: 0.0737 - accuracy: 0.7580 - val_loss: 0.0704 - val_accuracy: 0.7995 - lr: 1.0000e-05\n"
     ]
    }
   ],
   "source": [
    "X_train, X_test, y_train, y_test = train_test_split(xTrain_for_model_charge, yTrain, test_size=0.1)  # 0.2\n",
    "\n",
    "history = model.fit(\n",
    "    X_train,\n",
    "    y_train,\n",
    "    validation_data=(X_test, y_test),\n",
    "    epochs=500,\n",
    "    batch_size=64,\n",
    "    verbose=1,\n",
    "    callbacks=get_callbacks()\n",
    ")"
   ]
  },
  {
   "cell_type": "code",
   "execution_count": 46,
   "metadata": {},
   "outputs": [
    {
     "name": "stdout",
     "output_type": "stream",
     "text": [
      "dict_keys(['loss', 'accuracy', 'val_loss', 'val_accuracy', 'lr'])\n"
     ]
    },
    {
     "data": {
      "image/png": "[encoded data removed]",
      "text/plain": [
       "<Figure size 640x480 with 1 Axes>"
      ]
     },
     "metadata": {},
     "output_type": "display_data"
    }
   ],
   "source": [
    "plot_history(history)"
   ]
  },
  {
   "cell_type": "code",
   "execution_count": 47,
   "metadata": {},
   "outputs": [
    {
     "name": "stdout",
     "output_type": "stream",
     "text": [
      "191/191 [==============================] - 0s 1ms/step - loss: 0.0721 - accuracy: 0.8055\n",
      "Evaluate train acc:  0.8054551482200623\n"
     ]
    }
   ],
   "source": [
    "test_loss, test_acc = model.evaluate(X_test, y_test)\n",
    "print('Evaluate train acc: ', test_acc)"
   ]
  },
  {
   "cell_type": "code",
   "execution_count": 63,
   "metadata": {},
   "outputs": [],
   "source": [
    "@count_elapsed_time\n",
    "def predecir(d):\n",
    "    y_final = model.predict(d)\n",
    "    y_final = np.round(y_final, 0).astype(int)\n",
    "    return y_final"
   ]
  },
  {
   "cell_type": "code",
   "execution_count": 64,
   "metadata": {},
   "outputs": [
    {
     "name": "stdout",
     "output_type": "stream",
     "text": [
      "Tiempo transcurrido (en segundos): 1.2986009120941162\n",
      "Aciertos train 90.36%\n"
     ]
    }
   ],
   "source": [
    "y_final = predecir(X_train)\n",
    "aciertos = calcular_porcentajes_aciertos(y_final, y_train)[2]\n",
    "print(\"Aciertos train\", aciertos)"
   ]
  },
  {
   "cell_type": "code",
   "execution_count": 65,
   "metadata": {},
   "outputs": [
    {
     "name": "stdout",
     "output_type": "stream",
     "text": [
      "Tiempo transcurrido (en segundos): 0.17863035202026367\n",
      "Aciertos validacion 90.27%\n"
     ]
    }
   ],
   "source": [
    "y_final = predecir(X_test)\n",
    "aciertos = calcular_porcentajes_aciertos(y_final, y_test)[2]\n",
    "print(\"Aciertos validacion\", aciertos)"
   ]
  },
  {
   "cell_type": "code",
   "execution_count": 66,
   "metadata": {},
   "outputs": [
    {
     "name": "stdout",
     "output_type": "stream",
     "text": [
      "Tiempo transcurrido (en segundos): 0.06654071807861328\n",
      "Aciertos test 90.09%\n"
     ]
    }
   ],
   "source": [
    "y_final = predecir(xTest_for_model_charge)\n",
    "aciertos = calcular_porcentajes_aciertos(y_final, yTest)[2]\n",
    "print(\"Aciertos test\", aciertos)"
   ]
  },
  {
   "cell_type": "code",
   "execution_count": null,
   "metadata": {},
   "outputs": [],
   "source": []
  },
  {
   "cell_type": "code",
   "execution_count": null,
   "metadata": {},
   "outputs": [],
   "source": []
  },
  {
   "cell_type": "code",
   "execution_count": null,
   "metadata": {},
   "outputs": [],
   "source": []
  },
  {
   "cell_type": "code",
   "execution_count": null,
   "metadata": {},
   "outputs": [],
   "source": []
  },
  {
   "cell_type": "code",
   "execution_count": null,
   "metadata": {},
   "outputs": [],
   "source": []
  },
  {
   "cell_type": "markdown",
   "metadata": {},
   "source": [
    "# 4.2) Modelo RNA medio"
   ]
  },
  {
   "cell_type": "code",
   "execution_count": 85,
   "metadata": {},
   "outputs": [],
   "source": [
    "def modelo_simple(cantidad_entradas, cantidad_salidas):\n",
    "    model = Sequential(name=\"Redsimple\")  # los nombres van sin espacios\n",
    "    model.add(Dense(8 * 4, activation=\"relu\",  input_shape=(cantidad_entradas,)) ) \n",
    "    model.add(Dense(16*4, activation='relu'))\n",
    "    model.add(Dense(16*8, activation='relu'))\n",
    "    model.add(Dense(32*8, activation='relu'))\n",
    "    model.add(Reshape((32, 8)))\n",
    "\n",
    "    model.add(UpSampling1D(size=3))\n",
    "    model.add(Conv1D(12, kernel_size=3, padding=\"same\", activation='relu'))\n",
    "    model.add(Conv1D(12, kernel_size=3, padding=\"same\", activation='relu'))\n",
    "    model.add(Conv1D(12, kernel_size=3, padding=\"same\", activation='relu'))\n",
    "    model.add(MaxPooling1D(pool_size=3, strides=1, padding='valid'))\n",
    "\n",
    "    model.add(Conv1D(24, kernel_size=3, padding=\"same\", activation='relu'))\n",
    "    model.add(Conv1D(24, kernel_size=3, padding=\"same\", activation='relu'))\n",
    "    model.add(Conv1D(32, kernel_size=3, padding=\"same\", activation='relu'))\n",
    "    model.add(MaxPooling1D(pool_size=2, strides=1, padding='valid'))\n",
    "\n",
    "    model.add(Conv1D(32, kernel_size=3, padding=\"same\", activation='relu'))\n",
    "    model.add(Conv1D(32, kernel_size=3, padding=\"same\", activation='relu'))\n",
    "    model.add(MaxPooling1D(pool_size=3, strides=1, padding='valid'))\n",
    "\n",
    "    model.add(Conv1D(24, kernel_size=3, padding=\"same\", activation='relu'))\n",
    "    model.add(Conv1D(24, kernel_size=3, padding=\"same\", activation='relu'))\n",
    "    model.add(Conv1D(16, kernel_size=3, padding=\"same\", activation='relu'))\n",
    "    model.add(MaxPooling1D(pool_size=3, strides=1, padding='valid'))\n",
    "\n",
    "    model.add(Conv1D(16, kernel_size=3, padding=\"same\", activation='relu'))\n",
    "    model.add(Conv1D(8, kernel_size=3, padding=\"same\", activation='relu'))\n",
    "    model.add(MaxPooling1D(pool_size=2, strides=1, padding='valid'))\n",
    "\n",
    "    model.add(Dense(24, activation=\"relu\"))\n",
    "    model.add(Dense(16, activation=\"relu\"))\n",
    "    model.add(MaxPooling1D(pool_size=2, strides=1, padding='valid'))\n",
    "\n",
    "    model.add(Dropout(0.5))\n",
    "\n",
    "    model.add(Dense(128, activation=\"relu\"))\n",
    "    model.add(Dense(64, activation=\"relu\"))\n",
    "    model.add(Dense(32, activation='relu'))\n",
    "\n",
    "    model.add(GlobalAveragePooling1D())\n",
    "\n",
    "    model.add(Flatten())\n",
    "\n",
    "    model.add(Dense(cantidad_salidas, activation=\"softmax\", name='output_layer'))\n",
    "\n",
    "    return model"
   ]
  },
  {
   "cell_type": "code",
   "execution_count": 86,
   "metadata": {},
   "outputs": [
    {
     "name": "stdout",
     "output_type": "stream",
     "text": [
      "Model: \"Redsimple\"\n",
      "_________________________________________________________________\n",
      " Layer (type)                Output Shape              Param #   \n",
      "=================================================================\n",
      " dense_19 (Dense)            (None, 32)                512       \n",
      "                                                                 \n",
      " dense_20 (Dense)            (None, 64)                2112      \n",
      "                                                                 \n",
      " dense_21 (Dense)            (None, 128)               8320      \n",
      "                                                                 \n",
      " dense_22 (Dense)            (None, 256)               33024     \n",
      "                                                                 \n",
      " reshape_2 (Reshape)         (None, 32, 8)             0         \n",
      "                                                                 \n",
      " up_sampling1d_2 (UpSampling  (None, 96, 8)            0         \n",
      " 1D)                                                             \n",
      "                                                                 \n",
      " conv1d_26 (Conv1D)          (None, 96, 12)            300       \n",
      "                                                                 \n",
      " conv1d_27 (Conv1D)          (None, 96, 12)            444       \n",
      "                                                                 \n",
      " conv1d_28 (Conv1D)          (None, 96, 12)            444       \n",
      "                                                                 \n",
      " max_pooling1d_12 (MaxPoolin  (None, 94, 12)           0         \n",
      " g1D)                                                            \n",
      "                                                                 \n",
      " conv1d_29 (Conv1D)          (None, 94, 24)            888       \n",
      "                                                                 \n",
      " conv1d_30 (Conv1D)          (None, 94, 24)            1752      \n",
      "                                                                 \n",
      " conv1d_31 (Conv1D)          (None, 94, 32)            2336      \n",
      "                                                                 \n",
      " max_pooling1d_13 (MaxPoolin  (None, 93, 32)           0         \n",
      " g1D)                                                            \n",
      "                                                                 \n",
      " conv1d_32 (Conv1D)          (None, 93, 32)            3104      \n",
      "                                                                 \n",
      " conv1d_33 (Conv1D)          (None, 93, 32)            3104      \n",
      "                                                                 \n",
      " max_pooling1d_14 (MaxPoolin  (None, 91, 32)           0         \n",
      " g1D)                                                            \n",
      "                                                                 \n",
      " conv1d_34 (Conv1D)          (None, 91, 24)            2328      \n",
      "                                                                 \n",
      " conv1d_35 (Conv1D)          (None, 91, 24)            1752      \n",
      "                                                                 \n",
      " conv1d_36 (Conv1D)          (None, 91, 16)            1168      \n",
      "                                                                 \n",
      " max_pooling1d_15 (MaxPoolin  (None, 89, 16)           0         \n",
      " g1D)                                                            \n",
      "                                                                 \n",
      " conv1d_37 (Conv1D)          (None, 89, 16)            784       \n",
      "                                                                 \n",
      " conv1d_38 (Conv1D)          (None, 89, 8)             392       \n",
      "                                                                 \n",
      " max_pooling1d_16 (MaxPoolin  (None, 88, 8)            0         \n",
      " g1D)                                                            \n",
      "                                                                 \n",
      " dense_23 (Dense)            (None, 88, 24)            216       \n",
      "                                                                 \n",
      " dense_24 (Dense)            (None, 88, 16)            400       \n",
      "                                                                 \n",
      " max_pooling1d_17 (MaxPoolin  (None, 87, 16)           0         \n",
      " g1D)                                                            \n",
      "                                                                 \n",
      " dropout_3 (Dropout)         (None, 87, 16)            0         \n",
      "                                                                 \n",
      " dense_25 (Dense)            (None, 87, 128)           2176      \n",
      "                                                                 \n",
      " dense_26 (Dense)            (None, 87, 64)            8256      \n",
      "                                                                 \n",
      " dense_27 (Dense)            (None, 87, 32)            2080      \n",
      "                                                                 \n",
      " global_average_pooling1d_2   (None, 32)               0         \n",
      " (GlobalAveragePooling1D)                                        \n",
      "                                                                 \n",
      " flatten_2 (Flatten)         (None, 32)                0         \n",
      "                                                                 \n",
      " output_layer (Dense)        (None, 11)                363       \n",
      "                                                                 \n",
      "=================================================================\n",
      "Total params: 76,255\n",
      "Trainable params: 76,255\n",
      "Non-trainable params: 0\n",
      "_________________________________________________________________\n"
     ]
    }
   ],
   "source": [
    "cantidad_entradas = 15\n",
    "cantidad_salidas = 11\n",
    "\n",
    "model = modelo_simple(cantidad_entradas, cantidad_salidas)\n",
    "\n",
    "model.summary()"
   ]
  },
  {
   "cell_type": "code",
   "execution_count": 87,
   "metadata": {},
   "outputs": [],
   "source": [
    "model.compile(optimizer=get_optimizador(),\n",
    "              loss='mean_squared_error',  # categorical_crossentropy sparse_categorical_crossentropy mean_squared_error\n",
    "              metrics=['accuracy'])"
   ]
  },
  {
   "cell_type": "code",
   "execution_count": null,
   "metadata": {},
   "outputs": [],
   "source": [
    "X_train, X_test, y_train, y_test = train_test_split(xTrain_for_model_charge, yTrain, test_size=0.1)  # 0.2"
   ]
  },
  {
   "cell_type": "code",
   "execution_count": 94,
   "metadata": {},
   "outputs": [
    {
     "name": "stdout",
     "output_type": "stream",
     "text": [
      "Epoch 1/500\n",
      "851/856 [============================>.] - ETA: 0s - loss: 0.0852 - accuracy: 0.7797\n",
      "Epoch 1: val_accuracy improved from -inf to 0.24121, saving model to models_backup/model-0.2412.h5\n",
      "856/856 [==============================] - 9s 10ms/step - loss: 0.0852 - accuracy: 0.7800 - val_loss: 0.1434 - val_accuracy: 0.2412 - lr: 1.0000e-05\n",
      "Epoch 2/500\n",
      "852/856 [============================>.] - ETA: 0s - loss: 0.0839 - accuracy: 0.7758\n",
      "Epoch 2: val_accuracy did not improve from 0.24121\n",
      "856/856 [==============================] - 9s 10ms/step - loss: 0.0840 - accuracy: 0.7758 - val_loss: 0.1443 - val_accuracy: 0.2412 - lr: 1.0000e-05\n",
      "Epoch 3/500\n",
      "855/856 [============================>.] - ETA: 0s - loss: 0.0831 - accuracy: 0.7745\n",
      "Epoch 3: val_accuracy did not improve from 0.24121\n",
      "856/856 [==============================] - 8s 10ms/step - loss: 0.0831 - accuracy: 0.7745 - val_loss: 0.1459 - val_accuracy: 0.2412 - lr: 1.0000e-05\n",
      "Epoch 4/500\n",
      "856/856 [==============================] - ETA: 0s - loss: 0.0824 - accuracy: 0.7745\n",
      "Epoch 4: val_accuracy did not improve from 0.24121\n",
      "856/856 [==============================] - 8s 10ms/step - loss: 0.0824 - accuracy: 0.7745 - val_loss: 0.1372 - val_accuracy: 0.2412 - lr: 1.0000e-05\n",
      "Epoch 5/500\n",
      "854/856 [============================>.] - ETA: 0s - loss: 0.0818 - accuracy: 0.7737\n",
      "Epoch 5: val_accuracy did not improve from 0.24121\n",
      "856/856 [==============================] - 9s 10ms/step - loss: 0.0818 - accuracy: 0.7736 - val_loss: 0.1255 - val_accuracy: 0.2412 - lr: 1.0000e-05\n",
      "Epoch 6/500\n",
      "855/856 [============================>.] - ETA: 0s - loss: 0.0813 - accuracy: 0.7736\n",
      "Epoch 6: val_accuracy did not improve from 0.24121\n",
      "856/856 [==============================] - 8s 10ms/step - loss: 0.0813 - accuracy: 0.7736 - val_loss: 0.1241 - val_accuracy: 0.2412 - lr: 1.0000e-05\n",
      "Epoch 7/500\n",
      "851/856 [============================>.] - ETA: 0s - loss: 0.0809 - accuracy: 0.7750\n",
      "Epoch 7: val_accuracy improved from 0.24121 to 0.63720, saving model to models_backup/model-0.6372.h5\n",
      "856/856 [==============================] - 9s 10ms/step - loss: 0.0809 - accuracy: 0.7752 - val_loss: 0.0892 - val_accuracy: 0.6372 - lr: 1.0000e-05\n",
      "Epoch 8/500\n",
      "854/856 [============================>.] - ETA: 0s - loss: 0.0804 - accuracy: 0.7756\n",
      "Epoch 8: val_accuracy improved from 0.63720 to 0.69044, saving model to models_backup/model-0.6904.h5\n",
      "856/856 [==============================] - 9s 10ms/step - loss: 0.0804 - accuracy: 0.7756 - val_loss: 0.0840 - val_accuracy: 0.6904 - lr: 1.0000e-05\n",
      "Epoch 9/500\n",
      "854/856 [============================>.] - ETA: 0s - loss: 0.0799 - accuracy: 0.7770\n",
      "Epoch 9: val_accuracy improved from 0.69044 to 0.71114, saving model to models_backup/model-0.7111.h5\n",
      "856/856 [==============================] - 8s 10ms/step - loss: 0.0800 - accuracy: 0.7769 - val_loss: 0.0815 - val_accuracy: 0.7111 - lr: 1.0000e-05\n"
     ]
    }
   ],
   "source": [
    "history = model.fit(\n",
    "    X_train,\n",
    "    y_train,\n",
    "    validation_data=(X_test, y_test),\n",
    "    epochs=500,\n",
    "    batch_size=64,\n",
    "    verbose=1,\n",
    "    callbacks=get_callbacks()\n",
    ")\n",
    "\n"
   ]
  },
  {
   "cell_type": "code",
   "execution_count": 89,
   "metadata": {},
   "outputs": [
    {
     "name": "stdout",
     "output_type": "stream",
     "text": [
      "dict_keys(['loss', 'accuracy', 'val_loss', 'val_accuracy', 'lr'])\n"
     ]
    },
    {
     "data": {
      "image/png": "[encoded data removed]",
      "text/plain": [
       "<Figure size 640x480 with 1 Axes>"
      ]
     },
     "metadata": {},
     "output_type": "display_data"
    }
   ],
   "source": [
    "plot_history(history)"
   ]
  },
  {
   "cell_type": "code",
   "execution_count": 90,
   "metadata": {},
   "outputs": [],
   "source": [
    "#test_loss, test_acc = model.evaluate(X_test, y_test)\n",
    "#print('Evaluate train acc: ', test_acc)"
   ]
  },
  {
   "cell_type": "code",
   "execution_count": 91,
   "metadata": {},
   "outputs": [
    {
     "name": "stdout",
     "output_type": "stream",
     "text": [
      "Tiempo transcurrido (en segundos): 6.672495365142822\n",
      "Aciertos train 78.63%\n"
     ]
    }
   ],
   "source": [
    "y_final = predecir(X_train)\n",
    "aciertos = calcular_porcentajes_aciertos(y_final, y_train)[2]\n",
    "print(\"Aciertos train\", aciertos)"
   ]
  },
  {
   "cell_type": "code",
   "execution_count": 92,
   "metadata": {},
   "outputs": [
    {
     "name": "stdout",
     "output_type": "stream",
     "text": [
      "Tiempo transcurrido (en segundos): 0.6445150375366211\n",
      "Aciertos validacion 78.72%\n"
     ]
    }
   ],
   "source": [
    "y_final = predecir(X_test)\n",
    "aciertos = calcular_porcentajes_aciertos(y_final, y_test)[2]\n",
    "print(\"Aciertos validacion\", aciertos)"
   ]
  },
  {
   "cell_type": "code",
   "execution_count": 93,
   "metadata": {},
   "outputs": [
    {
     "name": "stdout",
     "output_type": "stream",
     "text": [
      "Tiempo transcurrido (en segundos): 0.33283400535583496\n",
      "Aciertos test 80.09%\n"
     ]
    }
   ],
   "source": [
    "y_final = predecir(xTest_for_model_charge)\n",
    "aciertos = calcular_porcentajes_aciertos(y_final, yTest)[2]\n",
    "print(\"Aciertos test\", aciertos)"
   ]
  },
  {
   "cell_type": "code",
   "execution_count": null,
   "metadata": {},
   "outputs": [],
   "source": []
  },
  {
   "cell_type": "code",
   "execution_count": null,
   "metadata": {},
   "outputs": [],
   "source": []
  },
  {
   "cell_type": "code",
   "execution_count": null,
   "metadata": {},
   "outputs": [],
   "source": []
  },
  {
   "cell_type": "markdown",
   "metadata": {},
   "source": [
    "# Bibliografia usada"
   ]
  },
  {
   "cell_type": "raw",
   "metadata": {},
   "source": [
    "https://www.analyticsvidhya.com/blog/2021/06/visualizing-sounds-librosa/"
   ]
  },
  {
   "cell_type": "raw",
   "metadata": {},
   "source": [
    "https://www.youtube.com/watch?v=iCwMQJnKk2c\n",
    "https://github.com/musikalkemist/DeepLearningForAudioWithPython\n",
    "https://towardsdatascience.com/extract-features-of-music-75a3f9bc265d\n",
    "https://programmerclick.com/article/4926701185/\n",
    "\n",
    "https://www.cienciadedatos.net/documentos/py19-pca-python.html"
   ]
  },
  {
   "cell_type": "raw",
   "metadata": {},
   "source": []
  },
  {
   "cell_type": "raw",
   "metadata": {},
   "source": []
  }
 ],
 "metadata": {
  "kernelspec": {
   "display_name": "Python 3",
   "language": "python",
   "name": "python3"
  },
  "language_info": {
   "codemirror_mode": {
    "name": "ipython",
    "version": 3
   },
   "file_extension": ".py",
   "mimetype": "text/x-python",
   "name": "python",
   "nbconvert_exporter": "python",
   "pygments_lexer": "ipython3",
   "version": "3.8.10"
  }
 },
 "nbformat": 4,
 "nbformat_minor": 2
}
