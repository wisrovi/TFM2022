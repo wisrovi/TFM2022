{
 "cells": [
  {
   "cell_type": "markdown",
   "metadata": {},
   "source": [
    "# El dataset se puede descargar de: https://www.kaggle.com/datasets/imsparsh/musicnet-dataset"
   ]
  },
  {
   "cell_type": "markdown",
   "metadata": {},
   "source": [
    "Una vez descargado se debe poner en la carpeta /kaggle/input/musicnet-dataset todo el contenido de la descarga"
   ]
  },
  {
   "cell_type": "raw",
   "metadata": {},
   "source": [
    "El dataset tiene dos formatos:\n",
    "\n",
    ".wav: archivo de audio estándar ~ grabación\n",
    "\n",
    ".mid: formato midi (interfaz digital de instrumentos musicales) ( https://en.wikipedia.org/wiki/MIDI )\n",
    "\n",
    "Es un estándar técnico que describe un protocolo de comunicaciones que conecta instrumentos musicales electrónicos. "
   ]
  },
  {
   "cell_type": "markdown",
   "metadata": {},
   "source": [
    "_______________________________"
   ]
  },
  {
   "cell_type": "markdown",
   "metadata": {},
   "source": [
    "Para la ejecucipn de este cuaderno se deben instalar las siguientes librerias (en las versiones establecidas), tal como se muestra a continuacion"
   ]
  },
  {
   "cell_type": "raw",
   "metadata": {},
   "source": [
    "!pip install pandas\n",
    "!pip install librosa==0.8.1\n",
    "!pip install numpy==1.21"
   ]
  },
  {
   "cell_type": "markdown",
   "metadata": {},
   "source": [
    "# importamos las librerias a usar"
   ]
  },
  {
   "cell_type": "code",
   "execution_count": 2,
   "metadata": {},
   "outputs": [],
   "source": [
    "import numpy as np \n",
    "import pandas as pd # data processing, CSV file I/O (e.g. pd.read_csv)\n",
    "\n",
    "import IPython.display as ipd\n",
    "\n",
    "import matplotlib.pyplot as plt\n",
    "plt.figure(figsize=(15,5))\n",
    "\n",
    "import librosa\n",
    "import librosa.display\n",
    "\n",
    "import os"
   ]
  },
  {
   "cell_type": "code",
   "execution_count": 3,
   "metadata": {},
   "outputs": [
    {
     "data": {
      "text/plain": [
       "\"\\nfor dirname, _, filenames in os.walk('/kaggle/input'):\\n    print(dirname)\\n    for id, filename in enumerate(filenames):\\n        print(os.path.join(dirname, filename))\\n        if id > 10:\\n            break\\n            \\n\""
      ]
     },
     "execution_count": 3,
     "metadata": {},
     "output_type": "execute_result"
    }
   ],
   "source": [
    "\"\"\"\n",
    "for dirname, _, filenames in os.walk('/kaggle/input'):\n",
    "    print(dirname)\n",
    "    for id, filename in enumerate(filenames):\n",
    "        print(os.path.join(dirname, filename))\n",
    "        if id > 10:\n",
    "            break\n",
    "            \n",
    "\"\"\""
   ]
  },
  {
   "cell_type": "code",
   "execution_count": null,
   "metadata": {},
   "outputs": [],
   "source": [
    "\n"
   ]
  },
  {
   "cell_type": "code",
   "execution_count": 5,
   "metadata": {},
   "outputs": [
    {
     "ename": "NameError",
     "evalue": "name 'sampling_rate' is not defined",
     "output_type": "error",
     "traceback": [
      "\u001b[0;31m---------------------------------------------------------------------------\u001b[0m",
      "\u001b[0;31mNameError\u001b[0m                                 Traceback (most recent call last)",
      "Input \u001b[0;32mIn [5]\u001b[0m, in \u001b[0;36m<module>\u001b[0;34m\u001b[0m\n\u001b[1;32m     39\u001b[0m         plt\u001b[38;5;241m.\u001b[39mtight_layout()\n\u001b[1;32m     42\u001b[0m wav \u001b[38;5;241m=\u001b[39m Wav()\n\u001b[0;32m---> 43\u001b[0m \u001b[43mwav\u001b[49m\u001b[38;5;241;43m.\u001b[39;49m\u001b[43mcargar\u001b[49m\u001b[43m(\u001b[49m\u001b[38;5;241;43m0\u001b[39;49m\u001b[43m,\u001b[49m\u001b[43m \u001b[49m\u001b[38;5;28;43;01mTrue\u001b[39;49;00m\u001b[43m)\u001b[49m\n",
      "Input \u001b[0;32mIn [5]\u001b[0m, in \u001b[0;36mWav.cargar\u001b[0;34m(self, i, draw)\u001b[0m\n\u001b[1;32m     10\u001b[0m \u001b[38;5;28mself\u001b[39m\u001b[38;5;241m.\u001b[39mdata, \u001b[38;5;28mself\u001b[39m\u001b[38;5;241m.\u001b[39msampling_rate \u001b[38;5;241m=\u001b[39m librosa\u001b[38;5;241m.\u001b[39mload(audio_usar)\n\u001b[1;32m     12\u001b[0m \u001b[38;5;28;01mif\u001b[39;00m draw:\n\u001b[0;32m---> 13\u001b[0m     librosa\u001b[38;5;241m.\u001b[39mdisplay\u001b[38;5;241m.\u001b[39mwaveplot(\u001b[38;5;28mself\u001b[39m\u001b[38;5;241m.\u001b[39mdata, sr\u001b[38;5;241m=\u001b[39m\u001b[43msampling_rate\u001b[49m)\n\u001b[1;32m     14\u001b[0m     plt\u001b[38;5;241m.\u001b[39mtitle(\u001b[38;5;124m\"\u001b[39m\u001b[38;5;124mnormal\u001b[39m\u001b[38;5;124m\"\u001b[39m)\n\u001b[1;32m     15\u001b[0m     plt\u001b[38;5;241m.\u001b[39mshow()\n",
      "\u001b[0;31mNameError\u001b[0m: name 'sampling_rate' is not defined"
     ]
    }
   ],
   "source": [
    "class Wav:\n",
    "    \n",
    "    path_wav=\"/kaggle/input/musicnet-dataset/musicnet/musicnet/train_data/\"\n",
    "    \n",
    "    def __init__(self):\n",
    "        self.file_wav=os.listdir(self.path_wav)\n",
    "    \n",
    "    def cargar(self, i:int, draw=False):\n",
    "        audio_usar = self.path_wav + self.file_wav[i]\n",
    "        self.data, self.sampling_rate = librosa.load(audio_usar)\n",
    "        \n",
    "        if draw:\n",
    "            librosa.display.waveplot(self.data, sr=self.sampling_rate)\n",
    "            plt.title(\"normal\")\n",
    "            plt.show()\n",
    "        \n",
    "        return self.data, self.sampling_rate\n",
    "    \n",
    "    def extraer_espectograma(self):\n",
    "        self.S = librosa.feature.melspectrogram(y=self.data, sr=self.sampling_rate, n_mels=128,fmax=10000)\n",
    "        \n",
    "        \n",
    "        return self.S\n",
    "        \n",
    "    def convertir_db(self, draw=False):\n",
    "        #Convert a power spectrogram (amplitude squared) to decibel (dB) units\n",
    "        self.S_dB = librosa.power_to_db(self.S, ref=np.max)\n",
    "        \n",
    "        if draw:\n",
    "            librosa.display.specshow(self.S_dB, x_axis='time',y_axis='mel', sr=self.sampling_rate,fmax=10000, fmin=200)\n",
    "            self.__prepare_show(\"DB\")\n",
    "            plt.show()\n",
    "            \n",
    "        return self.S_dB\n",
    "    \n",
    "    def __prepare_show(self, title):\n",
    "        plt.colorbar(format='%+2.0f dB')\n",
    "        plt.title(title)\n",
    "        plt.tight_layout()\n",
    "        \n",
    "\n",
    "wav = Wav()\n",
    "wav.cargar(0, True)"
   ]
  },
  {
   "cell_type": "code",
   "execution_count": null,
   "metadata": {},
   "outputs": [],
   "source": [
    "wav.extraer_espectograma()\n",
    "db= wav.convertir_db(True)"
   ]
  },
  {
   "cell_type": "code",
   "execution_count": null,
   "metadata": {},
   "outputs": [],
   "source": []
  },
  {
   "cell_type": "code",
   "execution_count": null,
   "metadata": {},
   "outputs": [],
   "source": []
  },
  {
   "cell_type": "code",
   "execution_count": null,
   "metadata": {},
   "outputs": [],
   "source": []
  },
  {
   "cell_type": "code",
   "execution_count": null,
   "metadata": {},
   "outputs": [],
   "source": []
  },
  {
   "cell_type": "code",
   "execution_count": null,
   "metadata": {},
   "outputs": [],
   "source": []
  },
  {
   "cell_type": "code",
   "execution_count": null,
   "metadata": {},
   "outputs": [],
   "source": []
  },
  {
   "cell_type": "code",
   "execution_count": null,
   "metadata": {},
   "outputs": [],
   "source": []
  }
 ],
 "metadata": {
  "kernelspec": {
   "display_name": "Python 3",
   "language": "python",
   "name": "python3"
  },
  "language_info": {
   "codemirror_mode": {
    "name": "ipython",
    "version": 3
   },
   "file_extension": ".py",
   "mimetype": "text/x-python",
   "name": "python",
   "nbconvert_exporter": "python",
   "pygments_lexer": "ipython3",
   "version": "3.8.10"
  }
 },
 "nbformat": 4,
 "nbformat_minor": 2
}
