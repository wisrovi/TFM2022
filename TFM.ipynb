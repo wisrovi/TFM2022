{
 "cells": [
  {
   "cell_type": "markdown",
   "metadata": {},
   "source": [
    "# El dataset se puede descargar de: https://www.kaggle.com/datasets/imsparsh/musicnet-dataset"
   ]
  },
  {
   "cell_type": "markdown",
   "metadata": {},
   "source": [
    "Una vez descargado se debe poner en la carpeta /kaggle/input/musicnet-dataset todo el contenido de la descarga"
   ]
  },
  {
   "cell_type": "raw",
   "metadata": {},
   "source": [
    "El dataset tiene dos formatos:\n",
    "\n",
    ".wav: archivo de audio estándar ~ grabación\n",
    "\n",
    ".mid: formato midi (interfaz digital de instrumentos musicales) ( https://en.wikipedia.org/wiki/MIDI )\n",
    "\n",
    "Es un estándar técnico que describe un protocolo de comunicaciones que conecta instrumentos musicales electrónicos. "
   ]
  },
  {
   "cell_type": "markdown",
   "metadata": {},
   "source": [
    "_______________________________"
   ]
  },
  {
   "cell_type": "markdown",
   "metadata": {},
   "source": [
    "Para la ejecucipn de este cuaderno se deben instalar las siguientes librerias (en las versiones establecidas), tal como se muestra a continuacion"
   ]
  },
  {
   "cell_type": "raw",
   "metadata": {},
   "source": [
    "!pip install pandas\n",
    "!pip install librosa==0.8.1\n",
    "!pip install numpy==1.21\n",
    "!pip install python_speech_features"
   ]
  },
  {
   "cell_type": "markdown",
   "metadata": {},
   "source": [
    "# 1) Preprocesar datos"
   ]
  },
  {
   "cell_type": "code",
   "execution_count": 1,
   "metadata": {},
   "outputs": [],
   "source": [
    "import numpy as np\n",
    "\n",
    "from libraries.Kaggle_audios import Kaggle_audios\n",
    "from libraries.ProcessAudio import ProcessAudio"
   ]
  },
  {
   "cell_type": "code",
   "execution_count": 4,
   "metadata": {},
   "outputs": [],
   "source": [
    "TIEMPO_SELECCIONADO = 2\n",
    "ARCHIVO_FINAL_TRAIN = \"data/scaler_pca_to_use/train\"\n",
    "ARCHIVO_FINAL_TEST = \"data/scaler_pca_to_use/test\""
   ]
  },
  {
   "cell_type": "code",
   "execution_count": 2,
   "metadata": {},
   "outputs": [],
   "source": [
    "def prepare_data_tensorflow(data):\n",
    "    train = data[:, 1:-11]\n",
    "    instrument_list = data[:,-11:]\n",
    "    X = np.array(train, dtype=float)\n",
    "    y = instrument_list\n",
    "    return X, y\n",
    "\n",
    "def aplicando_pca(scaler_pca, name_file, dataX, dataY):\n",
    "    x_for_model = scaler_pca.transform(X=dataX)\n",
    "    # print(\"Original\", X.shape)\n",
    "    np.savez_compressed(name_file + \".npz\", data=x_for_model)\n",
    "    np.savez_compressed(name_file + \"_label.npz\", data=dataY)\n",
    "    \n",
    "def leyendo_datos(name_file):\n",
    "    x = np.load(name_file + \".npz\")['data']\n",
    "    y = np.load(name_file + \"_label.npz\")['data']\n",
    "    return x, y\n",
    "\n",
    "def Preprocesar_audios(name_file, use_train, save:bool = True):\n",
    "    cortar = Kaggle_audios(config_time=TIEMPO_SELECCIONADO, train=use_train)\n",
    "\n",
    "    print(\"\\tLeyendo todos los archivos WAV originales\")\n",
    "    all_data, all_label, rate = cortar.read_data(\n",
    "        limit=None, show_info=False)  # leer todos los wav y cada uno separarlos en pequeños audios de 3 segundos\n",
    "\n",
    "    print(\"\\tTime:\", TIEMPO_SELECCIONADO, \" - Input:\", all_data.shape, \" - Output:\", all_label.shape, \" - rate:\", rate)\n",
    "\n",
    "    print(\"\\tExtrayendo caracteristicas audios\")\n",
    "    data = list()\n",
    "    for id_audio, x in enumerate(all_data):\n",
    "        processAudio = ProcessAudio()\n",
    "        processAudio.set_data(x)\n",
    "        data_save = processAudio.get_all(id_audio)  # Extrayendo caracteristicas audios, salen 26 caracteristicas\n",
    "        data_save += all_label[id_audio].tolist()\n",
    "\n",
    "        data.append(data_save)\n",
    "        try:\n",
    "            if id_audio%150 == 0:\n",
    "                print(\"\\n\\t\", end=\"\")\n",
    "            print(\".\", end=\"\")\n",
    "        except:\n",
    "            print()\n",
    "\n",
    "    print(\"\\tConvirtiendo a numpy\")\n",
    "    data = np.array(data)\n",
    "\n",
    "    if save:\n",
    "        print(\"\\tGuardando data\")\n",
    "        np.savez_compressed(name_file + '.npz', data)\n",
    "        print(\"\\tGuardando csv completo\")\n",
    "\n",
    "    return data"
   ]
  },
  {
   "cell_type": "markdown",
   "metadata": {},
   "source": [
    "## 1.1) Leer audios, separarlos en audios mas pequeños y extraer las caracteristicas de cada uno de estos nuevos audios"
   ]
  },
  {
   "cell_type": "code",
   "execution_count": null,
   "metadata": {},
   "outputs": [],
   "source": [
    "print(\"Preprocesando TRAIN\")\n",
    "data_train = Preprocesar_audios(ARCHIVO_FINAL_TRAIN, use_train=True, save=False)\n",
    "print(\"\\tTime:\", TIEMPO_SELECCIONADO, \" - Train:\", len(data_train))"
   ]
  },
  {
   "cell_type": "markdown",
   "metadata": {},
   "source": [
    "## 1.2) Hallando el normalizador y el PCA"
   ]
  },
  {
   "cell_type": "code",
   "execution_count": null,
   "metadata": {},
   "outputs": [],
   "source": [
    "from sklearn.decomposition import PCA\n",
    "from sklearn.preprocessing import StandardScaler\n",
    "from sklearn.pipeline import make_pipeline"
   ]
  },
  {
   "cell_type": "code",
   "execution_count": null,
   "metadata": {},
   "outputs": [],
   "source": [
    "X_train, _ = prepare_data_tensorflow(data_train)\n",
    "scaler_pca = make_pipeline(StandardScaler(), PCA())\n",
    "scaler_pca.fit(X_train)\n",
    "\n",
    "modelo_pca = scaler_pca.named_steps['pca']"
   ]
  },
  {
   "cell_type": "code",
   "execution_count": null,
   "metadata": {},
   "outputs": [],
   "source": [
    "import matplotlib.pyplot as plt\n",
    "# Porcentaje de varianza explicada acumulada\n",
    "# ==============================================================================\n",
    "prop_varianza_acum = modelo_pca.explained_variance_ratio_.cumsum()\n",
    "print('------------------------------------------')\n",
    "print('Porcentaje de varianza explicada acumulada')\n",
    "print('------------------------------------------')\n",
    "print(prop_varianza_acum)\n",
    "\n",
    "fig, ax = plt.subplots(nrows=1, ncols=1, figsize=(20, 20))\n",
    "ax.plot(\n",
    "    np.arange(26) + 1,\n",
    "    prop_varianza_acum,\n",
    "    marker='o'\n",
    ")\n",
    "\n",
    "for x, y in zip(np.arange(26) + 1, prop_varianza_acum):\n",
    "    label = round(y, 2)\n",
    "    ax.annotate(\n",
    "        label,\n",
    "        (x, y),\n",
    "        textcoords=\"offset points\",\n",
    "        xytext=(0, 10),\n",
    "        ha='center',\n",
    "        fontsize=20\n",
    "    )\n",
    "\n",
    "ax.set_ylim(0, 1.1)\n",
    "ax.set_xticks(np.arange(modelo_pca.n_components_) + 1)\n",
    "ax.set_title('Porcentaje de varianza explicada acumulada')\n",
    "ax.set_xlabel('Componente principal')\n",
    "ax.set_ylabel('Por. varianza acumulada')\n",
    "\n",
    "ax.axvline(x=15, color=\"red\")\n",
    "ax.axhline(y=0.925, color=\"red\")\n",
    "\n",
    "plt.show()\n"
   ]
  },
  {
   "cell_type": "raw",
   "metadata": {},
   "source": [
    "se elige el 92% como valor de varianza explicada, pues con esta varianza de 8% menos del total se logra una reduccion de entradas del 42% (26 a 15) con lo que es un buen negocio que le facilita al modelo el aprendizaje"
   ]
  },
  {
   "cell_type": "code",
   "execution_count": null,
   "metadata": {},
   "outputs": [],
   "source": [
    "\"\"\"\n",
    "            Hallando el Normalizador y el PCA (92%)\n",
    "\"\"\"\n",
    "\n",
    "MINIMA_VARIANA_EXPLICADA = 0.92\n",
    "scaler_pca = make_pipeline(StandardScaler(), PCA(MINIMA_VARIANA_EXPLICADA))\n",
    "scaler_pca.fit(X_train)"
   ]
  },
  {
   "cell_type": "code",
   "execution_count": null,
   "metadata": {},
   "outputs": [],
   "source": [
    "import pickle\n",
    "pickle.dump(scaler_pca, open('data/scaler_pca_to_use/scaler_pca.pkl','wb'))"
   ]
  },
  {
   "cell_type": "markdown",
   "metadata": {},
   "source": [
    "## 1.3) Aplicando el normalizador, PCA a los datos train y guardando el resultado"
   ]
  },
  {
   "cell_type": "code",
   "execution_count": null,
   "metadata": {},
   "outputs": [],
   "source": [
    "\"\"\"\n",
    "            Aplicando PCA\n",
    "\"\"\"\n",
    "X_train, Y_train = prepare_data_tensorflow(data_train)\n",
    "aplicando_pca(scaler_pca, ARCHIVO_FINAL_TRAIN, X_train, Y_train )"
   ]
  },
  {
   "cell_type": "markdown",
   "metadata": {},
   "source": [
    "## 1.4) Aplicando el normalizador, PCA a los datos test y guardando el resultado"
   ]
  },
  {
   "cell_type": "code",
   "execution_count": null,
   "metadata": {},
   "outputs": [],
   "source": [
    "print(\"Preprocesando TEST\")\n",
    "data_test = Preprocesar_audios(ARCHIVO_FINAL_TEST, False, save=False)\n",
    "print(\"\\tTime:\", TIEMPO_SELECCIONADO, \" - Test:\", len(data_test))\n",
    "\n",
    "X_test, Y_test = prepare_data_tensorflow(data_test)\n",
    "aplicando_pca(scaler_pca, ARCHIVO_FINAL_TEST, X_test, Y_test )"
   ]
  },
  {
   "cell_type": "markdown",
   "metadata": {},
   "source": [
    "# 2) Cargando los datos para usarlos en el entrenamiento del modelo"
   ]
  },
  {
   "cell_type": "code",
   "execution_count": 3,
   "metadata": {},
   "outputs": [
    {
     "ename": "NameError",
     "evalue": "name 'ARCHIVO_FINAL_TRAIN' is not defined",
     "output_type": "error",
     "traceback": [
      "\u001b[0;31m---------------------------------------------------------------------------\u001b[0m",
      "\u001b[0;31mNameError\u001b[0m                                 Traceback (most recent call last)",
      "Input \u001b[0;32mIn [3]\u001b[0m, in \u001b[0;36m<module>\u001b[0;34m\u001b[0m\n\u001b[1;32m      1\u001b[0m \u001b[38;5;124;03m\"\"\"\u001b[39;00m\n\u001b[1;32m      2\u001b[0m \u001b[38;5;124;03m            Leyendo datos\u001b[39;00m\n\u001b[1;32m      3\u001b[0m \u001b[38;5;124;03m\"\"\"\u001b[39;00m\n\u001b[0;32m----> 4\u001b[0m xTrain_for_model_charge, yTrain \u001b[38;5;241m=\u001b[39m leyendo_datos(\u001b[43mARCHIVO_FINAL_TRAIN\u001b[49m)\n\u001b[1;32m      5\u001b[0m \u001b[38;5;28mprint\u001b[39m(\u001b[38;5;124m\"\u001b[39m\u001b[38;5;124mx_for_model_charge_train:\u001b[39m\u001b[38;5;124m\"\u001b[39m, xTrain_for_model_charge\u001b[38;5;241m.\u001b[39mshape, yTrain\u001b[38;5;241m.\u001b[39mshape)\n",
      "\u001b[0;31mNameError\u001b[0m: name 'ARCHIVO_FINAL_TRAIN' is not defined"
     ]
    }
   ],
   "source": [
    "\"\"\"\n",
    "            Leyendo datos\n",
    "\"\"\"\n",
    "xTrain_for_model_charge, yTrain = leyendo_datos(ARCHIVO_FINAL_TRAIN)\n",
    "print(\"x_for_model_charge_train:\", xTrain_for_model_charge.shape, yTrain.shape)"
   ]
  },
  {
   "cell_type": "code",
   "execution_count": null,
   "metadata": {},
   "outputs": [],
   "source": [
    "xTest_for_model_charge, yTest = leyendo_datos(ARCHIVO_FINAL_TEST)\n",
    "print(\"x_for_model_charge_test:\", xTest_for_model_charge.shape, yTest.shape)"
   ]
  },
  {
   "cell_type": "markdown",
   "metadata": {},
   "source": [
    "# 3) Creando y entrenando modelos modelos"
   ]
  },
  {
   "cell_type": "markdown",
   "metadata": {},
   "source": [
    "## 3.1) Modelo clasico"
   ]
  },
  {
   "cell_type": "code",
   "execution_count": 5,
   "metadata": {},
   "outputs": [],
   "source": [
    "from sklearn.model_selection import train_test_split\n",
    "from sklearn.ensemble import RandomForestClassifier\n",
    "from sklearn.multioutput import MultiOutputClassifier\n",
    "from sklearn.model_selection import KFold\n",
    "from sklearn.model_selection import GridSearchCV\n",
    "import sklearn.metrics as metrics"
   ]
  },
  {
   "cell_type": "code",
   "execution_count": null,
   "metadata": {},
   "outputs": [],
   "source": [
    "mean = lambda lst: int((sum(lst) / len(lst))*100)/100\n",
    "\n",
    "\n",
    "def calcular_porcentajes_aciertos(y_f, y_t):\n",
    "    verdaderos = dict()\n",
    "    falsos = dict()\n",
    "    for j in range(y_f.shape[1]):\n",
    "        verdaderos[j] = 0\n",
    "        falsos[j] = 0\n",
    "\n",
    "    for i in range(y_f.shape[0]):\n",
    "        for j in range(y_f.shape[1]):\n",
    "            if y_f[i][j] == y_t[i][j]:\n",
    "                verdaderos[j] += 1\n",
    "            else:\n",
    "                falsos[j] += 1\n",
    "\n",
    "    for j in range(y_f.shape[1]):\n",
    "        #y_final.shape[1] -> 100%\n",
    "        #verdaderos[j]    -> X\n",
    "        verdaderos[j] = int(verdaderos[j] * 100 / y_f.shape[0])\n",
    "        falsos[j] = int(falsos[j] * 100 / y_f.shape[0])\n",
    "\n",
    "    return verdaderos, falsos, str(mean([v for i, v in verdaderos.items()])) + \"%\""
   ]
  },
  {
   "cell_type": "markdown",
   "metadata": {},
   "source": [
    "## 3.2) Entrenando modelo"
   ]
  },
  {
   "cell_type": "code",
   "execution_count": null,
   "metadata": {},
   "outputs": [],
   "source": [
    "X_train, X_test, y_train, y_test = train_test_split(xTrain_for_model_charge, yTrain, test_size=0.1)  # 0.2"
   ]
  },
  {
   "cell_type": "code",
   "execution_count": null,
   "metadata": {},
   "outputs": [],
   "source": [
    "algoritmo_clasico = RandomForestClassifier()\n",
    "algoritmo_clasico = MultiOutputClassifier(algoritmo_clasico, n_jobs=-1)\n",
    "\n",
    "seed = 1\n",
    "grid = GridSearchCV(\n",
    "          estimator = algoritmo_clasico,\n",
    "          param_grid={},\n",
    "          cv = KFold(n_splits=10, shuffle=True, random_state=seed)\n",
    "        )\n",
    "grid.fit(X_train, y_train)\n",
    "algoritmo_clasico = grid.best_estimator_"
   ]
  },
  {
   "cell_type": "markdown",
   "metadata": {},
   "source": [
    "## 3.3) Guardando modelo"
   ]
  },
  {
   "cell_type": "code",
   "execution_count": null,
   "metadata": {},
   "outputs": [],
   "source": [
    "pickle.dump(algoritmo_clasico, open('data/scaler_pca_to_use/randomforest.pkl', 'wb'))"
   ]
  },
  {
   "cell_type": "markdown",
   "metadata": {},
   "source": [
    "## 3.4) Cargando modelo"
   ]
  },
  {
   "cell_type": "code",
   "execution_count": null,
   "metadata": {},
   "outputs": [],
   "source": [
    "model = pickle.load(open('data/scaler_pca_to_use/randomforest.pkl', 'rb'))"
   ]
  },
  {
   "cell_type": "markdown",
   "metadata": {},
   "source": [
    "## 3.5) Probando modelo"
   ]
  },
  {
   "cell_type": "code",
   "execution_count": null,
   "metadata": {},
   "outputs": [],
   "source": [
    "y_final = model.predict(X_train)\n",
    "\n",
    "aciertos = calcular_porcentajes_aciertos(y_final, y_train)[2]\n",
    "print(\"Aciertos train\", aciertos)"
   ]
  },
  {
   "cell_type": "markdown",
   "metadata": {},
   "source": [
    "## 3.3) Validando modelo"
   ]
  },
  {
   "cell_type": "code",
   "execution_count": null,
   "metadata": {},
   "outputs": [],
   "source": [
    "y_final = model.predict(X_test)\n",
    "\n",
    "aciertos = calcular_porcentajes_aciertos(y_final, y_test)[2]\n",
    "print(\"Aciertos validacion\", aciertos)"
   ]
  },
  {
   "cell_type": "markdown",
   "metadata": {},
   "source": [
    "## 3.4) Testeando modelo"
   ]
  },
  {
   "cell_type": "code",
   "execution_count": null,
   "metadata": {},
   "outputs": [],
   "source": [
    "y_final = model.predict(xTest_for_model_charge)\n",
    "\n",
    "aciertos = calcular_porcentajes_aciertos(y_final, yTest)[2]\n",
    "print(\"Aciertos test\", aciertos)"
   ]
  },
  {
   "cell_type": "markdown",
   "metadata": {},
   "source": [
    "# 4) Creando y entrenando modelo red neuronal"
   ]
  },
  {
   "cell_type": "code",
   "execution_count": 10,
   "metadata": {},
   "outputs": [
    {
     "name": "stdout",
     "output_type": "stream",
     "text": [
      "datos train: (60851, 15) (60851, 11)\n",
      "datos test: (745, 15) (745, 11)\n"
     ]
    }
   ],
   "source": [
    "xTrain_for_model_charge, yTrain = leyendo_datos(ARCHIVO_FINAL_TRAIN)\n",
    "yTrain = np.array(yTrain, dtype=float)\n",
    "xTrain_for_model_charge = np.array(xTrain_for_model_charge, dtype=float)\n",
    "print(\"datos train:\", xTrain_for_model_charge.shape, yTrain.shape)\n",
    "\n",
    "xTest_for_model_charge, yTest = leyendo_datos(ARCHIVO_FINAL_TEST)\n",
    "yTest = np.array(yTest, dtype=float)\n",
    "xTest_for_model_charge = np.array(xTest_for_model_charge, dtype=float)\n",
    "print(\"datos test:\", xTest_for_model_charge.shape, yTest.shape)"
   ]
  },
  {
   "cell_type": "code",
   "execution_count": 6,
   "metadata": {},
   "outputs": [],
   "source": [
    "from tensorflow.keras.models import Sequential, Model\n",
    "from tensorflow.keras.layers import Dense, Dropout, LayerNormalization, LeakyReLU, Conv1D, Conv2D, Flatten, MaxPooling2D, Input\n",
    "from tensorflow.keras.layers import BatchNormalization, InputLayer, Reshape, Activation, GlobalAveragePooling1D\n",
    "from tensorflow.keras.layers import AveragePooling2D, AveragePooling1D, UpSampling1D, UpSampling2D, MaxPooling1D"
   ]
  },
  {
   "cell_type": "code",
   "execution_count": 7,
   "metadata": {},
   "outputs": [],
   "source": [
    "from tensorflow.keras.optimizers import Adam\n",
    "def get_optimizador():\n",
    "    adam = Adam(learning_rate=1e-5)\n",
    "    return adam"
   ]
  },
  {
   "cell_type": "code",
   "execution_count": 8,
   "metadata": {},
   "outputs": [],
   "source": [
    "from keras.callbacks import EarlyStopping, ReduceLROnPlateau, ModelCheckpoint, RemoteMonitor, TerminateOnNaN, BackupAndRestore\n",
    "\n",
    "def get_callbacks(name=\"model\"):\n",
    "    #EarlyStopping, detener el entrenamiento una vez que su pérdida comienza a aumentar\n",
    "    early_stop = EarlyStopping(\n",
    "        monitor='accuracy',\n",
    "        patience=8, #argumento de patience representa el número de épocas antes de detenerse una vez que su pérdida comienza a aumentar (deja de mejorar).\n",
    "        min_delta=0,  #es un umbral para cuantificar una pérdida en alguna época como mejora o no. Si la diferencia de pérdida es inferior a min_delta , se cuantifica como no mejora. Es mejor dejarlo como 0 ya que estamos interesados ​​en cuando la pérdida empeora.\n",
    "        restore_best_weights=True,\n",
    "        mode='max')\n",
    "\n",
    "    #ReduceLROnPlateau, que si el entrenamiento no mejora tras unos epochs específicos, reduce el valor de learning rate del modelo\n",
    "    reduce_lr = ReduceLROnPlateau(\n",
    "        monitor='loss', \n",
    "        factor=0.1, \n",
    "        patience=5, \n",
    "        min_delta=1e-4, \n",
    "        mode='min',\n",
    "        verbose=1,\n",
    "    )\n",
    "\n",
    "    # Saves Keras model after each epoch\n",
    "    #Para algunos casos es importante saber cual entrenamiento fue mejor, \n",
    "    #este callback guarda el modelo tras cada epoca completada con el fin de si luego se desea un registro de pesos para cada epoca\n",
    "    #Se ha usado este callback para poder optener el mejor modelo de pesos, sobretodo en la red neuronal creada desde cero\n",
    "    #siendo de gran utilidad para determinar el como ir modificando los layer hasta obtener el mejor modelo\n",
    "    checkpointer = ModelCheckpoint(\n",
    "        filepath='models_backup/' + name +'-{val_accuracy:.4f}.h5', \n",
    "        monitor='val_accuracy',\n",
    "        verbose=1, \n",
    "        mode='max',\n",
    "        save_best_only=True,\n",
    "        save_weights_only=False\n",
    "    )\n",
    "\n",
    "    remote_monitor = RemoteMonitor(\n",
    "        root='http://localhost:6006',\n",
    "        path='/publish/epoch/end/',\n",
    "        field='data',\n",
    "        headers=None,\n",
    "        send_as_json=False\n",
    "    )\n",
    "    \n",
    "    backup_restore = BackupAndRestore(backup_dir=\"backup\")\n",
    "    \n",
    "    proteccion_nan_loss = TerminateOnNaN()\n",
    "\n",
    "    \n",
    "    callbacks_list = [early_stop, reduce_lr, checkpointer, proteccion_nan_loss, backup_restore]#, remote_monitor]\n",
    "    \n",
    "    return callbacks_list"
   ]
  },
  {
   "cell_type": "code",
   "execution_count": 9,
   "metadata": {},
   "outputs": [],
   "source": [
    "import matplotlib.pyplot as plt\n",
    "def plot_history(history):\n",
    "    # list all data in history\n",
    "    print(history.history.keys())\n",
    "    # summarize history for accuracy\n",
    "\n",
    "    # summarize history for loss\n",
    "    plt.plot(history.history['loss'])\n",
    "    plt.plot(history.history['accuracy'])\n",
    "    plt.title('model loss')\n",
    "    plt.ylabel('loss')\n",
    "    plt.xlabel('epoch')\n",
    "    plt.legend(['train', 'test'], loc='upper left')\n",
    "    plt.show()"
   ]
  },
  {
   "cell_type": "code",
   "execution_count": 52,
   "metadata": {},
   "outputs": [],
   "source": [
    "cantidad_entradas = 15\n",
    "cantidad_salidas = 11\n",
    "\n",
    "model = Sequential(name=\"RedBasica\")\n",
    "model.add(Dense(32, activation='relu', input_shape=(cantidad_entradas,)))\n",
    "model.add(Dense(64, activation='relu'))\n",
    "model.add(Dense(256, activation='relu'))\n",
    "model.add(Dense(256, activation='relu'))\n",
    "model.add(Dense(128, activation='relu'))\n",
    "model.add(Dense(32, activation='relu'))\n",
    "model.add(Dropout(0.5))\n",
    "model.add(Dense(cantidad_salidas, activation='softmax', name='output_layer'))\n",
    "\n",
    "#model.summary()"
   ]
  },
  {
   "cell_type": "code",
   "execution_count": 53,
   "metadata": {},
   "outputs": [],
   "source": [
    "model.compile(optimizer=get_optimizador(),\n",
    "              loss='mse',  # categorical_crossentropy sparse_categorical_crossentropy mean_squared_error\n",
    "              metrics=['accuracy'])"
   ]
  },
  {
   "cell_type": "code",
   "execution_count": 54,
   "metadata": {},
   "outputs": [
    {
     "name": "stdout",
     "output_type": "stream",
     "text": [
      "Epoch 1/500\n",
      "844/856 [============================>.] - ETA: 0s - loss: 0.1343 - accuracy: 0.4639\n",
      "Epoch 1: val_accuracy improved from -inf to 0.67286, saving model to models_backup/model-0.6729.h5\n",
      "856/856 [==============================] - 3s 3ms/step - loss: 0.1342 - accuracy: 0.4654 - val_loss: 0.1162 - val_accuracy: 0.6729 - lr: 1.0000e-05\n",
      "Epoch 2/500\n",
      "843/856 [============================>.] - ETA: 0s - loss: 0.1095 - accuracy: 0.6472\n",
      "Epoch 2: val_accuracy improved from 0.67286 to 0.76241, saving model to models_backup/model-0.7624.h5\n",
      "856/856 [==============================] - 2s 2ms/step - loss: 0.1095 - accuracy: 0.6474 - val_loss: 0.0922 - val_accuracy: 0.7624 - lr: 1.0000e-05\n",
      "Epoch 3/500\n",
      "849/856 [============================>.] - ETA: 0s - loss: 0.0979 - accuracy: 0.6964\n",
      "Epoch 3: val_accuracy improved from 0.76241 to 0.77046, saving model to models_backup/model-0.7705.h5\n",
      "856/856 [==============================] - 2s 2ms/step - loss: 0.0979 - accuracy: 0.6963 - val_loss: 0.0878 - val_accuracy: 0.7705 - lr: 1.0000e-05\n",
      "Epoch 4/500\n",
      "850/856 [============================>.] - ETA: 0s - loss: 0.0937 - accuracy: 0.7098\n",
      "Epoch 4: val_accuracy improved from 0.77046 to 0.77686, saving model to models_backup/model-0.7769.h5\n",
      "856/856 [==============================] - 2s 2ms/step - loss: 0.0937 - accuracy: 0.7099 - val_loss: 0.0859 - val_accuracy: 0.7769 - lr: 1.0000e-05\n",
      "Epoch 5/500\n",
      "851/856 [============================>.] - ETA: 0s - loss: 0.0912 - accuracy: 0.7257\n",
      "Epoch 5: val_accuracy improved from 0.77686 to 0.77834, saving model to models_backup/model-0.7783.h5\n",
      "856/856 [==============================] - 2s 3ms/step - loss: 0.0912 - accuracy: 0.7259 - val_loss: 0.0843 - val_accuracy: 0.7783 - lr: 1.0000e-05\n",
      "Epoch 6/500\n",
      "838/856 [============================>.] - ETA: 0s - loss: 0.0895 - accuracy: 0.7325\n",
      "Epoch 6: val_accuracy improved from 0.77834 to 0.78459, saving model to models_backup/model-0.7846.h5\n",
      "856/856 [==============================] - 2s 3ms/step - loss: 0.0894 - accuracy: 0.7328 - val_loss: 0.0830 - val_accuracy: 0.7846 - lr: 1.0000e-05\n",
      "Epoch 7/500\n",
      "835/856 [============================>.] - ETA: 0s - loss: 0.0883 - accuracy: 0.7386\n",
      "Epoch 7: val_accuracy improved from 0.78459 to 0.79034, saving model to models_backup/model-0.7903.h5\n",
      "856/856 [==============================] - 2s 2ms/step - loss: 0.0882 - accuracy: 0.7390 - val_loss: 0.0822 - val_accuracy: 0.7903 - lr: 1.0000e-05\n",
      "Epoch 8/500\n",
      "852/856 [============================>.] - ETA: 0s - loss: 0.0870 - accuracy: 0.7407\n",
      "Epoch 8: val_accuracy did not improve from 0.79034\n",
      "856/856 [==============================] - 2s 2ms/step - loss: 0.0870 - accuracy: 0.7407 - val_loss: 0.0813 - val_accuracy: 0.7875 - lr: 1.0000e-05\n",
      "Epoch 9/500\n",
      "841/856 [============================>.] - ETA: 0s - loss: 0.0859 - accuracy: 0.7433\n",
      "Epoch 9: val_accuracy improved from 0.79034 to 0.79445, saving model to models_backup/model-0.7944.h5\n",
      "856/856 [==============================] - 2s 3ms/step - loss: 0.0860 - accuracy: 0.7432 - val_loss: 0.0806 - val_accuracy: 0.7944 - lr: 1.0000e-05\n",
      "Epoch 10/500\n",
      "853/856 [============================>.] - ETA: 0s - loss: 0.0850 - accuracy: 0.7420\n",
      "Epoch 10: val_accuracy did not improve from 0.79445\n",
      "856/856 [==============================] - 2s 2ms/step - loss: 0.0851 - accuracy: 0.7419 - val_loss: 0.0798 - val_accuracy: 0.7897 - lr: 1.0000e-05\n",
      "Epoch 11/500\n",
      "856/856 [==============================] - ETA: 0s - loss: 0.0842 - accuracy: 0.7410\n",
      "Epoch 11: val_accuracy did not improve from 0.79445\n",
      "856/856 [==============================] - 2s 2ms/step - loss: 0.0842 - accuracy: 0.7410 - val_loss: 0.0794 - val_accuracy: 0.7925 - lr: 1.0000e-05\n",
      "Epoch 12/500\n",
      "852/856 [============================>.] - ETA: 0s - loss: 0.0835 - accuracy: 0.7435\n",
      "Epoch 12: val_accuracy improved from 0.79445 to 0.80036, saving model to models_backup/model-0.8004.h5\n",
      "856/856 [==============================] - 2s 2ms/step - loss: 0.0835 - accuracy: 0.7434 - val_loss: 0.0790 - val_accuracy: 0.8004 - lr: 1.0000e-05\n",
      "Epoch 13/500\n",
      "843/856 [============================>.] - ETA: 0s - loss: 0.0829 - accuracy: 0.7430\n",
      "Epoch 13: val_accuracy did not improve from 0.80036\n",
      "856/856 [==============================] - 2s 2ms/step - loss: 0.0830 - accuracy: 0.7428 - val_loss: 0.0783 - val_accuracy: 0.7925 - lr: 1.0000e-05\n",
      "Epoch 14/500\n",
      "835/856 [============================>.] - ETA: 0s - loss: 0.0821 - accuracy: 0.7437\n",
      "Epoch 14: val_accuracy did not improve from 0.80036\n",
      "856/856 [==============================] - 2s 2ms/step - loss: 0.0822 - accuracy: 0.7429 - val_loss: 0.0778 - val_accuracy: 0.7903 - lr: 1.0000e-05\n",
      "Epoch 15/500\n",
      "847/856 [============================>.] - ETA: 0s - loss: 0.0817 - accuracy: 0.7429\n",
      "Epoch 15: val_accuracy did not improve from 0.80036\n",
      "856/856 [==============================] - 2s 2ms/step - loss: 0.0817 - accuracy: 0.7430 - val_loss: 0.0776 - val_accuracy: 0.7959 - lr: 1.0000e-05\n",
      "Epoch 16/500\n",
      "856/856 [==============================] - ETA: 0s - loss: 0.0813 - accuracy: 0.7422\n",
      "Epoch 16: val_accuracy did not improve from 0.80036\n",
      "856/856 [==============================] - 2s 2ms/step - loss: 0.0813 - accuracy: 0.7422 - val_loss: 0.0772 - val_accuracy: 0.7990 - lr: 1.0000e-05\n",
      "Epoch 17/500\n",
      "834/856 [============================>.] - ETA: 0s - loss: 0.0807 - accuracy: 0.7422\n",
      "Epoch 17: val_accuracy did not improve from 0.80036\n",
      "856/856 [==============================] - 2s 2ms/step - loss: 0.0807 - accuracy: 0.7422 - val_loss: 0.0766 - val_accuracy: 0.7915 - lr: 1.0000e-05\n",
      "Epoch 18/500\n",
      "846/856 [============================>.] - ETA: 0s - loss: 0.0800 - accuracy: 0.7405\n",
      "Epoch 18: val_accuracy did not improve from 0.80036\n",
      "856/856 [==============================] - 2s 2ms/step - loss: 0.0800 - accuracy: 0.7405 - val_loss: 0.0762 - val_accuracy: 0.7926 - lr: 1.0000e-05\n",
      "Epoch 19/500\n",
      "835/856 [============================>.] - ETA: 0s - loss: 0.0796 - accuracy: 0.7425\n",
      "Epoch 19: val_accuracy did not improve from 0.80036\n",
      "856/856 [==============================] - 2s 2ms/step - loss: 0.0796 - accuracy: 0.7426 - val_loss: 0.0760 - val_accuracy: 0.7951 - lr: 1.0000e-05\n",
      "Epoch 20/500\n",
      "856/856 [==============================] - ETA: 0s - loss: 0.0793 - accuracy: 0.7418\n",
      "Epoch 20: val_accuracy did not improve from 0.80036\n",
      "856/856 [==============================] - 2s 2ms/step - loss: 0.0793 - accuracy: 0.7418 - val_loss: 0.0754 - val_accuracy: 0.7900 - lr: 1.0000e-05\n"
     ]
    }
   ],
   "source": [
    "X_train, X_test, y_train, y_test = train_test_split(xTrain_for_model_charge, yTrain, test_size=0.1)  # 0.2\n",
    "\n",
    "history = model.fit(\n",
    "    X_train,\n",
    "    y_train,\n",
    "    validation_data=(X_test, y_test),\n",
    "    epochs=500,\n",
    "    batch_size=64,\n",
    "    verbose=1,\n",
    "    callbacks=get_callbacks()\n",
    ")"
   ]
  },
  {
   "cell_type": "code",
   "execution_count": 57,
   "metadata": {},
   "outputs": [
    {
     "name": "stdout",
     "output_type": "stream",
     "text": [
      "dict_keys(['loss', 'accuracy', 'val_loss', 'val_accuracy', 'lr'])\n"
     ]
    },
    {
     "data": {
      "image/png": "[encoded data removed]",
      "text/plain": [
       "<Figure size 640x480 with 1 Axes>"
      ]
     },
     "metadata": {},
     "output_type": "display_data"
    }
   ],
   "source": [
    "plot_history(history)"
   ]
  },
  {
   "cell_type": "code",
   "execution_count": 58,
   "metadata": {},
   "outputs": [
    {
     "name": "stdout",
     "output_type": "stream",
     "text": [
      "191/191 [==============================] - 0s 1ms/step - loss: 0.0790 - accuracy: 0.8004\n",
      "Evaluate train acc:  0.8003615140914917\n"
     ]
    }
   ],
   "source": [
    "test_loss, test_acc = model.evaluate(X_test, y_test)\n",
    "print('Evaluate train acc: ', test_acc)"
   ]
  },
  {
   "cell_type": "code",
   "execution_count": null,
   "metadata": {},
   "outputs": [],
   "source": []
  },
  {
   "cell_type": "code",
   "execution_count": null,
   "metadata": {},
   "outputs": [],
   "source": []
  },
  {
   "cell_type": "code",
   "execution_count": null,
   "metadata": {},
   "outputs": [],
   "source": []
  },
  {
   "cell_type": "code",
   "execution_count": null,
   "metadata": {},
   "outputs": [],
   "source": []
  },
  {
   "cell_type": "code",
   "execution_count": null,
   "metadata": {},
   "outputs": [],
   "source": []
  },
  {
   "cell_type": "code",
   "execution_count": null,
   "metadata": {},
   "outputs": [],
   "source": []
  },
  {
   "cell_type": "code",
   "execution_count": 41,
   "metadata": {},
   "outputs": [],
   "source": [
    "def modelo_simple(cantidad_entradas, cantidad_salidas):\n",
    "    model = Sequential(name=\"Redsimple\")  # los nombres van sin espacios\n",
    "    model.add(Dense(8 * 4, activation=\"relu\",  input_shape=(cantidad_entradas,)) ) \n",
    "    model.add(Dense(16*4, activation='relu'))\n",
    "    #model.add(Dense(16*8, activation='relu'))\n",
    "    #model.add(Dense(32*8, activation='relu'))\n",
    "    model.add(Reshape((16, 4)))\n",
    "\n",
    "    model.add(UpSampling1D(size=3))\n",
    "    model.add(Conv1D(12, kernel_size=3, padding=\"same\", activation='relu'))\n",
    "    model.add(Conv1D(12, kernel_size=3, padding=\"same\", activation='relu'))\n",
    "    model.add(Conv1D(12, kernel_size=3, padding=\"same\", activation='relu'))\n",
    "    model.add(MaxPooling1D(pool_size=3, strides=1, padding='valid'))\n",
    "\n",
    "    model.add(Conv1D(24, kernel_size=3, padding=\"same\", activation='relu'))\n",
    "    model.add(Conv1D(24, kernel_size=3, padding=\"same\", activation='relu'))\n",
    "    model.add(Conv1D(32, kernel_size=3, padding=\"same\", activation='relu'))\n",
    "    model.add(MaxPooling1D(pool_size=2, strides=1, padding='valid'))\n",
    "\n",
    "    model.add(Conv1D(32, kernel_size=3, padding=\"same\", activation='relu'))\n",
    "    model.add(Conv1D(32, kernel_size=3, padding=\"same\", activation='relu'))\n",
    "    model.add(MaxPooling1D(pool_size=3, strides=1, padding='valid'))\n",
    "\n",
    "    model.add(Conv1D(24, kernel_size=3, padding=\"same\", activation='relu'))\n",
    "    model.add(Conv1D(24, kernel_size=3, padding=\"same\", activation='relu'))\n",
    "    model.add(Conv1D(16, kernel_size=3, padding=\"same\", activation='relu'))\n",
    "    model.add(MaxPooling1D(pool_size=3, strides=1, padding='valid'))\n",
    "\n",
    "    model.add(Conv1D(16, kernel_size=3, padding=\"same\", activation='relu'))\n",
    "    model.add(Conv1D(8, kernel_size=3, padding=\"same\", activation='relu'))\n",
    "    model.add(MaxPooling1D(pool_size=2, strides=1, padding='valid'))\n",
    "\n",
    "    model.add(Dense(24, activation=\"relu\"))\n",
    "    model.add(Dense(16, activation=\"relu\"))\n",
    "    model.add(MaxPooling1D(pool_size=2, strides=1, padding='valid'))\n",
    "\n",
    "    model.add(Dropout(0.5))\n",
    "\n",
    "    model.add(Dense(64, activation=\"relu\"))\n",
    "    model.add(Dense(32, activation='relu'))\n",
    "\n",
    "    model.add(GlobalAveragePooling1D())\n",
    "\n",
    "    model.add(Flatten())\n",
    "\n",
    "    model.add(Dense(cantidad_salidas, activation=\"softmax\", name='output_layer'))\n",
    "\n",
    "    return model"
   ]
  },
  {
   "cell_type": "code",
   "execution_count": 42,
   "metadata": {},
   "outputs": [
    {
     "name": "stdout",
     "output_type": "stream",
     "text": [
      "Model: \"Redsimple\"\n",
      "_________________________________________________________________\n",
      " Layer (type)                Output Shape              Param #   \n",
      "=================================================================\n",
      " dense_49 (Dense)            (None, 32)                512       \n",
      "                                                                 \n",
      " dense_50 (Dense)            (None, 64)                2112      \n",
      "                                                                 \n",
      " reshape_9 (Reshape)         (None, 16, 4)             0         \n",
      "                                                                 \n",
      " up_sampling1d_9 (UpSampling  (None, 48, 4)            0         \n",
      " 1D)                                                             \n",
      "                                                                 \n",
      " conv1d_117 (Conv1D)         (None, 48, 12)            156       \n",
      "                                                                 \n",
      " conv1d_118 (Conv1D)         (None, 48, 12)            444       \n",
      "                                                                 \n",
      " conv1d_119 (Conv1D)         (None, 48, 12)            444       \n",
      "                                                                 \n",
      " max_pooling1d_54 (MaxPoolin  (None, 46, 12)           0         \n",
      " g1D)                                                            \n",
      "                                                                 \n",
      " conv1d_120 (Conv1D)         (None, 46, 24)            888       \n",
      "                                                                 \n",
      " conv1d_121 (Conv1D)         (None, 46, 24)            1752      \n",
      "                                                                 \n",
      " conv1d_122 (Conv1D)         (None, 46, 32)            2336      \n",
      "                                                                 \n",
      " max_pooling1d_55 (MaxPoolin  (None, 45, 32)           0         \n",
      " g1D)                                                            \n",
      "                                                                 \n",
      " conv1d_123 (Conv1D)         (None, 45, 32)            3104      \n",
      "                                                                 \n",
      " conv1d_124 (Conv1D)         (None, 45, 32)            3104      \n",
      "                                                                 \n",
      " max_pooling1d_56 (MaxPoolin  (None, 43, 32)           0         \n",
      " g1D)                                                            \n",
      "                                                                 \n",
      " conv1d_125 (Conv1D)         (None, 43, 24)            2328      \n",
      "                                                                 \n",
      " conv1d_126 (Conv1D)         (None, 43, 24)            1752      \n",
      "                                                                 \n",
      " conv1d_127 (Conv1D)         (None, 43, 16)            1168      \n",
      "                                                                 \n",
      " max_pooling1d_57 (MaxPoolin  (None, 41, 16)           0         \n",
      " g1D)                                                            \n",
      "                                                                 \n",
      " conv1d_128 (Conv1D)         (None, 41, 16)            784       \n",
      "                                                                 \n",
      " conv1d_129 (Conv1D)         (None, 41, 8)             392       \n",
      "                                                                 \n",
      " max_pooling1d_58 (MaxPoolin  (None, 40, 8)            0         \n",
      " g1D)                                                            \n",
      "                                                                 \n",
      " dense_51 (Dense)            (None, 40, 24)            216       \n",
      "                                                                 \n",
      " dense_52 (Dense)            (None, 40, 16)            400       \n",
      "                                                                 \n",
      " max_pooling1d_59 (MaxPoolin  (None, 39, 16)           0         \n",
      " g1D)                                                            \n",
      "                                                                 \n",
      " dropout_9 (Dropout)         (None, 39, 16)            0         \n",
      "                                                                 \n",
      " dense_53 (Dense)            (None, 39, 64)            1088      \n",
      "                                                                 \n",
      " dense_54 (Dense)            (None, 39, 32)            2080      \n",
      "                                                                 \n",
      " global_average_pooling1d_9   (None, 32)               0         \n",
      " (GlobalAveragePooling1D)                                        \n",
      "                                                                 \n",
      " flatten_9 (Flatten)         (None, 32)                0         \n",
      "                                                                 \n",
      " output_layer (Dense)        (None, 11)                363       \n",
      "                                                                 \n",
      "=================================================================\n",
      "Total params: 25,423\n",
      "Trainable params: 25,423\n",
      "Non-trainable params: 0\n",
      "_________________________________________________________________\n"
     ]
    }
   ],
   "source": [
    "cantidad_entradas = 15\n",
    "cantidad_salidas = 11\n",
    "\n",
    "model = modelo_simple(cantidad_entradas, cantidad_salidas)\n",
    "\n",
    "model.summary()"
   ]
  },
  {
   "cell_type": "code",
   "execution_count": 43,
   "metadata": {},
   "outputs": [],
   "source": [
    "model.compile(optimizer=get_optimizador(),\n",
    "              loss='mean_squared_error',  # categorical_crossentropy sparse_categorical_crossentropy mean_squared_error\n",
    "              metrics=['accuracy'])"
   ]
  },
  {
   "cell_type": "code",
   "execution_count": 44,
   "metadata": {},
   "outputs": [
    {
     "name": "stdout",
     "output_type": "stream",
     "text": [
      "Epoch 1/500\n",
      "856/856 [==============================] - ETA: 0s - loss: 0.1365 - accuracy: 0.1662\n",
      "Epoch 1: val_accuracy improved from -inf to 0.67499, saving model to models_backup/model-0.6750.h5\n",
      "856/856 [==============================] - 9s 9ms/step - loss: 0.1365 - accuracy: 0.1662 - val_loss: 0.1123 - val_accuracy: 0.6750 - lr: 1.0000e-05\n",
      "Epoch 2/500\n",
      "856/856 [==============================] - ETA: 0s - loss: 0.1102 - accuracy: 0.6665\n",
      "Epoch 2: val_accuracy did not improve from 0.67499\n",
      "856/856 [==============================] - 7s 8ms/step - loss: 0.1102 - accuracy: 0.6665 - val_loss: 0.1067 - val_accuracy: 0.6750 - lr: 1.0000e-05\n",
      "Epoch 3/500\n",
      "852/856 [============================>.] - ETA: 0s - loss: 0.1075 - accuracy: 0.6666\n",
      "Epoch 3: val_accuracy did not improve from 0.67499\n",
      "856/856 [==============================] - 7s 8ms/step - loss: 0.1075 - accuracy: 0.6666 - val_loss: 0.1041 - val_accuracy: 0.6750 - lr: 1.0000e-05\n",
      "Epoch 4/500\n",
      "850/856 [============================>.] - ETA: 0s - loss: 0.1050 - accuracy: 0.6670\n",
      "Epoch 4: val_accuracy did not improve from 0.67499\n",
      "856/856 [==============================] - 7s 8ms/step - loss: 0.1050 - accuracy: 0.6666 - val_loss: 0.1012 - val_accuracy: 0.6750 - lr: 1.0000e-05\n",
      "Epoch 5/500\n",
      "855/856 [============================>.] - ETA: 0s - loss: 0.1020 - accuracy: 0.6666\n",
      "Epoch 5: val_accuracy did not improve from 0.67499\n",
      "856/856 [==============================] - 7s 8ms/step - loss: 0.1020 - accuracy: 0.6666 - val_loss: 0.0979 - val_accuracy: 0.6750 - lr: 1.0000e-05\n",
      "Epoch 6/500\n",
      "856/856 [==============================] - ETA: 0s - loss: 0.0985 - accuracy: 0.6666\n",
      "Epoch 6: val_accuracy did not improve from 0.67499\n",
      "856/856 [==============================] - 7s 8ms/step - loss: 0.0985 - accuracy: 0.6666 - val_loss: 0.0945 - val_accuracy: 0.6750 - lr: 1.0000e-05\n",
      "Epoch 7/500\n",
      "853/856 [============================>.] - ETA: 0s - loss: 0.0953 - accuracy: 0.6668\n",
      "Epoch 7: val_accuracy improved from 0.67499 to 0.68058, saving model to models_backup/model-0.6806.h5\n",
      "856/856 [==============================] - 7s 8ms/step - loss: 0.0953 - accuracy: 0.6667 - val_loss: 0.0916 - val_accuracy: 0.6806 - lr: 1.0000e-05\n",
      "Epoch 8/500\n",
      "852/856 [============================>.] - ETA: 0s - loss: 0.0928 - accuracy: 0.6760\n",
      "Epoch 8: val_accuracy improved from 0.68058 to 0.74614, saving model to models_backup/model-0.7461.h5\n",
      "856/856 [==============================] - 7s 8ms/step - loss: 0.0928 - accuracy: 0.6763 - val_loss: 0.0895 - val_accuracy: 0.7461 - lr: 1.0000e-05\n",
      "Epoch 9/500\n",
      "853/856 [============================>.] - ETA: 0s - loss: 0.0908 - accuracy: 0.7074\n",
      "Epoch 9: val_accuracy improved from 0.74614 to 0.77752, saving model to models_backup/model-0.7775.h5\n",
      "856/856 [==============================] - 7s 9ms/step - loss: 0.0908 - accuracy: 0.7075 - val_loss: 0.0878 - val_accuracy: 0.7775 - lr: 1.0000e-05\n",
      "Epoch 10/500\n",
      "850/856 [============================>.] - ETA: 0s - loss: 0.0890 - accuracy: 0.7450\n",
      "Epoch 10: val_accuracy did not improve from 0.77752\n",
      "856/856 [==============================] - 7s 8ms/step - loss: 0.0890 - accuracy: 0.7448 - val_loss: 0.0867 - val_accuracy: 0.7726 - lr: 1.0000e-05\n",
      "Epoch 11/500\n",
      "853/856 [============================>.] - ETA: 0s - loss: 0.0873 - accuracy: 0.7604\n",
      "Epoch 11: val_accuracy did not improve from 0.77752\n",
      "856/856 [==============================] - 7s 8ms/step - loss: 0.0873 - accuracy: 0.7604 - val_loss: 0.0839 - val_accuracy: 0.7668 - lr: 1.0000e-05\n",
      "Epoch 12/500\n",
      "851/856 [============================>.] - ETA: 0s - loss: 0.0849 - accuracy: 0.7596\n",
      "Epoch 12: val_accuracy did not improve from 0.77752\n",
      "856/856 [==============================] - 7s 8ms/step - loss: 0.0849 - accuracy: 0.7596 - val_loss: 0.0809 - val_accuracy: 0.7540 - lr: 1.0000e-05\n",
      "Epoch 13/500\n",
      "855/856 [============================>.] - ETA: 0s - loss: 0.0826 - accuracy: 0.7596\n",
      "Epoch 13: val_accuracy did not improve from 0.77752\n",
      "856/856 [==============================] - 7s 8ms/step - loss: 0.0826 - accuracy: 0.7596 - val_loss: 0.0794 - val_accuracy: 0.7690 - lr: 1.0000e-05\n",
      "Epoch 14/500\n",
      "855/856 [============================>.] - ETA: 0s - loss: 0.0815 - accuracy: 0.7640\n",
      "Epoch 14: val_accuracy did not improve from 0.77752\n",
      "856/856 [==============================] - 7s 8ms/step - loss: 0.0815 - accuracy: 0.7640 - val_loss: 0.0789 - val_accuracy: 0.7640 - lr: 1.0000e-05\n",
      "Epoch 15/500\n",
      "854/856 [============================>.] - ETA: 0s - loss: 0.0808 - accuracy: 0.7648\n",
      "Epoch 15: val_accuracy did not improve from 0.77752\n",
      "856/856 [==============================] - 7s 8ms/step - loss: 0.0808 - accuracy: 0.7648 - val_loss: 0.0782 - val_accuracy: 0.7700 - lr: 1.0000e-05\n",
      "Epoch 16/500\n",
      "851/856 [============================>.] - ETA: 0s - loss: 0.0803 - accuracy: 0.7627\n",
      "Epoch 16: val_accuracy did not improve from 0.77752\n",
      "856/856 [==============================] - 7s 8ms/step - loss: 0.0803 - accuracy: 0.7627 - val_loss: 0.0782 - val_accuracy: 0.7583 - lr: 1.0000e-05\n",
      "Epoch 17/500\n",
      "850/856 [============================>.] - ETA: 0s - loss: 0.0800 - accuracy: 0.7631\n",
      "Epoch 17: val_accuracy did not improve from 0.77752\n",
      "856/856 [==============================] - 7s 8ms/step - loss: 0.0800 - accuracy: 0.7628 - val_loss: 0.0775 - val_accuracy: 0.7713 - lr: 1.0000e-05\n",
      "Epoch 18/500\n",
      "855/856 [============================>.] - ETA: 0s - loss: 0.0796 - accuracy: 0.7639\n",
      "Epoch 18: val_accuracy did not improve from 0.77752\n",
      "856/856 [==============================] - 7s 8ms/step - loss: 0.0796 - accuracy: 0.7638 - val_loss: 0.0773 - val_accuracy: 0.7690 - lr: 1.0000e-05\n",
      "Epoch 19/500\n",
      "853/856 [============================>.] - ETA: 0s - loss: 0.0793 - accuracy: 0.7614\n",
      "Epoch 19: val_accuracy did not improve from 0.77752\n",
      "856/856 [==============================] - 7s 8ms/step - loss: 0.0793 - accuracy: 0.7613 - val_loss: 0.0773 - val_accuracy: 0.7599 - lr: 1.0000e-05\n",
      "Epoch 20/500\n",
      "855/856 [============================>.] - ETA: 0s - loss: 0.0790 - accuracy: 0.7626\n",
      "Epoch 20: val_accuracy did not improve from 0.77752\n",
      "856/856 [==============================] - 7s 8ms/step - loss: 0.0790 - accuracy: 0.7627 - val_loss: 0.0769 - val_accuracy: 0.7450 - lr: 1.0000e-05\n",
      "Epoch 21/500\n",
      "851/856 [============================>.] - ETA: 0s - loss: 0.0788 - accuracy: 0.7630\n",
      "Epoch 21: val_accuracy did not improve from 0.77752\n",
      "856/856 [==============================] - 7s 8ms/step - loss: 0.0788 - accuracy: 0.7630 - val_loss: 0.0771 - val_accuracy: 0.7059 - lr: 1.0000e-05\n",
      "Epoch 22/500\n",
      "856/856 [==============================] - ETA: 0s - loss: 0.0785 - accuracy: 0.7635\n",
      "Epoch 22: val_accuracy did not improve from 0.77752\n",
      "856/856 [==============================] - 7s 8ms/step - loss: 0.0785 - accuracy: 0.7635 - val_loss: 0.0771 - val_accuracy: 0.6737 - lr: 1.0000e-05\n",
      "Epoch 23/500\n",
      "853/856 [============================>.] - ETA: 0s - loss: 0.0783 - accuracy: 0.7631\n",
      "Epoch 23: val_accuracy did not improve from 0.77752\n",
      "856/856 [==============================] - 7s 8ms/step - loss: 0.0783 - accuracy: 0.7631 - val_loss: 0.0767 - val_accuracy: 0.6844 - lr: 1.0000e-05\n"
     ]
    }
   ],
   "source": [
    "X_train, X_test, y_train, y_test = train_test_split(xTrain_for_model_charge, yTrain, test_size=0.1)  # 0.2\n",
    "\n",
    "history = model.fit(\n",
    "    X_train,\n",
    "    y_train,\n",
    "    validation_data=(X_test, y_test),\n",
    "    epochs=500,\n",
    "    batch_size=64,\n",
    "    verbose=1,\n",
    "    callbacks=get_callbacks()\n",
    ")\n",
    "\n"
   ]
  },
  {
   "cell_type": "code",
   "execution_count": 45,
   "metadata": {},
   "outputs": [
    {
     "name": "stdout",
     "output_type": "stream",
     "text": [
      "dict_keys(['loss', 'accuracy', 'val_loss', 'val_accuracy', 'lr'])\n"
     ]
    },
    {
     "data": {
      "image/png": "[encoded data removed]",
      "text/plain": [
       "<Figure size 640x480 with 1 Axes>"
      ]
     },
     "metadata": {},
     "output_type": "display_data"
    }
   ],
   "source": [
    "plot_history(history)"
   ]
  },
  {
   "cell_type": "code",
   "execution_count": 46,
   "metadata": {},
   "outputs": [
    {
     "name": "stdout",
     "output_type": "stream",
     "text": [
      "191/191 [==============================] - 1s 3ms/step - loss: 0.0782 - accuracy: 0.7700\n",
      "Evaluate train acc:  0.7699638605117798\n"
     ]
    }
   ],
   "source": [
    "test_loss, test_acc = model.evaluate(X_test, y_test)\n",
    "print('Evaluate train acc: ', test_acc)"
   ]
  },
  {
   "cell_type": "code",
   "execution_count": null,
   "metadata": {},
   "outputs": [],
   "source": []
  },
  {
   "cell_type": "code",
   "execution_count": null,
   "metadata": {},
   "outputs": [],
   "source": []
  },
  {
   "cell_type": "code",
   "execution_count": null,
   "metadata": {},
   "outputs": [],
   "source": []
  },
  {
   "cell_type": "code",
   "execution_count": null,
   "metadata": {},
   "outputs": [],
   "source": []
  },
  {
   "cell_type": "code",
   "execution_count": null,
   "metadata": {},
   "outputs": [],
   "source": []
  },
  {
   "cell_type": "code",
   "execution_count": null,
   "metadata": {},
   "outputs": [],
   "source": []
  },
  {
   "cell_type": "markdown",
   "metadata": {},
   "source": [
    "# Bibliografia usada"
   ]
  },
  {
   "cell_type": "raw",
   "metadata": {},
   "source": [
    "https://www.analyticsvidhya.com/blog/2021/06/visualizing-sounds-librosa/"
   ]
  },
  {
   "cell_type": "raw",
   "metadata": {},
   "source": [
    "https://www.youtube.com/watch?v=iCwMQJnKk2c\n",
    "https://github.com/musikalkemist/DeepLearningForAudioWithPython\n",
    "https://towardsdatascience.com/extract-features-of-music-75a3f9bc265d\n",
    "https://programmerclick.com/article/4926701185/\n",
    "\n",
    "https://www.cienciadedatos.net/documentos/py19-pca-python.html"
   ]
  },
  {
   "cell_type": "raw",
   "metadata": {},
   "source": []
  },
  {
   "cell_type": "raw",
   "metadata": {},
   "source": []
  }
 ],
 "metadata": {
  "kernelspec": {
   "display_name": "Python 3",
   "language": "python",
   "name": "python3"
  },
  "language_info": {
   "codemirror_mode": {
    "name": "ipython",
    "version": 3
   },
   "file_extension": ".py",
   "mimetype": "text/x-python",
   "name": "python",
   "nbconvert_exporter": "python",
   "pygments_lexer": "ipython3",
   "version": "3.8.10"
  }
 },
 "nbformat": 4,
 "nbformat_minor": 2
}
