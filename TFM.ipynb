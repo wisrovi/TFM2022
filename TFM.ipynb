{
 "cells": [
  {
   "cell_type": "markdown",
   "metadata": {},
   "source": [
    "# El dataset se puede descargar de: https://www.kaggle.com/datasets/imsparsh/musicnet-dataset"
   ]
  },
  {
   "cell_type": "markdown",
   "metadata": {},
   "source": [
    "Una vez descargado se debe poner en la carpeta /kaggle/input/musicnet-dataset todo el contenido de la descarga"
   ]
  },
  {
   "cell_type": "raw",
   "metadata": {},
   "source": [
    "El dataset tiene dos formatos:\n",
    "\n",
    ".wav: archivo de audio estándar ~ grabación\n",
    "\n",
    ".mid: formato midi (interfaz digital de instrumentos musicales) ( https://en.wikipedia.org/wiki/MIDI )\n",
    "\n",
    "Es un estándar técnico que describe un protocolo de comunicaciones que conecta instrumentos musicales electrónicos. "
   ]
  },
  {
   "cell_type": "markdown",
   "metadata": {},
   "source": [
    "_______________________________"
   ]
  },
  {
   "cell_type": "markdown",
   "metadata": {},
   "source": [
    "Para la ejecucipn de este cuaderno se deben instalar las siguientes librerias (en las versiones establecidas), tal como se muestra a continuacion"
   ]
  },
  {
   "cell_type": "raw",
   "metadata": {},
   "source": [
    "!pip install pandas\n",
    "!pip install librosa==0.8.1\n",
    "!pip install numpy==1.21\n",
    "!pip install python_speech_features"
   ]
  },
  {
   "cell_type": "markdown",
   "metadata": {},
   "source": [
    "# 1) Preprocesar datos"
   ]
  },
  {
   "cell_type": "code",
   "execution_count": 1,
   "metadata": {},
   "outputs": [],
   "source": [
    "import numpy as np\n",
    "\n",
    "from libraries.Kaggle_audios import Kaggle_audios\n",
    "from libraries.ProcessAudio import ProcessAudio\n",
    "\n",
    "import pickle"
   ]
  },
  {
   "cell_type": "code",
   "execution_count": 2,
   "metadata": {},
   "outputs": [],
   "source": [
    "TIEMPO_SELECCIONADO = 3\n",
    "ARCHIVO_FINAL_TRAIN = \"data/scaler_pca_to_use/train\"\n",
    "ARCHIVO_FINAL_TEST = \"data/scaler_pca_to_use/test\""
   ]
  },
  {
   "cell_type": "code",
   "execution_count": 3,
   "metadata": {},
   "outputs": [],
   "source": [
    "from functools import wraps\n",
    "from time import time\n",
    "\n",
    "\n",
    "def count_elapsed_time(f):\n",
    "    @wraps(f)\n",
    "    def cronometro(*args, **kwargs):\n",
    "        t_inicial = time()  # tomo la hora antes de ejecutar la funcion\n",
    "        salida = f(*args, **kwargs)\n",
    "        t_final = time()  # tomo la hora despues de ejecutar la funcion\n",
    "        print('Tiempo transcurrido (en segundos): {}'.format(t_final - t_inicial))\n",
    "        return salida\n",
    "\n",
    "    return cronometro"
   ]
  },
  {
   "cell_type": "code",
   "execution_count": 4,
   "metadata": {},
   "outputs": [],
   "source": [
    "def prepare_data_tensorflow(data):\n",
    "    train = data[:, 1:-11]\n",
    "    instrument_list = data[:,-11:]\n",
    "    X = np.array(train, dtype=float)\n",
    "    y = instrument_list\n",
    "    return X, y\n",
    "\n",
    "def aplicando_pca(scaler_pca, name_file, dataX, dataY):\n",
    "    x_for_model = scaler_pca.transform(X=dataX)\n",
    "    # print(\"Original\", X.shape)\n",
    "    np.savez_compressed(name_file + \".npz\", data=x_for_model)\n",
    "    np.savez_compressed(name_file + \"_label.npz\", data=dataY)\n",
    "    \n",
    "def leyendo_datos(name_file):\n",
    "    x = np.load(name_file + \".npz\")['data']\n",
    "    y = np.load(name_file + \"_label.npz\")['data']\n",
    "    return x, y\n",
    "\n",
    "def Preprocesar_audios(name_file, use_train, save:bool = True):\n",
    "    cortar = Kaggle_audios(config_time=TIEMPO_SELECCIONADO, train=use_train)\n",
    "\n",
    "    print(\"\\tLeyendo todos los archivos WAV originales\")\n",
    "    all_data, all_label, rate = cortar.read_data(\n",
    "        limit=None, show_info=False)  # leer todos los wav y cada uno separarlos en pequeños audios de 3 segundos\n",
    "\n",
    "    print(\"\\tTime:\", TIEMPO_SELECCIONADO, \" - Input:\", all_data.shape, \" - Output:\", all_label.shape, \" - rate:\", rate)\n",
    "\n",
    "    print(\"\\tExtrayendo caracteristicas audios\")\n",
    "    data = list()\n",
    "    for id_audio, x in enumerate(all_data):\n",
    "        processAudio = ProcessAudio()\n",
    "        processAudio.set_data(x)\n",
    "        data_save = processAudio.get_all(id_audio)  # Extrayendo caracteristicas audios, salen 26 caracteristicas\n",
    "        data_save += all_label[id_audio].tolist()\n",
    "\n",
    "        data.append(data_save)\n",
    "        try:\n",
    "            if id_audio%150 == 0:\n",
    "                print(\"\\n\\t\", end=\"\")\n",
    "            print(\".\", end=\"\")\n",
    "        except:\n",
    "            print()\n",
    "\n",
    "    print(\"\\tConvirtiendo a numpy\")\n",
    "    data = np.array(data)\n",
    "\n",
    "    if save:\n",
    "        print(\"\\tGuardando data\")\n",
    "        np.savez_compressed(name_file + '.npz', data)\n",
    "        print(\"\\tGuardando csv completo\")\n",
    "\n",
    "    return data"
   ]
  },
  {
   "cell_type": "markdown",
   "metadata": {},
   "source": [
    "## 1.1) Leer audios, separarlos en audios mas pequeños y extraer las caracteristicas de cada uno de estos nuevos audios"
   ]
  },
  {
   "cell_type": "code",
   "execution_count": 5,
   "metadata": {},
   "outputs": [
    {
     "name": "stdout",
     "output_type": "stream",
     "text": [
      "Preprocesando TRAIN\n",
      "/kaggle/input/musicnet-dataset/musicnet/musicnet/train_data/\n",
      "/kaggle/input/musicnet-dataset/musicnet/musicnet/train_labels/\n",
      "\tLeyendo todos los archivos WAV originales\n",
      "\n",
      "\t. . . . "
     ]
    },
    {
     "ename": "KeyboardInterrupt",
     "evalue": "",
     "output_type": "error",
     "traceback": [
      "\u001b[0;31m---------------------------------------------------------------------------\u001b[0m",
      "\u001b[0;31mKeyboardInterrupt\u001b[0m                         Traceback (most recent call last)",
      "Input \u001b[0;32mIn [5]\u001b[0m, in \u001b[0;36m<module>\u001b[0;34m\u001b[0m\n\u001b[1;32m      1\u001b[0m \u001b[38;5;28mprint\u001b[39m(\u001b[38;5;124m\"\u001b[39m\u001b[38;5;124mPreprocesando TRAIN\u001b[39m\u001b[38;5;124m\"\u001b[39m)\n\u001b[0;32m----> 2\u001b[0m data_train \u001b[38;5;241m=\u001b[39m \u001b[43mPreprocesar_audios\u001b[49m\u001b[43m(\u001b[49m\u001b[43mARCHIVO_FINAL_TRAIN\u001b[49m\u001b[43m,\u001b[49m\u001b[43m \u001b[49m\u001b[43muse_train\u001b[49m\u001b[38;5;241;43m=\u001b[39;49m\u001b[38;5;28;43;01mTrue\u001b[39;49;00m\u001b[43m,\u001b[49m\u001b[43m \u001b[49m\u001b[43msave\u001b[49m\u001b[38;5;241;43m=\u001b[39;49m\u001b[38;5;28;43;01mFalse\u001b[39;49;00m\u001b[43m)\u001b[49m\n\u001b[1;32m      3\u001b[0m \u001b[38;5;28mprint\u001b[39m(\u001b[38;5;124m\"\u001b[39m\u001b[38;5;130;01m\\t\u001b[39;00m\u001b[38;5;124mTime:\u001b[39m\u001b[38;5;124m\"\u001b[39m, TIEMPO_SELECCIONADO, \u001b[38;5;124m\"\u001b[39m\u001b[38;5;124m - Train:\u001b[39m\u001b[38;5;124m\"\u001b[39m, \u001b[38;5;28mlen\u001b[39m(data_train))\n",
      "Input \u001b[0;32mIn [4]\u001b[0m, in \u001b[0;36mPreprocesar_audios\u001b[0;34m(name_file, use_train, save)\u001b[0m\n\u001b[1;32m     20\u001b[0m cortar \u001b[38;5;241m=\u001b[39m Kaggle_audios(config_time\u001b[38;5;241m=\u001b[39mTIEMPO_SELECCIONADO, train\u001b[38;5;241m=\u001b[39muse_train)\n\u001b[1;32m     22\u001b[0m \u001b[38;5;28mprint\u001b[39m(\u001b[38;5;124m\"\u001b[39m\u001b[38;5;130;01m\\t\u001b[39;00m\u001b[38;5;124mLeyendo todos los archivos WAV originales\u001b[39m\u001b[38;5;124m\"\u001b[39m)\n\u001b[0;32m---> 23\u001b[0m all_data, all_label, rate \u001b[38;5;241m=\u001b[39m \u001b[43mcortar\u001b[49m\u001b[38;5;241;43m.\u001b[39;49m\u001b[43mread_data\u001b[49m\u001b[43m(\u001b[49m\n\u001b[1;32m     24\u001b[0m \u001b[43m    \u001b[49m\u001b[43mlimit\u001b[49m\u001b[38;5;241;43m=\u001b[39;49m\u001b[38;5;28;43;01mNone\u001b[39;49;00m\u001b[43m,\u001b[49m\u001b[43m \u001b[49m\u001b[43mshow_info\u001b[49m\u001b[38;5;241;43m=\u001b[39;49m\u001b[38;5;28;43;01mFalse\u001b[39;49;00m\u001b[43m)\u001b[49m  \u001b[38;5;66;03m# leer todos los wav y cada uno separarlos en pequeños audios de 3 segundos\u001b[39;00m\n\u001b[1;32m     26\u001b[0m \u001b[38;5;28mprint\u001b[39m(\u001b[38;5;124m\"\u001b[39m\u001b[38;5;130;01m\\t\u001b[39;00m\u001b[38;5;124mTime:\u001b[39m\u001b[38;5;124m\"\u001b[39m, TIEMPO_SELECCIONADO, \u001b[38;5;124m\"\u001b[39m\u001b[38;5;124m - Input:\u001b[39m\u001b[38;5;124m\"\u001b[39m, all_data\u001b[38;5;241m.\u001b[39mshape, \u001b[38;5;124m\"\u001b[39m\u001b[38;5;124m - Output:\u001b[39m\u001b[38;5;124m\"\u001b[39m, all_label\u001b[38;5;241m.\u001b[39mshape, \u001b[38;5;124m\"\u001b[39m\u001b[38;5;124m - rate:\u001b[39m\u001b[38;5;124m\"\u001b[39m, rate)\n\u001b[1;32m     28\u001b[0m \u001b[38;5;28mprint\u001b[39m(\u001b[38;5;124m\"\u001b[39m\u001b[38;5;130;01m\\t\u001b[39;00m\u001b[38;5;124mExtrayendo caracteristicas audios\u001b[39m\u001b[38;5;124m\"\u001b[39m)\n",
      "File \u001b[0;32m/tf/libraries/Kaggle_audios.py:79\u001b[0m, in \u001b[0;36mKaggle_audios.read_data\u001b[0;34m(self, limit, show_info)\u001b[0m\n\u001b[1;32m     75\u001b[0m     \u001b[38;5;28mprint\u001b[39m(\u001b[38;5;124m\"\u001b[39m\u001b[38;5;130;01m\\t\u001b[39;00m\u001b[38;5;130;01m\\t\u001b[39;00m\u001b[38;5;124mReading: id:\u001b[39m\u001b[38;5;124m\"\u001b[39m, \u001b[38;5;124mf\u001b[39m\u001b[38;5;124m\"\u001b[39m\u001b[38;5;132;01m{\u001b[39;00mi\u001b[38;5;132;01m}\u001b[39;00m\u001b[38;5;124m/\u001b[39m\u001b[38;5;132;01m{\u001b[39;00mpartial\u001b[38;5;132;01m}\u001b[39;00m\u001b[38;5;124m\"\u001b[39m, \u001b[38;5;124m\"\u001b[39m\u001b[38;5;124m - file:\u001b[39m\u001b[38;5;124m\"\u001b[39m, resource_read, \u001b[38;5;124m\"\u001b[39m\u001b[38;5;124m - len before:\u001b[39m\u001b[38;5;124m\"\u001b[39m, \u001b[38;5;28mlen\u001b[39m(all_data))\n\u001b[1;32m     76\u001b[0m \u001b[38;5;66;03m# print(resource_read + \".wav\", len(muestras_wav), type(muestras_wav))\u001b[39;00m\n\u001b[1;32m     77\u001b[0m \u001b[38;5;66;03m# print(resource_read + \".csv\", len(instrumentos), type(instrumentos))\u001b[39;00m\n\u001b[0;32m---> 79\u001b[0m all_data \u001b[38;5;241m+\u001b[39m\u001b[38;5;241m=\u001b[39m \u001b[38;5;28;43mself\u001b[39;49m\u001b[38;5;241;43m.\u001b[39;49m\u001b[43m__correccion_data\u001b[49m\u001b[43m(\u001b[49m\u001b[43mmuestras_wav\u001b[49m\u001b[43m)\u001b[49m\n\u001b[1;32m     80\u001b[0m all_label \u001b[38;5;241m+\u001b[39m\u001b[38;5;241m=\u001b[39m \u001b[38;5;28mself\u001b[39m\u001b[38;5;241m.\u001b[39m__correcion_instrumentos(instrumentos)\n\u001b[1;32m     82\u001b[0m \u001b[38;5;28;01mtry\u001b[39;00m:\n",
      "File \u001b[0;32m/tf/libraries/Kaggle_audios.py:52\u001b[0m, in \u001b[0;36mKaggle_audios.__correccion_data\u001b[0;34m(self, muestras_wav)\u001b[0m\n\u001b[1;32m     50\u001b[0m \u001b[38;5;28;01mdef\u001b[39;00m \u001b[38;5;21m__correccion_data\u001b[39m(\u001b[38;5;28mself\u001b[39m, muestras_wav):\n\u001b[1;32m     51\u001b[0m     c \u001b[38;5;241m=\u001b[39m [\u001b[38;5;241m0\u001b[39m \u001b[38;5;28;01mfor\u001b[39;00m _ \u001b[38;5;129;01min\u001b[39;00m \u001b[38;5;28mrange\u001b[39m(\u001b[38;5;28mlen\u001b[39m(muestras_wav[\u001b[38;5;241m-\u001b[39m\u001b[38;5;241m2\u001b[39m]) \u001b[38;5;241m-\u001b[39m \u001b[38;5;28mlen\u001b[39m(muestras_wav[\u001b[38;5;241m-\u001b[39m\u001b[38;5;241m1\u001b[39m]))]\n\u001b[0;32m---> 52\u001b[0m     muestras_wav[\u001b[38;5;241m-\u001b[39m\u001b[38;5;241m1\u001b[39m] \u001b[38;5;241m=\u001b[39m \u001b[43mnp\u001b[49m\u001b[38;5;241;43m.\u001b[39;49m\u001b[43marray\u001b[49m\u001b[43m(\u001b[49m\u001b[43mmuestras_wav\u001b[49m\u001b[43m[\u001b[49m\u001b[38;5;241;43m-\u001b[39;49m\u001b[38;5;241;43m1\u001b[39;49m\u001b[43m]\u001b[49m\u001b[38;5;241;43m.\u001b[39;49m\u001b[43mtolist\u001b[49m\u001b[43m(\u001b[49m\u001b[43m)\u001b[49m\u001b[43m \u001b[49m\u001b[38;5;241;43m+\u001b[39;49m\u001b[43m \u001b[49m\u001b[43mc\u001b[49m\u001b[43m)\u001b[49m\n\u001b[1;32m     53\u001b[0m     \u001b[38;5;28;01mreturn\u001b[39;00m muestras_wav\n",
      "\u001b[0;31mKeyboardInterrupt\u001b[0m: "
     ]
    }
   ],
   "source": [
    "print(\"Preprocesando TRAIN\")\n",
    "data_train = Preprocesar_audios(ARCHIVO_FINAL_TRAIN, use_train=True, save=False)\n",
    "print(\"\\tTime:\", TIEMPO_SELECCIONADO, \" - Train:\", len(data_train))"
   ]
  },
  {
   "cell_type": "markdown",
   "metadata": {},
   "source": [
    "## 1.2) Hallando el normalizador y el PCA"
   ]
  },
  {
   "cell_type": "code",
   "execution_count": 6,
   "metadata": {},
   "outputs": [],
   "source": [
    "from sklearn.decomposition import PCA\n",
    "from sklearn.preprocessing import StandardScaler\n",
    "from sklearn.pipeline import make_pipeline"
   ]
  },
  {
   "cell_type": "code",
   "execution_count": 7,
   "metadata": {},
   "outputs": [],
   "source": [
    "X_train, _ = prepare_data_tensorflow(data_train)\n",
    "scaler_pca = make_pipeline(StandardScaler(), PCA())\n",
    "scaler_pca.fit(X_train)\n",
    "\n",
    "modelo_pca = scaler_pca.named_steps['pca']"
   ]
  },
  {
   "cell_type": "code",
   "execution_count": 7,
   "metadata": {},
   "outputs": [
    {
     "ename": "NameError",
     "evalue": "name 'modelo_pca' is not defined",
     "output_type": "error",
     "traceback": [
      "\u001b[0;31m---------------------------------------------------------------------------\u001b[0m",
      "\u001b[0;31mNameError\u001b[0m                                 Traceback (most recent call last)",
      "Input \u001b[0;32mIn [7]\u001b[0m, in \u001b[0;36m<module>\u001b[0;34m\u001b[0m\n\u001b[1;32m      1\u001b[0m \u001b[38;5;28;01mimport\u001b[39;00m \u001b[38;5;21;01mmatplotlib\u001b[39;00m\u001b[38;5;21;01m.\u001b[39;00m\u001b[38;5;21;01mpyplot\u001b[39;00m \u001b[38;5;28;01mas\u001b[39;00m \u001b[38;5;21;01mplt\u001b[39;00m\n\u001b[1;32m      2\u001b[0m \u001b[38;5;66;03m# Porcentaje de varianza explicada acumulada\u001b[39;00m\n\u001b[1;32m      3\u001b[0m \u001b[38;5;66;03m# ==============================================================================\u001b[39;00m\n\u001b[0;32m----> 4\u001b[0m prop_varianza_acum \u001b[38;5;241m=\u001b[39m \u001b[43mmodelo_pca\u001b[49m\u001b[38;5;241m.\u001b[39mexplained_variance_ratio_\u001b[38;5;241m.\u001b[39mcumsum()\n\u001b[1;32m      5\u001b[0m \u001b[38;5;28mprint\u001b[39m(\u001b[38;5;124m'\u001b[39m\u001b[38;5;124m------------------------------------------\u001b[39m\u001b[38;5;124m'\u001b[39m)\n\u001b[1;32m      6\u001b[0m \u001b[38;5;28mprint\u001b[39m(\u001b[38;5;124m'\u001b[39m\u001b[38;5;124mPorcentaje de varianza explicada acumulada\u001b[39m\u001b[38;5;124m'\u001b[39m)\n",
      "\u001b[0;31mNameError\u001b[0m: name 'modelo_pca' is not defined"
     ]
    }
   ],
   "source": [
    "import matplotlib.pyplot as plt\n",
    "# Porcentaje de varianza explicada acumulada\n",
    "# ==============================================================================\n",
    "prop_varianza_acum = modelo_pca.explained_variance_ratio_.cumsum()\n",
    "print('------------------------------------------')\n",
    "print('Porcentaje de varianza explicada acumulada')\n",
    "print('------------------------------------------')\n",
    "print(prop_varianza_acum)\n",
    "\n",
    "fig, ax = plt.subplots(nrows=1, ncols=1, figsize=(20, 20))\n",
    "ax.plot(\n",
    "    np.arange(26) + 1,\n",
    "    prop_varianza_acum,\n",
    "    marker='o'\n",
    ")\n",
    "\n",
    "for x, y in zip(np.arange(26) + 1, prop_varianza_acum):\n",
    "    label = round(y, 2)\n",
    "    ax.annotate(\n",
    "        label,\n",
    "        (x, y),\n",
    "        textcoords=\"offset points\",\n",
    "        xytext=(0, 10),\n",
    "        ha='center',\n",
    "        fontsize=20\n",
    "    )\n",
    "\n",
    "ax.set_ylim(0, 1.1)\n",
    "ax.set_xticks(np.arange(modelo_pca.n_components_) + 1)\n",
    "ax.set_title('Porcentaje de varianza explicada acumulada')\n",
    "ax.set_xlabel('Componente principal')\n",
    "ax.set_ylabel('Por. varianza acumulada')\n",
    "\n",
    "ax.axvline(x=15, color=\"red\")\n",
    "ax.axhline(y=0.925, color=\"red\")\n",
    "\n",
    "plt.show()\n"
   ]
  },
  {
   "cell_type": "raw",
   "metadata": {},
   "source": [
    "se elige el 92% como valor de varianza explicada, pues con esta varianza de 8% menos del total se logra una reduccion de entradas del 42% (26 a 15) con lo que es un buen negocio que le facilita al modelo el aprendizaje"
   ]
  },
  {
   "cell_type": "code",
   "execution_count": 9,
   "metadata": {},
   "outputs": [
    {
     "data": {
      "text/plain": [
       "Pipeline(steps=[('standardscaler', StandardScaler()),\n",
       "                ('pca', PCA(n_components=0.92))])"
      ]
     },
     "execution_count": 9,
     "metadata": {},
     "output_type": "execute_result"
    }
   ],
   "source": [
    "\"\"\"\n",
    "            Hallando el Normalizador y el PCA (92%)\n",
    "\"\"\"\n",
    "\n",
    "MINIMA_VARIANA_EXPLICADA = 0.92\n",
    "scaler_pca = make_pipeline(StandardScaler(), PCA(MINIMA_VARIANA_EXPLICADA))\n",
    "scaler_pca.fit(X_train)"
   ]
  },
  {
   "cell_type": "code",
   "execution_count": 10,
   "metadata": {},
   "outputs": [],
   "source": [
    "pickle.dump(scaler_pca, open('data/scaler_pca_to_use/scaler_pca.pkl','wb'))"
   ]
  },
  {
   "cell_type": "markdown",
   "metadata": {},
   "source": [
    "## 1.3) Aplicando el normalizador, PCA a los datos train y guardando el resultado"
   ]
  },
  {
   "cell_type": "code",
   "execution_count": 11,
   "metadata": {},
   "outputs": [],
   "source": [
    "\"\"\"\n",
    "            Aplicando PCA\n",
    "\"\"\"\n",
    "X_train, Y_train = prepare_data_tensorflow(data_train)\n",
    "aplicando_pca(scaler_pca, ARCHIVO_FINAL_TRAIN, X_train, Y_train )"
   ]
  },
  {
   "cell_type": "markdown",
   "metadata": {},
   "source": [
    "## 1.4) Aplicando el normalizador, PCA a los datos test y guardando el resultado"
   ]
  },
  {
   "cell_type": "code",
   "execution_count": 12,
   "metadata": {},
   "outputs": [
    {
     "name": "stdout",
     "output_type": "stream",
     "text": [
      "Preprocesando TEST\n",
      "/kaggle/input/musicnet-dataset/musicnet/musicnet/test_data/\n",
      "/kaggle/input/musicnet-dataset/musicnet/musicnet/test_labels/\n",
      "\tLeyendo todos los archivos WAV originales\n",
      "\n",
      "\t. . . . . . . . . . \tTime: 3  - Input: (499, 132300)  - Output: (499, 11)  - rate: 44100\n",
      "\tExtrayendo caracteristicas audios\n",
      "\n",
      "\t............................................................................................................................"
     ]
    },
    {
     "name": "stderr",
     "output_type": "stream",
     "text": [
      "/usr/local/lib/python3.8/dist-packages/librosa/core/pitch.py:153: UserWarning: Trying to estimate tuning from empty frequency set.\n",
      "  warnings.warn(\"Trying to estimate tuning from empty frequency set.\")\n"
     ]
    },
    {
     "name": "stdout",
     "output_type": "stream",
     "text": [
      "..........................\n",
      "\t......................................................................................................................................................\n",
      "\t......................................................................................................................................................\n",
      "\t.................................................\tConvirtiendo a numpy\n",
      "\tTime: 3  - Test: 499\n"
     ]
    }
   ],
   "source": [
    "print(\"Preprocesando TEST\")\n",
    "data_test = Preprocesar_audios(ARCHIVO_FINAL_TEST, False, save=False)\n",
    "print(\"\\tTime:\", TIEMPO_SELECCIONADO, \" - Test:\", len(data_test))\n",
    "\n",
    "X_test, Y_test = prepare_data_tensorflow(data_test)\n",
    "aplicando_pca(scaler_pca, ARCHIVO_FINAL_TEST, X_test, Y_test )"
   ]
  },
  {
   "cell_type": "markdown",
   "metadata": {},
   "source": [
    "# 2) Cargando los datos para usarlos en el entrenamiento del modelo"
   ]
  },
  {
   "cell_type": "code",
   "execution_count": 13,
   "metadata": {},
   "outputs": [
    {
     "name": "stdout",
     "output_type": "stream",
     "text": [
      "x_for_model_charge_train: (40625, 15) (40625, 11)\n"
     ]
    }
   ],
   "source": [
    "\"\"\"\n",
    "            Leyendo datos\n",
    "\"\"\"\n",
    "xTrain_for_model_charge, yTrain = leyendo_datos(ARCHIVO_FINAL_TRAIN)\n",
    "print(\"x_for_model_charge_train:\", xTrain_for_model_charge.shape, yTrain.shape)"
   ]
  },
  {
   "cell_type": "code",
   "execution_count": 14,
   "metadata": {},
   "outputs": [
    {
     "name": "stdout",
     "output_type": "stream",
     "text": [
      "x_for_model_charge_test: (499, 15) (499, 11)\n"
     ]
    }
   ],
   "source": [
    "xTest_for_model_charge, yTest = leyendo_datos(ARCHIVO_FINAL_TEST)\n",
    "print(\"x_for_model_charge_test:\", xTest_for_model_charge.shape, yTest.shape)"
   ]
  },
  {
   "cell_type": "markdown",
   "metadata": {},
   "source": [
    "# 3) Creando y entrenando modelos modelos"
   ]
  },
  {
   "cell_type": "markdown",
   "metadata": {},
   "source": [
    "## 3.1) Modelo clasico"
   ]
  },
  {
   "cell_type": "code",
   "execution_count": 18,
   "metadata": {},
   "outputs": [],
   "source": [
    "from sklearn.model_selection import train_test_split\n",
    "from sklearn.multioutput import MultiOutputClassifier\n",
    "from sklearn.model_selection import KFold\n",
    "from sklearn.model_selection import GridSearchCV\n",
    "import sklearn.metrics as metrics"
   ]
  },
  {
   "cell_type": "code",
   "execution_count": 19,
   "metadata": {},
   "outputs": [],
   "source": [
    "from sklearn.linear_model import LogisticRegression\n",
    "from sklearn.tree import DecisionTreeClassifier\n",
    "from sklearn.ensemble import RandomForestClassifier\n",
    "\n",
    "from sklearn.naive_bayes import GaussianNB\n",
    "from sklearn.svm import SVC\n",
    "from sklearn.dummy import DummyClassifier\n",
    "from sklearn.neighbors import KNeighborsClassifier"
   ]
  },
  {
   "cell_type": "code",
   "execution_count": 20,
   "metadata": {},
   "outputs": [],
   "source": [
    "mean = lambda lst: int((sum(lst) / len(lst))*100)/100\n",
    "\n",
    "\n",
    "def calcular_porcentajes_aciertos(y_f, y_t):\n",
    "    verdaderos = dict()\n",
    "    falsos = dict()\n",
    "    for j in range(y_f.shape[1]):\n",
    "        verdaderos[j] = 0\n",
    "        falsos[j] = 0\n",
    "\n",
    "    for i in range(y_f.shape[0]):\n",
    "        for j in range(y_f.shape[1]):\n",
    "            if y_f[i][j] == y_t[i][j]:\n",
    "                verdaderos[j] += 1\n",
    "            else:\n",
    "                falsos[j] += 1\n",
    "\n",
    "    for j in range(y_f.shape[1]):\n",
    "        #y_final.shape[1] -> 100%\n",
    "        #verdaderos[j]    -> X\n",
    "        verdaderos[j] = int(verdaderos[j] * 100 / y_f.shape[0])\n",
    "        falsos[j] = int(falsos[j] * 100 / y_f.shape[0])\n",
    "\n",
    "    return verdaderos, falsos, str(mean([v for i, v in verdaderos.items()])) + \"%\""
   ]
  },
  {
   "cell_type": "markdown",
   "metadata": {},
   "source": [
    "## 3.1.1)  Dividiendo datos para train y valid"
   ]
  },
  {
   "cell_type": "code",
   "execution_count": 21,
   "metadata": {},
   "outputs": [],
   "source": [
    "X_train, X_test, y_train, y_test = train_test_split(xTrain_for_model_charge, yTrain, test_size=0.1)  # 0.2"
   ]
  },
  {
   "cell_type": "markdown",
   "metadata": {},
   "source": [
    "## 3.2) Entrenando modelo"
   ]
  },
  {
   "cell_type": "code",
   "execution_count": 22,
   "metadata": {},
   "outputs": [
    {
     "name": "stdout",
     "output_type": "stream",
     "text": [
      "[RandomForestClassifier] Aciertos train 100.0%\n",
      "[RandomForestClassifier] Aciertos validacion 95.9%\n",
      "[RandomForestClassifier] Aciertos test 94.81%\n"
     ]
    }
   ],
   "source": [
    "algoritmo_clasico = RandomForestClassifier()\n",
    "algoritmo_clasico = MultiOutputClassifier(algoritmo_clasico, n_jobs=-1)\n",
    "\n",
    "seed = 1\n",
    "grid = GridSearchCV(\n",
    "          estimator = algoritmo_clasico,\n",
    "          param_grid={},\n",
    "          cv = KFold(n_splits=10, shuffle=True, random_state=seed)\n",
    "        )\n",
    "grid.fit(X_train, y_train)\n",
    "algoritmo_clasico = grid.best_estimator_\n",
    "\n",
    "\n",
    "\n",
    "\n",
    "y_final = algoritmo_clasico.predict(X_train)\n",
    "aciertos = calcular_porcentajes_aciertos(y_final, y_train)[2]\n",
    "print(\"[RandomForestClassifier] Aciertos train\", aciertos)\n",
    "\n",
    "\n",
    "\n",
    "\n",
    "\n",
    "y_final = algoritmo_clasico.predict(X_test)\n",
    "aciertos = calcular_porcentajes_aciertos(y_final, y_test)[2]\n",
    "print(\"[RandomForestClassifier] Aciertos validacion\", aciertos)\n",
    "\n",
    "\n",
    "\n",
    "\n",
    "\n",
    "y_final = algoritmo_clasico.predict(xTest_for_model_charge)\n",
    "aciertos = calcular_porcentajes_aciertos(y_final, yTest)[2]\n",
    "print(\"[RandomForestClassifier] Aciertos test\", aciertos)"
   ]
  },
  {
   "cell_type": "code",
   "execution_count": 24,
   "metadata": {},
   "outputs": [
    {
     "ename": "AttributeError",
     "evalue": "'MultiOutputClassifier' object has no attribute 'tree_'",
     "output_type": "error",
     "traceback": [
      "\u001b[0;31m---------------------------------------------------------------------------\u001b[0m",
      "\u001b[0;31mAttributeError\u001b[0m                            Traceback (most recent call last)",
      "Input \u001b[0;32mIn [24]\u001b[0m, in \u001b[0;36m<module>\u001b[0;34m\u001b[0m\n\u001b[1;32m      1\u001b[0m \u001b[38;5;28;01mfrom\u001b[39;00m \u001b[38;5;21;01msklearn\u001b[39;00m\u001b[38;5;21;01m.\u001b[39;00m\u001b[38;5;21;01mtree\u001b[39;00m \u001b[38;5;28;01mimport\u001b[39;00m export_graphviz\n\u001b[0;32m----> 2\u001b[0m \u001b[43mexport_graphviz\u001b[49m\u001b[43m(\u001b[49m\u001b[43malgoritmo_clasico\u001b[49m\u001b[43m,\u001b[49m\n\u001b[1;32m      3\u001b[0m \u001b[43m                \u001b[49m\u001b[43mfilled\u001b[49m\u001b[38;5;241;43m=\u001b[39;49m\u001b[38;5;28;43;01mTrue\u001b[39;49;00m\u001b[43m,\u001b[49m\n\u001b[1;32m      4\u001b[0m \u001b[43m                \u001b[49m\u001b[43mrounded\u001b[49m\u001b[38;5;241;43m=\u001b[39;49m\u001b[38;5;28;43;01mTrue\u001b[39;49;00m\u001b[43m)\u001b[49m\n",
      "File \u001b[0;32m/usr/local/lib/python3.8/dist-packages/sklearn/tree/_export.py:889\u001b[0m, in \u001b[0;36mexport_graphviz\u001b[0;34m(decision_tree, out_file, max_depth, feature_names, class_names, label, filled, leaves_parallel, impurity, node_ids, proportion, rotate, rounded, special_characters, precision, fontname)\u001b[0m\n\u001b[1;32m    870\u001b[0m     out_file \u001b[38;5;241m=\u001b[39m StringIO()\n\u001b[1;32m    872\u001b[0m exporter \u001b[38;5;241m=\u001b[39m _DOTTreeExporter(\n\u001b[1;32m    873\u001b[0m     out_file\u001b[38;5;241m=\u001b[39mout_file,\n\u001b[1;32m    874\u001b[0m     max_depth\u001b[38;5;241m=\u001b[39mmax_depth,\n\u001b[0;32m   (...)\u001b[0m\n\u001b[1;32m    887\u001b[0m     fontname\u001b[38;5;241m=\u001b[39mfontname,\n\u001b[1;32m    888\u001b[0m )\n\u001b[0;32m--> 889\u001b[0m \u001b[43mexporter\u001b[49m\u001b[38;5;241;43m.\u001b[39;49m\u001b[43mexport\u001b[49m\u001b[43m(\u001b[49m\u001b[43mdecision_tree\u001b[49m\u001b[43m)\u001b[49m\n\u001b[1;32m    891\u001b[0m \u001b[38;5;28;01mif\u001b[39;00m return_string:\n\u001b[1;32m    892\u001b[0m     \u001b[38;5;28;01mreturn\u001b[39;00m exporter\u001b[38;5;241m.\u001b[39mout_file\u001b[38;5;241m.\u001b[39mgetvalue()\n",
      "File \u001b[0;32m/usr/local/lib/python3.8/dist-packages/sklearn/tree/_export.py:462\u001b[0m, in \u001b[0;36m_DOTTreeExporter.export\u001b[0;34m(self, decision_tree)\u001b[0m\n\u001b[1;32m    460\u001b[0m     \u001b[38;5;28mself\u001b[39m\u001b[38;5;241m.\u001b[39mrecurse(decision_tree, \u001b[38;5;241m0\u001b[39m, criterion\u001b[38;5;241m=\u001b[39m\u001b[38;5;124m\"\u001b[39m\u001b[38;5;124mimpurity\u001b[39m\u001b[38;5;124m\"\u001b[39m)\n\u001b[1;32m    461\u001b[0m \u001b[38;5;28;01melse\u001b[39;00m:\n\u001b[0;32m--> 462\u001b[0m     \u001b[38;5;28mself\u001b[39m\u001b[38;5;241m.\u001b[39mrecurse(\u001b[43mdecision_tree\u001b[49m\u001b[38;5;241;43m.\u001b[39;49m\u001b[43mtree_\u001b[49m, \u001b[38;5;241m0\u001b[39m, criterion\u001b[38;5;241m=\u001b[39mdecision_tree\u001b[38;5;241m.\u001b[39mcriterion)\n\u001b[1;32m    464\u001b[0m \u001b[38;5;28mself\u001b[39m\u001b[38;5;241m.\u001b[39mtail()\n",
      "\u001b[0;31mAttributeError\u001b[0m: 'MultiOutputClassifier' object has no attribute 'tree_'"
     ]
    }
   ],
   "source": [
    "from sklearn.tree import export_graphviz\n",
    "export_graphviz(algoritmo_clasico,\n",
    "                filled=True,\n",
    "                rounded=True)"
   ]
  },
  {
   "cell_type": "code",
   "execution_count": 20,
   "metadata": {},
   "outputs": [
    {
     "name": "stdout",
     "output_type": "stream",
     "text": [
      "[LogisticRegression] Aciertos train 92.63%\n",
      "[LogisticRegression] Aciertos validacion 92.36%\n",
      "[LogisticRegression] Aciertos test 91.18%\n"
     ]
    }
   ],
   "source": [
    "algoritmo_clasico = LogisticRegression(\n",
    "          solver='sag', #'liblinear', 'sag'\n",
    "          max_iter=1000, \n",
    "          random_state=1, #0 ,1\n",
    "          multi_class='ovr'\n",
    "          )\n",
    "algoritmo_clasico = MultiOutputClassifier(algoritmo_clasico, n_jobs=-1)\n",
    "\n",
    "seed = 1\n",
    "grid = GridSearchCV(\n",
    "          estimator = algoritmo_clasico,\n",
    "          param_grid={},\n",
    "          cv = KFold(n_splits=10, shuffle=True, random_state=seed)\n",
    "        )\n",
    "grid.fit(X_train, y_train)\n",
    "algoritmo_clasico = grid.best_estimator_\n",
    "\n",
    "\n",
    "\n",
    "y_final = algoritmo_clasico.predict(X_train)\n",
    "aciertos = calcular_porcentajes_aciertos(y_final, y_train)[2]\n",
    "print(\"[LogisticRegression] Aciertos train\", aciertos)\n",
    "\n",
    "\n",
    "\n",
    "\n",
    "y_final = algoritmo_clasico.predict(X_test)\n",
    "aciertos = calcular_porcentajes_aciertos(y_final, y_test)[2]\n",
    "print(\"[LogisticRegression] Aciertos validacion\", aciertos)\n",
    "\n",
    "\n",
    "\n",
    "\n",
    "\n",
    "y_final = algoritmo_clasico.predict(xTest_for_model_charge)\n",
    "aciertos = calcular_porcentajes_aciertos(y_final, yTest)[2]\n",
    "print(\"[LogisticRegression] Aciertos test\", aciertos)"
   ]
  },
  {
   "cell_type": "code",
   "execution_count": 21,
   "metadata": {},
   "outputs": [
    {
     "name": "stdout",
     "output_type": "stream",
     "text": [
      "[DecisionTreeClassifier] Aciertos train 100.0%\n",
      "[DecisionTreeClassifier] Aciertos validacion 92.9%\n",
      "[DecisionTreeClassifier] Aciertos test 92.9%\n"
     ]
    }
   ],
   "source": [
    "algoritmo_clasico = DecisionTreeClassifier(\n",
    "          max_depth = None,\n",
    "          min_samples_split = 2,\n",
    "          min_samples_leaf  = 1,\n",
    "          random_state      = 123\n",
    "          )\n",
    "algoritmo_clasico = MultiOutputClassifier(algoritmo_clasico, n_jobs=-1)\n",
    "\n",
    "seed = 1\n",
    "grid = GridSearchCV(\n",
    "          estimator = algoritmo_clasico,\n",
    "          param_grid={},\n",
    "          cv = KFold(n_splits=10, shuffle=True, random_state=seed)\n",
    "        )\n",
    "grid.fit(X_train, y_train)\n",
    "algoritmo_clasico = grid.best_estimator_\n",
    "\n",
    "\n",
    "\n",
    "y_final = algoritmo_clasico.predict(X_train)\n",
    "aciertos = calcular_porcentajes_aciertos(y_final, y_train)[2]\n",
    "print(\"[DecisionTreeClassifier] Aciertos train\", aciertos)\n",
    "\n",
    "\n",
    "\n",
    "\n",
    "\n",
    "y_final = algoritmo_clasico.predict(X_test)\n",
    "aciertos = calcular_porcentajes_aciertos(y_final, y_test)[2]\n",
    "print(\"[DecisionTreeClassifier] Aciertos validacion\", aciertos)\n",
    "\n",
    "\n",
    "\n",
    "\n",
    "\n",
    "y_final = algoritmo_clasico.predict(xTest_for_model_charge)\n",
    "aciertos = calcular_porcentajes_aciertos(y_final, yTest)[2]\n",
    "print(\"[DecisionTreeClassifier] Aciertos test\", aciertos)"
   ]
  },
  {
   "cell_type": "code",
   "execution_count": 22,
   "metadata": {},
   "outputs": [
    {
     "name": "stderr",
     "output_type": "stream",
     "text": [
      "/usr/local/lib/python3.8/dist-packages/sklearn/utils/deprecation.py:103: FutureWarning: `n_features_in_` is deprecated in 1.0 and will be removed in 1.2.\n",
      "  warnings.warn(msg, category=FutureWarning)\n",
      "/usr/local/lib/python3.8/dist-packages/sklearn/utils/deprecation.py:103: FutureWarning: `n_features_in_` is deprecated in 1.0 and will be removed in 1.2.\n",
      "  warnings.warn(msg, category=FutureWarning)\n",
      "/usr/local/lib/python3.8/dist-packages/sklearn/utils/deprecation.py:103: FutureWarning: `n_features_in_` is deprecated in 1.0 and will be removed in 1.2.\n",
      "  warnings.warn(msg, category=FutureWarning)\n",
      "/usr/local/lib/python3.8/dist-packages/sklearn/utils/deprecation.py:103: FutureWarning: `n_features_in_` is deprecated in 1.0 and will be removed in 1.2.\n",
      "  warnings.warn(msg, category=FutureWarning)\n",
      "/usr/local/lib/python3.8/dist-packages/sklearn/utils/deprecation.py:103: FutureWarning: `n_features_in_` is deprecated in 1.0 and will be removed in 1.2.\n",
      "  warnings.warn(msg, category=FutureWarning)\n",
      "/usr/local/lib/python3.8/dist-packages/sklearn/utils/deprecation.py:103: FutureWarning: `n_features_in_` is deprecated in 1.0 and will be removed in 1.2.\n",
      "  warnings.warn(msg, category=FutureWarning)\n",
      "/usr/local/lib/python3.8/dist-packages/sklearn/utils/deprecation.py:103: FutureWarning: `n_features_in_` is deprecated in 1.0 and will be removed in 1.2.\n",
      "  warnings.warn(msg, category=FutureWarning)\n",
      "/usr/local/lib/python3.8/dist-packages/sklearn/utils/deprecation.py:103: FutureWarning: `n_features_in_` is deprecated in 1.0 and will be removed in 1.2.\n",
      "  warnings.warn(msg, category=FutureWarning)\n",
      "/usr/local/lib/python3.8/dist-packages/sklearn/utils/deprecation.py:103: FutureWarning: `n_features_in_` is deprecated in 1.0 and will be removed in 1.2.\n",
      "  warnings.warn(msg, category=FutureWarning)\n",
      "/usr/local/lib/python3.8/dist-packages/sklearn/utils/deprecation.py:103: FutureWarning: `n_features_in_` is deprecated in 1.0 and will be removed in 1.2.\n",
      "  warnings.warn(msg, category=FutureWarning)\n",
      "/usr/local/lib/python3.8/dist-packages/sklearn/utils/deprecation.py:103: FutureWarning: `n_features_in_` is deprecated in 1.0 and will be removed in 1.2.\n",
      "  warnings.warn(msg, category=FutureWarning)\n"
     ]
    },
    {
     "name": "stdout",
     "output_type": "stream",
     "text": [
      "[DummyClassifier] Aciertos train 85.18%\n",
      "[DummyClassifier] Aciertos validacion 85.27%\n",
      "[DummyClassifier] Aciertos test 80.9%\n"
     ]
    }
   ],
   "source": [
    "algoritmo_clasico = DummyClassifier()\n",
    "algoritmo_clasico = MultiOutputClassifier(algoritmo_clasico, n_jobs=-1)\n",
    "\n",
    "seed = 1\n",
    "grid = GridSearchCV(\n",
    "          estimator = algoritmo_clasico,\n",
    "          param_grid={},\n",
    "          cv = KFold(n_splits=10, shuffle=True, random_state=seed)\n",
    "        )\n",
    "grid.fit(X_train, y_train)\n",
    "algoritmo_clasico = grid.best_estimator_\n",
    "\n",
    "\n",
    "\n",
    "y_final = algoritmo_clasico.predict(X_train)\n",
    "aciertos = calcular_porcentajes_aciertos(y_final, y_train)[2]\n",
    "print(\"[DummyClassifier] Aciertos train\", aciertos)\n",
    "\n",
    "\n",
    "\n",
    "\n",
    "\n",
    "y_final = algoritmo_clasico.predict(X_test)\n",
    "aciertos = calcular_porcentajes_aciertos(y_final, y_test)[2]\n",
    "print(\"[DummyClassifier] Aciertos validacion\", aciertos)\n",
    "\n",
    "\n",
    "\n",
    "\n",
    "\n",
    "y_final = algoritmo_clasico.predict(xTest_for_model_charge)\n",
    "aciertos = calcular_porcentajes_aciertos(y_final, yTest)[2]\n",
    "print(\"[DummyClassifier] Aciertos test\", aciertos)"
   ]
  },
  {
   "cell_type": "code",
   "execution_count": 23,
   "metadata": {},
   "outputs": [
    {
     "name": "stdout",
     "output_type": "stream",
     "text": [
      "[KNeighborsClassifier] Aciertos train 97.09%\n",
      "[KNeighborsClassifier] Aciertos validacion 96.36%\n",
      "[KNeighborsClassifier] Aciertos test 96.09%\n"
     ]
    }
   ],
   "source": [
    "algoritmo_clasico = KNeighborsClassifier(11)\n",
    "algoritmo_clasico = MultiOutputClassifier(algoritmo_clasico, n_jobs=-1)\n",
    "\n",
    "seed = 1\n",
    "grid = GridSearchCV(\n",
    "          estimator = algoritmo_clasico,\n",
    "          param_grid={},\n",
    "          cv = KFold(n_splits=10, shuffle=True, random_state=seed)\n",
    "        )\n",
    "grid.fit(X_train, y_train)\n",
    "algoritmo_clasico = grid.best_estimator_\n",
    "\n",
    "\n",
    "\n",
    "y_final = algoritmo_clasico.predict(X_train)\n",
    "aciertos = calcular_porcentajes_aciertos(y_final, y_train)[2]\n",
    "print(\"[KNeighborsClassifier] Aciertos train\", aciertos)\n",
    "\n",
    "\n",
    "\n",
    "\n",
    "\n",
    "y_final = algoritmo_clasico.predict(X_test)\n",
    "aciertos = calcular_porcentajes_aciertos(y_final, y_test)[2]\n",
    "print(\"[KNeighborsClassifier] Aciertos validacion\", aciertos)\n",
    "\n",
    "\n",
    "\n",
    "\n",
    "\n",
    "y_final = algoritmo_clasico.predict(xTest_for_model_charge)\n",
    "aciertos = calcular_porcentajes_aciertos(y_final, yTest)[2]\n",
    "print(\"[KNeighborsClassifier] Aciertos test\", aciertos)"
   ]
  },
  {
   "cell_type": "code",
   "execution_count": 24,
   "metadata": {},
   "outputs": [
    {
     "name": "stdout",
     "output_type": "stream",
     "text": [
      "[GaussianNB] Aciertos train 90.72%\n",
      "[GaussianNB] Aciertos validacion 90.54%\n",
      "[GaussianNB] Aciertos test 89.36%\n"
     ]
    }
   ],
   "source": [
    "algoritmo_clasico = GaussianNB()\n",
    "algoritmo_clasico = MultiOutputClassifier(algoritmo_clasico, n_jobs=-1)\n",
    "\n",
    "seed = 1\n",
    "grid = GridSearchCV(\n",
    "          estimator = algoritmo_clasico,\n",
    "          param_grid={},\n",
    "          cv = KFold(n_splits=10, shuffle=True, random_state=seed)\n",
    "        )\n",
    "grid.fit(X_train, y_train)\n",
    "algoritmo_clasico = grid.best_estimator_\n",
    "\n",
    "\n",
    "\n",
    "y_final = algoritmo_clasico.predict(X_train)\n",
    "aciertos = calcular_porcentajes_aciertos(y_final, y_train)[2]\n",
    "print(\"[GaussianNB] Aciertos train\", aciertos)\n",
    "\n",
    "\n",
    "\n",
    "\n",
    "\n",
    "y_final = algoritmo_clasico.predict(X_test)\n",
    "aciertos = calcular_porcentajes_aciertos(y_final, y_test)[2]\n",
    "print(\"[GaussianNB] Aciertos validacion\", aciertos)\n",
    "\n",
    "\n",
    "\n",
    "\n",
    "\n",
    "y_final = algoritmo_clasico.predict(xTest_for_model_charge)\n",
    "aciertos = calcular_porcentajes_aciertos(y_final, yTest)[2]\n",
    "print(\"[GaussianNB] Aciertos test\", aciertos)"
   ]
  },
  {
   "cell_type": "markdown",
   "metadata": {},
   "source": [
    "## 3.3) Guardando modelo"
   ]
  },
  {
   "cell_type": "code",
   "execution_count": 25,
   "metadata": {},
   "outputs": [],
   "source": [
    "pickle.dump(algoritmo_clasico, open('data/scaler_pca_to_use/KNeighborsClassifier.pkl', 'wb'))"
   ]
  },
  {
   "cell_type": "markdown",
   "metadata": {},
   "source": [
    "## 3.4) Cargando modelo"
   ]
  },
  {
   "cell_type": "code",
   "execution_count": 26,
   "metadata": {},
   "outputs": [],
   "source": [
    "#model = pickle.load(open('data/scaler_pca_to_use/KNeighborsClassifier.pkl', 'rb'))\n",
    "model = pickle.load(open('data/scaler_pca_to_use/randomforest.pkl', 'rb'))"
   ]
  },
  {
   "cell_type": "markdown",
   "metadata": {},
   "source": [
    "## 3.5) Probando modelo"
   ]
  },
  {
   "cell_type": "code",
   "execution_count": 27,
   "metadata": {},
   "outputs": [
    {
     "name": "stdout",
     "output_type": "stream",
     "text": [
      "Aciertos train 94.9%\n"
     ]
    }
   ],
   "source": [
    "y_final = model.predict(X_train)\n",
    "\n",
    "aciertos = calcular_porcentajes_aciertos(y_final, y_train)[2]\n",
    "print(\"Aciertos train\", aciertos)"
   ]
  },
  {
   "cell_type": "markdown",
   "metadata": {},
   "source": [
    "## 3.3) Validando modelo"
   ]
  },
  {
   "cell_type": "code",
   "execution_count": 28,
   "metadata": {},
   "outputs": [
    {
     "name": "stdout",
     "output_type": "stream",
     "text": [
      "Aciertos validacion 94.9%\n"
     ]
    }
   ],
   "source": [
    "y_final = model.predict(X_test)\n",
    "\n",
    "aciertos = calcular_porcentajes_aciertos(y_final, y_test)[2]\n",
    "print(\"Aciertos validacion\", aciertos)"
   ]
  },
  {
   "cell_type": "markdown",
   "metadata": {},
   "source": [
    "## 3.4) Testeando modelo"
   ]
  },
  {
   "cell_type": "code",
   "execution_count": 29,
   "metadata": {},
   "outputs": [
    {
     "name": "stdout",
     "output_type": "stream",
     "text": [
      "Tiempo transcurrido (en segundos): 0.8659086227416992\n",
      "Aciertos test 93.18%\n"
     ]
    }
   ],
   "source": [
    "@count_elapsed_time\n",
    "def predecir():\n",
    "    y_final = model.predict(xTest_for_model_charge)\n",
    "    return y_final\n",
    "\n",
    "y_final = predecir()\n",
    "aciertos = calcular_porcentajes_aciertos(y_final, yTest)[2]\n",
    "print(\"Aciertos test\", aciertos)"
   ]
  },
  {
   "cell_type": "markdown",
   "metadata": {},
   "source": [
    "# 4) Creando y entrenando modelo red neuronal"
   ]
  },
  {
   "cell_type": "code",
   "execution_count": 5,
   "metadata": {},
   "outputs": [
    {
     "name": "stdout",
     "output_type": "stream",
     "text": [
      "datos train: (40625, 15) (40625, 11)\n",
      "datos test: (499, 15) (499, 11)\n"
     ]
    }
   ],
   "source": [
    "xTrain_for_model_charge, yTrain = leyendo_datos(ARCHIVO_FINAL_TRAIN)\n",
    "yTrain = np.array(yTrain, dtype=float)\n",
    "xTrain_for_model_charge = np.array(xTrain_for_model_charge, dtype=float)\n",
    "print(\"datos train:\", xTrain_for_model_charge.shape, yTrain.shape)\n",
    "\n",
    "xTest_for_model_charge, yTest = leyendo_datos(ARCHIVO_FINAL_TEST)\n",
    "yTest = np.array(yTest, dtype=float)\n",
    "xTest_for_model_charge = np.array(xTest_for_model_charge, dtype=float)\n",
    "print(\"datos test:\", xTest_for_model_charge.shape, yTest.shape)"
   ]
  },
  {
   "cell_type": "code",
   "execution_count": 6,
   "metadata": {},
   "outputs": [],
   "source": [
    "from tensorflow.keras.models import Sequential, Model\n",
    "from tensorflow.keras.layers import Dense, Dropout, LayerNormalization, LeakyReLU, Conv1D, Conv2D, Flatten, MaxPooling2D, Input\n",
    "from tensorflow.keras.layers import BatchNormalization, InputLayer, Reshape, Activation, GlobalAveragePooling1D\n",
    "from tensorflow.keras.layers import AveragePooling2D, AveragePooling1D, UpSampling1D, UpSampling2D, MaxPooling1D"
   ]
  },
  {
   "cell_type": "code",
   "execution_count": 7,
   "metadata": {},
   "outputs": [],
   "source": [
    "from tensorflow.keras.optimizers import Adam\n",
    "def get_optimizador():\n",
    "    adam = Adam(learning_rate=1e-5)\n",
    "    return adam"
   ]
  },
  {
   "cell_type": "code",
   "execution_count": 8,
   "metadata": {},
   "outputs": [],
   "source": [
    "from keras.callbacks import EarlyStopping, ReduceLROnPlateau, ModelCheckpoint, RemoteMonitor, TerminateOnNaN, BackupAndRestore\n",
    "\n",
    "def get_callbacks(name=\"model\"):\n",
    "    #EarlyStopping, detener el entrenamiento una vez que su pérdida comienza a aumentar\n",
    "    early_stop = EarlyStopping(\n",
    "        monitor='accuracy',\n",
    "        patience=8, #argumento de patience representa el número de épocas antes de detenerse una vez que su pérdida comienza a aumentar (deja de mejorar).\n",
    "        min_delta=0,  #es un umbral para cuantificar una pérdida en alguna época como mejora o no. Si la diferencia de pérdida es inferior a min_delta , se cuantifica como no mejora. Es mejor dejarlo como 0 ya que estamos interesados ​​en cuando la pérdida empeora.\n",
    "        restore_best_weights=True,\n",
    "        mode='max')\n",
    "\n",
    "    #ReduceLROnPlateau, que si el entrenamiento no mejora tras unos epochs específicos, reduce el valor de learning rate del modelo\n",
    "    reduce_lr = ReduceLROnPlateau(\n",
    "        monitor='loss', \n",
    "        factor=0.1, \n",
    "        patience=5, \n",
    "        min_delta=1e-4, \n",
    "        mode='min',\n",
    "        verbose=1,\n",
    "    )\n",
    "\n",
    "    # Saves Keras model after each epoch\n",
    "    #Para algunos casos es importante saber cual entrenamiento fue mejor, \n",
    "    #este callback guarda el modelo tras cada epoca completada con el fin de si luego se desea un registro de pesos para cada epoca\n",
    "    #Se ha usado este callback para poder optener el mejor modelo de pesos, sobretodo en la red neuronal creada desde cero\n",
    "    #siendo de gran utilidad para determinar el como ir modificando los layer hasta obtener el mejor modelo\n",
    "    checkpointer = ModelCheckpoint(\n",
    "        filepath='models_backup/' + name +'-{val_accuracy:.4f}.h5', \n",
    "        monitor='val_accuracy',\n",
    "        verbose=1, \n",
    "        mode='max',\n",
    "        save_best_only=True,\n",
    "        save_weights_only=False\n",
    "    )\n",
    "\n",
    "    remote_monitor = RemoteMonitor(\n",
    "        root='http://localhost:6006',\n",
    "        path='/publish/epoch/end/',\n",
    "        field='data',\n",
    "        headers=None,\n",
    "        send_as_json=False\n",
    "    )\n",
    "    \n",
    "    backup_restore = BackupAndRestore(backup_dir=\"backup\")\n",
    "    \n",
    "    proteccion_nan_loss = TerminateOnNaN()\n",
    "\n",
    "    \n",
    "    callbacks_list = [early_stop, reduce_lr, checkpointer, proteccion_nan_loss, backup_restore]#, remote_monitor]\n",
    "    \n",
    "    return callbacks_list"
   ]
  },
  {
   "cell_type": "code",
   "execution_count": 9,
   "metadata": {},
   "outputs": [],
   "source": [
    "import matplotlib.pyplot as plt\n",
    "def plot_history(history):\n",
    "    # list all data in history\n",
    "    print(history.history.keys())\n",
    "    # summarize history for accuracy\n",
    "\n",
    "    # summarize history for loss\n",
    "    plt.plot(history.history['loss'])\n",
    "    plt.plot(history.history['accuracy'])\n",
    "    plt.title('model loss')\n",
    "    plt.ylabel('loss')\n",
    "    plt.xlabel('epoch')\n",
    "    plt.legend(['train', 'test'], loc='upper left')\n",
    "    plt.show()"
   ]
  },
  {
   "cell_type": "markdown",
   "metadata": {},
   "source": [
    "## 4.1) Modelo basico"
   ]
  },
  {
   "cell_type": "code",
   "execution_count": 10,
   "metadata": {},
   "outputs": [
    {
     "name": "stdout",
     "output_type": "stream",
     "text": [
      "Model: \"RedBasica\"\n",
      "_________________________________________________________________\n",
      " Layer (type)                Output Shape              Param #   \n",
      "=================================================================\n",
      " dense (Dense)               (None, 32)                512       \n",
      "                                                                 \n",
      " dense_1 (Dense)             (None, 64)                2112      \n",
      "                                                                 \n",
      " dense_2 (Dense)             (None, 256)               16640     \n",
      "                                                                 \n",
      " dense_3 (Dense)             (None, 256)               65792     \n",
      "                                                                 \n",
      " dense_4 (Dense)             (None, 128)               32896     \n",
      "                                                                 \n",
      " dense_5 (Dense)             (None, 32)                4128      \n",
      "                                                                 \n",
      " dropout (Dropout)           (None, 32)                0         \n",
      "                                                                 \n",
      " output_layer (Dense)        (None, 11)                363       \n",
      "                                                                 \n",
      "=================================================================\n",
      "Total params: 122,443\n",
      "Trainable params: 122,443\n",
      "Non-trainable params: 0\n",
      "_________________________________________________________________\n"
     ]
    }
   ],
   "source": [
    "cantidad_entradas = 15\n",
    "cantidad_salidas = 11\n",
    "\n",
    "model = Sequential(name=\"RedBasica\")\n",
    "model.add(Dense(32, activation='relu', input_shape=(cantidad_entradas,)))\n",
    "model.add(Dense(64, activation='relu'))\n",
    "model.add(Dense(256, activation='relu'))\n",
    "model.add(Dense(256, activation='relu'))\n",
    "model.add(Dense(128, activation='relu'))\n",
    "model.add(Dense(32, activation='relu'))\n",
    "model.add(Dropout(0.5))\n",
    "model.add(Dense(cantidad_salidas, activation='softmax', name='output_layer'))\n",
    "\n",
    "model.summary()"
   ]
  },
  {
   "cell_type": "code",
   "execution_count": 12,
   "metadata": {},
   "outputs": [
    {
     "name": "stdout",
     "output_type": "stream",
     "text": [
      "You must install pydot (`pip install pydot`) and install graphviz (see instructions at https://graphviz.gitlab.io/download/) for plot_model/model_to_dot to work.\n",
      "WARNING:tensorflow:Compiled the loaded model, but the compiled metrics have yet to be built. `model.compile_metrics` will be empty until you train or evaluate the model.\n"
     ]
    }
   ],
   "source": [
    "from keras.utils.vis_utils import plot_model\n",
    "plot_model(model, to_file='model_plot.png', show_shapes=True, show_layer_names=True)\n",
    "\n",
    "model.save(\"model.h5\")"
   ]
  },
  {
   "cell_type": "code",
   "execution_count": 36,
   "metadata": {},
   "outputs": [],
   "source": [
    "model.compile(optimizer=get_optimizador(),\n",
    "              loss='mse',  # categorical_crossentropy sparse_categorical_crossentropy mean_squared_error\n",
    "              metrics=['accuracy'])"
   ]
  },
  {
   "cell_type": "code",
   "execution_count": 37,
   "metadata": {},
   "outputs": [
    {
     "name": "stdout",
     "output_type": "stream",
     "text": [
      "Epoch 1/500\n",
      "567/572 [============================>.] - ETA: 0s - loss: 0.1435 - accuracy: 0.1979\n",
      "Epoch 1: val_accuracy improved from -inf to 0.50800, saving model to models_backup/model-0.5080.h5\n",
      "572/572 [==============================] - 3s 3ms/step - loss: 0.1435 - accuracy: 0.1992 - val_loss: 0.1379 - val_accuracy: 0.5080 - lr: 1.0000e-05\n",
      "Epoch 2/500\n",
      "556/572 [============================>.] - ETA: 0s - loss: 0.1277 - accuracy: 0.4542\n",
      "Epoch 2: val_accuracy improved from 0.50800 to 0.57224, saving model to models_backup/model-0.5722.h5\n",
      "572/572 [==============================] - 1s 2ms/step - loss: 0.1275 - accuracy: 0.4560 - val_loss: 0.1127 - val_accuracy: 0.5722 - lr: 1.0000e-05\n",
      "Epoch 3/500\n",
      "558/572 [============================>.] - ETA: 0s - loss: 0.1141 - accuracy: 0.5389\n",
      "Epoch 3: val_accuracy improved from 0.57224 to 0.67192, saving model to models_backup/model-0.6719.h5\n",
      "572/572 [==============================] - 1s 2ms/step - loss: 0.1139 - accuracy: 0.5395 - val_loss: 0.1002 - val_accuracy: 0.6719 - lr: 1.0000e-05\n",
      "Epoch 4/500\n",
      "570/572 [============================>.] - ETA: 0s - loss: 0.1073 - accuracy: 0.5896\n",
      "Epoch 4: val_accuracy improved from 0.67192 to 0.71007, saving model to models_backup/model-0.7101.h5\n",
      "572/572 [==============================] - 1s 2ms/step - loss: 0.1073 - accuracy: 0.5894 - val_loss: 0.0963 - val_accuracy: 0.7101 - lr: 1.0000e-05\n",
      "Epoch 5/500\n",
      "562/572 [============================>.] - ETA: 0s - loss: 0.1032 - accuracy: 0.6222\n",
      "Epoch 5: val_accuracy improved from 0.71007 to 0.71843, saving model to models_backup/model-0.7184.h5\n",
      "572/572 [==============================] - 1s 2ms/step - loss: 0.1032 - accuracy: 0.6219 - val_loss: 0.0943 - val_accuracy: 0.7184 - lr: 1.0000e-05\n",
      "Epoch 6/500\n",
      "562/572 [============================>.] - ETA: 0s - loss: 0.1005 - accuracy: 0.6409\n",
      "Epoch 6: val_accuracy improved from 0.71843 to 0.73049, saving model to models_backup/model-0.7305.h5\n",
      "572/572 [==============================] - 1s 2ms/step - loss: 0.1005 - accuracy: 0.6407 - val_loss: 0.0929 - val_accuracy: 0.7305 - lr: 1.0000e-05\n",
      "Epoch 7/500\n",
      "550/572 [===========================>..] - ETA: 0s - loss: 0.0983 - accuracy: 0.6513\n",
      "Epoch 7: val_accuracy improved from 0.73049 to 0.73837, saving model to models_backup/model-0.7384.h5\n",
      "572/572 [==============================] - 1s 2ms/step - loss: 0.0982 - accuracy: 0.6518 - val_loss: 0.0919 - val_accuracy: 0.7384 - lr: 1.0000e-05\n",
      "Epoch 8/500\n",
      "565/572 [============================>.] - ETA: 0s - loss: 0.0965 - accuracy: 0.6606\n",
      "Epoch 8: val_accuracy improved from 0.73837 to 0.73886, saving model to models_backup/model-0.7389.h5\n",
      "572/572 [==============================] - 1s 2ms/step - loss: 0.0964 - accuracy: 0.6610 - val_loss: 0.0911 - val_accuracy: 0.7389 - lr: 1.0000e-05\n",
      "Epoch 9/500\n",
      "566/572 [============================>.] - ETA: 0s - loss: 0.0954 - accuracy: 0.6619\n",
      "Epoch 9: val_accuracy improved from 0.73886 to 0.74698, saving model to models_backup/model-0.7470.h5\n",
      "572/572 [==============================] - 1s 2ms/step - loss: 0.0953 - accuracy: 0.6624 - val_loss: 0.0903 - val_accuracy: 0.7470 - lr: 1.0000e-05\n",
      "Epoch 10/500\n",
      "570/572 [============================>.] - ETA: 0s - loss: 0.0941 - accuracy: 0.6690\n",
      "Epoch 10: val_accuracy did not improve from 0.74698\n",
      "572/572 [==============================] - 1s 2ms/step - loss: 0.0941 - accuracy: 0.6688 - val_loss: 0.0897 - val_accuracy: 0.7435 - lr: 1.0000e-05\n",
      "Epoch 11/500\n",
      "558/572 [============================>.] - ETA: 0s - loss: 0.0930 - accuracy: 0.6734\n",
      "Epoch 11: val_accuracy improved from 0.74698 to 0.75437, saving model to models_backup/model-0.7544.h5\n",
      "572/572 [==============================] - 1s 2ms/step - loss: 0.0929 - accuracy: 0.6737 - val_loss: 0.0892 - val_accuracy: 0.7544 - lr: 1.0000e-05\n",
      "Epoch 12/500\n",
      "551/572 [===========================>..] - ETA: 0s - loss: 0.0920 - accuracy: 0.6769\n",
      "Epoch 12: val_accuracy did not improve from 0.75437\n",
      "572/572 [==============================] - 1s 2ms/step - loss: 0.0921 - accuracy: 0.6773 - val_loss: 0.0883 - val_accuracy: 0.7475 - lr: 1.0000e-05\n",
      "Epoch 13/500\n",
      "561/572 [============================>.] - ETA: 0s - loss: 0.0912 - accuracy: 0.6771\n",
      "Epoch 13: val_accuracy improved from 0.75437 to 0.75461, saving model to models_backup/model-0.7546.h5\n",
      "572/572 [==============================] - 1s 2ms/step - loss: 0.0912 - accuracy: 0.6768 - val_loss: 0.0875 - val_accuracy: 0.7546 - lr: 1.0000e-05\n",
      "Epoch 14/500\n",
      "564/572 [============================>.] - ETA: 0s - loss: 0.0904 - accuracy: 0.6776\n",
      "Epoch 14: val_accuracy did not improve from 0.75461\n",
      "572/572 [==============================] - 1s 2ms/step - loss: 0.0904 - accuracy: 0.6771 - val_loss: 0.0867 - val_accuracy: 0.7512 - lr: 1.0000e-05\n",
      "Epoch 15/500\n",
      "555/572 [============================>.] - ETA: 0s - loss: 0.0899 - accuracy: 0.6774\n",
      "Epoch 15: val_accuracy did not improve from 0.75461\n",
      "572/572 [==============================] - 1s 2ms/step - loss: 0.0898 - accuracy: 0.6776 - val_loss: 0.0858 - val_accuracy: 0.7534 - lr: 1.0000e-05\n",
      "Epoch 16/500\n",
      "566/572 [============================>.] - ETA: 0s - loss: 0.0890 - accuracy: 0.6799\n",
      "Epoch 16: val_accuracy did not improve from 0.75461\n",
      "572/572 [==============================] - 1s 2ms/step - loss: 0.0889 - accuracy: 0.6800 - val_loss: 0.0850 - val_accuracy: 0.7371 - lr: 1.0000e-05\n",
      "Epoch 17/500\n",
      "559/572 [============================>.] - ETA: 0s - loss: 0.0882 - accuracy: 0.6787\n",
      "Epoch 17: val_accuracy did not improve from 0.75461\n",
      "572/572 [==============================] - 1s 2ms/step - loss: 0.0882 - accuracy: 0.6782 - val_loss: 0.0842 - val_accuracy: 0.7517 - lr: 1.0000e-05\n",
      "Epoch 18/500\n",
      "555/572 [============================>.] - ETA: 0s - loss: 0.0877 - accuracy: 0.6788\n",
      "Epoch 18: val_accuracy did not improve from 0.75461\n",
      "572/572 [==============================] - 1s 2ms/step - loss: 0.0875 - accuracy: 0.6785 - val_loss: 0.0837 - val_accuracy: 0.7529 - lr: 1.0000e-05\n",
      "Epoch 19/500\n",
      "568/572 [============================>.] - ETA: 0s - loss: 0.0867 - accuracy: 0.6857\n",
      "Epoch 19: val_accuracy did not improve from 0.75461\n",
      "572/572 [==============================] - 1s 2ms/step - loss: 0.0867 - accuracy: 0.6856 - val_loss: 0.0830 - val_accuracy: 0.7487 - lr: 1.0000e-05\n",
      "Epoch 20/500\n",
      "563/572 [============================>.] - ETA: 0s - loss: 0.0860 - accuracy: 0.6859\n",
      "Epoch 20: val_accuracy did not improve from 0.75461\n",
      "572/572 [==============================] - 1s 2ms/step - loss: 0.0860 - accuracy: 0.6858 - val_loss: 0.0825 - val_accuracy: 0.7477 - lr: 1.0000e-05\n",
      "Epoch 21/500\n",
      "561/572 [============================>.] - ETA: 0s - loss: 0.0854 - accuracy: 0.6868\n",
      "Epoch 21: val_accuracy did not improve from 0.75461\n",
      "572/572 [==============================] - 1s 2ms/step - loss: 0.0854 - accuracy: 0.6869 - val_loss: 0.0821 - val_accuracy: 0.7467 - lr: 1.0000e-05\n",
      "Epoch 22/500\n",
      "566/572 [============================>.] - ETA: 0s - loss: 0.0848 - accuracy: 0.6879\n",
      "Epoch 22: val_accuracy did not improve from 0.75461\n",
      "572/572 [==============================] - 1s 2ms/step - loss: 0.0848 - accuracy: 0.6884 - val_loss: 0.0816 - val_accuracy: 0.7470 - lr: 1.0000e-05\n",
      "Epoch 23/500\n",
      "559/572 [============================>.] - ETA: 0s - loss: 0.0839 - accuracy: 0.6900\n",
      "Epoch 23: val_accuracy improved from 0.75461 to 0.75880, saving model to models_backup/model-0.7588.h5\n",
      "572/572 [==============================] - 1s 2ms/step - loss: 0.0840 - accuracy: 0.6903 - val_loss: 0.0813 - val_accuracy: 0.7588 - lr: 1.0000e-05\n",
      "Epoch 24/500\n",
      "565/572 [============================>.] - ETA: 0s - loss: 0.0836 - accuracy: 0.6952\n",
      "Epoch 24: val_accuracy did not improve from 0.75880\n",
      "572/572 [==============================] - 1s 2ms/step - loss: 0.0836 - accuracy: 0.6952 - val_loss: 0.0808 - val_accuracy: 0.7554 - lr: 1.0000e-05\n",
      "Epoch 25/500\n",
      "568/572 [============================>.] - ETA: 0s - loss: 0.0831 - accuracy: 0.6947\n",
      "Epoch 25: val_accuracy did not improve from 0.75880\n",
      "572/572 [==============================] - 1s 2ms/step - loss: 0.0831 - accuracy: 0.6946 - val_loss: 0.0803 - val_accuracy: 0.7578 - lr: 1.0000e-05\n",
      "Epoch 26/500\n",
      "565/572 [============================>.] - ETA: 0s - loss: 0.0824 - accuracy: 0.6976\n",
      "Epoch 26: val_accuracy did not improve from 0.75880\n",
      "572/572 [==============================] - 1s 2ms/step - loss: 0.0824 - accuracy: 0.6976 - val_loss: 0.0800 - val_accuracy: 0.7586 - lr: 1.0000e-05\n"
     ]
    },
    {
     "name": "stdout",
     "output_type": "stream",
     "text": [
      "Epoch 27/500\n",
      "550/572 [===========================>..] - ETA: 0s - loss: 0.0819 - accuracy: 0.7004\n",
      "Epoch 27: val_accuracy did not improve from 0.75880\n",
      "572/572 [==============================] - 1s 2ms/step - loss: 0.0820 - accuracy: 0.7004 - val_loss: 0.0795 - val_accuracy: 0.7529 - lr: 1.0000e-05\n",
      "Epoch 28/500\n",
      "568/572 [============================>.] - ETA: 0s - loss: 0.0813 - accuracy: 0.7035\n",
      "Epoch 28: val_accuracy improved from 0.75880 to 0.75978, saving model to models_backup/model-0.7598.h5\n",
      "572/572 [==============================] - 1s 2ms/step - loss: 0.0813 - accuracy: 0.7034 - val_loss: 0.0791 - val_accuracy: 0.7598 - lr: 1.0000e-05\n",
      "Epoch 29/500\n",
      "568/572 [============================>.] - ETA: 0s - loss: 0.0810 - accuracy: 0.7007\n",
      "Epoch 29: val_accuracy improved from 0.75978 to 0.76815, saving model to models_backup/model-0.7682.h5\n",
      "572/572 [==============================] - 1s 2ms/step - loss: 0.0809 - accuracy: 0.7012 - val_loss: 0.0789 - val_accuracy: 0.7682 - lr: 1.0000e-05\n",
      "Epoch 30/500\n",
      "570/572 [============================>.] - ETA: 0s - loss: 0.0804 - accuracy: 0.7028\n",
      "Epoch 30: val_accuracy improved from 0.76815 to 0.77258, saving model to models_backup/model-0.7726.h5\n",
      "572/572 [==============================] - 1s 3ms/step - loss: 0.0804 - accuracy: 0.7028 - val_loss: 0.0785 - val_accuracy: 0.7726 - lr: 1.0000e-05\n",
      "Epoch 31/500\n",
      "548/572 [===========================>..] - ETA: 0s - loss: 0.0799 - accuracy: 0.7045\n",
      "Epoch 31: val_accuracy did not improve from 0.77258\n",
      "572/572 [==============================] - 1s 2ms/step - loss: 0.0800 - accuracy: 0.7047 - val_loss: 0.0783 - val_accuracy: 0.7709 - lr: 1.0000e-05\n",
      "Epoch 32/500\n",
      "551/572 [===========================>..] - ETA: 0s - loss: 0.0794 - accuracy: 0.7091\n",
      "Epoch 32: val_accuracy improved from 0.77258 to 0.77603, saving model to models_backup/model-0.7760.h5\n",
      "572/572 [==============================] - 1s 2ms/step - loss: 0.0796 - accuracy: 0.7079 - val_loss: 0.0779 - val_accuracy: 0.7760 - lr: 1.0000e-05\n",
      "Epoch 33/500\n",
      "566/572 [============================>.] - ETA: 0s - loss: 0.0793 - accuracy: 0.7086\n",
      "Epoch 33: val_accuracy did not improve from 0.77603\n",
      "572/572 [==============================] - 1s 2ms/step - loss: 0.0792 - accuracy: 0.7086 - val_loss: 0.0777 - val_accuracy: 0.7743 - lr: 1.0000e-05\n",
      "Epoch 34/500\n",
      "572/572 [==============================] - ETA: 0s - loss: 0.0788 - accuracy: 0.7076\n",
      "Epoch 34: val_accuracy improved from 0.77603 to 0.78587, saving model to models_backup/model-0.7859.h5\n",
      "572/572 [==============================] - 1s 2ms/step - loss: 0.0788 - accuracy: 0.7076 - val_loss: 0.0776 - val_accuracy: 0.7859 - lr: 1.0000e-05\n",
      "Epoch 35/500\n",
      "568/572 [============================>.] - ETA: 0s - loss: 0.0784 - accuracy: 0.7099\n",
      "Epoch 35: val_accuracy did not improve from 0.78587\n",
      "572/572 [==============================] - 1s 2ms/step - loss: 0.0784 - accuracy: 0.7098 - val_loss: 0.0772 - val_accuracy: 0.7775 - lr: 1.0000e-05\n",
      "Epoch 36/500\n",
      "571/572 [============================>.] - ETA: 0s - loss: 0.0782 - accuracy: 0.7111\n",
      "Epoch 36: val_accuracy did not improve from 0.78587\n",
      "572/572 [==============================] - 1s 2ms/step - loss: 0.0782 - accuracy: 0.7111 - val_loss: 0.0770 - val_accuracy: 0.7755 - lr: 1.0000e-05\n",
      "Epoch 37/500\n",
      "561/572 [============================>.] - ETA: 0s - loss: 0.0779 - accuracy: 0.7123\n",
      "Epoch 37: val_accuracy did not improve from 0.78587\n",
      "572/572 [==============================] - 1s 2ms/step - loss: 0.0778 - accuracy: 0.7121 - val_loss: 0.0767 - val_accuracy: 0.7782 - lr: 1.0000e-05\n",
      "Epoch 38/500\n",
      "564/572 [============================>.] - ETA: 0s - loss: 0.0777 - accuracy: 0.7145\n",
      "Epoch 38: val_accuracy did not improve from 0.78587\n",
      "572/572 [==============================] - 1s 2ms/step - loss: 0.0776 - accuracy: 0.7147 - val_loss: 0.0765 - val_accuracy: 0.7778 - lr: 1.0000e-05\n",
      "Epoch 39/500\n",
      "572/572 [==============================] - ETA: 0s - loss: 0.0772 - accuracy: 0.7118\n",
      "Epoch 39: val_accuracy did not improve from 0.78587\n",
      "572/572 [==============================] - 1s 2ms/step - loss: 0.0772 - accuracy: 0.7118 - val_loss: 0.0763 - val_accuracy: 0.7780 - lr: 1.0000e-05\n",
      "Epoch 40/500\n",
      "572/572 [==============================] - ETA: 0s - loss: 0.0768 - accuracy: 0.7150\n",
      "Epoch 40: val_accuracy did not improve from 0.78587\n",
      "572/572 [==============================] - 1s 2ms/step - loss: 0.0768 - accuracy: 0.7150 - val_loss: 0.0761 - val_accuracy: 0.7782 - lr: 1.0000e-05\n",
      "Epoch 41/500\n",
      "555/572 [============================>.] - ETA: 0s - loss: 0.0767 - accuracy: 0.7153\n",
      "Epoch 41: val_accuracy did not improve from 0.78587\n",
      "572/572 [==============================] - 1s 2ms/step - loss: 0.0767 - accuracy: 0.7155 - val_loss: 0.0759 - val_accuracy: 0.7834 - lr: 1.0000e-05\n",
      "Epoch 42/500\n",
      "570/572 [============================>.] - ETA: 0s - loss: 0.0765 - accuracy: 0.7179\n",
      "Epoch 42: val_accuracy did not improve from 0.78587\n",
      "572/572 [==============================] - 1s 2ms/step - loss: 0.0765 - accuracy: 0.7178 - val_loss: 0.0758 - val_accuracy: 0.7839 - lr: 1.0000e-05\n",
      "Epoch 43/500\n",
      "559/572 [============================>.] - ETA: 0s - loss: 0.0761 - accuracy: 0.7153\n",
      "Epoch 43: val_accuracy did not improve from 0.78587\n",
      "572/572 [==============================] - 1s 2ms/step - loss: 0.0761 - accuracy: 0.7156 - val_loss: 0.0756 - val_accuracy: 0.7805 - lr: 1.0000e-05\n",
      "Epoch 44/500\n",
      "565/572 [============================>.] - ETA: 0s - loss: 0.0759 - accuracy: 0.7167\n",
      "Epoch 44: val_accuracy did not improve from 0.78587\n",
      "572/572 [==============================] - 1s 2ms/step - loss: 0.0759 - accuracy: 0.7164 - val_loss: 0.0753 - val_accuracy: 0.7800 - lr: 1.0000e-05\n",
      "Epoch 45/500\n",
      "571/572 [============================>.] - ETA: 0s - loss: 0.0757 - accuracy: 0.7166\n",
      "Epoch 45: val_accuracy improved from 0.78587 to 0.78760, saving model to models_backup/model-0.7876.h5\n",
      "572/572 [==============================] - 1s 2ms/step - loss: 0.0757 - accuracy: 0.7165 - val_loss: 0.0752 - val_accuracy: 0.7876 - lr: 1.0000e-05\n",
      "Epoch 46/500\n",
      "567/572 [============================>.] - ETA: 0s - loss: 0.0755 - accuracy: 0.7182\n",
      "Epoch 46: val_accuracy did not improve from 0.78760\n",
      "572/572 [==============================] - 1s 2ms/step - loss: 0.0755 - accuracy: 0.7181 - val_loss: 0.0750 - val_accuracy: 0.7770 - lr: 1.0000e-05\n",
      "Epoch 47/500\n",
      "555/572 [============================>.] - ETA: 0s - loss: 0.0754 - accuracy: 0.7172\n",
      "Epoch 47: val_accuracy did not improve from 0.78760\n",
      "572/572 [==============================] - 1s 2ms/step - loss: 0.0754 - accuracy: 0.7173 - val_loss: 0.0748 - val_accuracy: 0.7814 - lr: 1.0000e-05\n",
      "Epoch 48/500\n",
      "570/572 [============================>.] - ETA: 0s - loss: 0.0751 - accuracy: 0.7207\n",
      "Epoch 48: val_accuracy did not improve from 0.78760\n",
      "572/572 [==============================] - 1s 2ms/step - loss: 0.0751 - accuracy: 0.7207 - val_loss: 0.0747 - val_accuracy: 0.7859 - lr: 1.0000e-05\n",
      "Epoch 49/500\n",
      "560/572 [============================>.] - ETA: 0s - loss: 0.0748 - accuracy: 0.7203\n",
      "Epoch 49: val_accuracy did not improve from 0.78760\n",
      "572/572 [==============================] - 1s 2ms/step - loss: 0.0748 - accuracy: 0.7204 - val_loss: 0.0745 - val_accuracy: 0.7849 - lr: 1.0000e-05\n",
      "Epoch 50/500\n",
      "564/572 [============================>.] - ETA: 0s - loss: 0.0747 - accuracy: 0.7236\n",
      "Epoch 50: val_accuracy improved from 0.78760 to 0.79227, saving model to models_backup/model-0.7923.h5\n",
      "572/572 [==============================] - 1s 2ms/step - loss: 0.0747 - accuracy: 0.7229 - val_loss: 0.0744 - val_accuracy: 0.7923 - lr: 1.0000e-05\n",
      "Epoch 51/500\n",
      "562/572 [============================>.] - ETA: 0s - loss: 0.0747 - accuracy: 0.7219\n",
      "Epoch 51: val_accuracy did not improve from 0.79227\n",
      "572/572 [==============================] - 1s 2ms/step - loss: 0.0745 - accuracy: 0.7226 - val_loss: 0.0742 - val_accuracy: 0.7780 - lr: 1.0000e-05\n",
      "Epoch 52/500\n",
      "566/572 [============================>.] - ETA: 0s - loss: 0.0743 - accuracy: 0.7259\n",
      "Epoch 52: val_accuracy did not improve from 0.79227\n",
      "572/572 [==============================] - 1s 2ms/step - loss: 0.0743 - accuracy: 0.7256 - val_loss: 0.0741 - val_accuracy: 0.7792 - lr: 1.0000e-05\n",
      "Epoch 53/500\n",
      "570/572 [============================>.] - ETA: 0s - loss: 0.0740 - accuracy: 0.7249\n",
      "Epoch 53: val_accuracy did not improve from 0.79227\n",
      "572/572 [==============================] - 1s 2ms/step - loss: 0.0740 - accuracy: 0.7249 - val_loss: 0.0740 - val_accuracy: 0.7905 - lr: 1.0000e-05\n",
      "Epoch 54/500\n",
      "567/572 [============================>.] - ETA: 0s - loss: 0.0740 - accuracy: 0.7275\n",
      "Epoch 54: val_accuracy did not improve from 0.79227\n",
      "572/572 [==============================] - 1s 2ms/step - loss: 0.0739 - accuracy: 0.7276 - val_loss: 0.0738 - val_accuracy: 0.7709 - lr: 1.0000e-05\n",
      "Epoch 55/500\n",
      "566/572 [============================>.] - ETA: 0s - loss: 0.0737 - accuracy: 0.7228\n",
      "Epoch 55: val_accuracy did not improve from 0.79227\n",
      "572/572 [==============================] - 1s 2ms/step - loss: 0.0737 - accuracy: 0.7229 - val_loss: 0.0737 - val_accuracy: 0.7785 - lr: 1.0000e-05\n",
      "Epoch 56/500\n",
      "565/572 [============================>.] - ETA: 0s - loss: 0.0737 - accuracy: 0.7270\n",
      "Epoch 56: val_accuracy did not improve from 0.79227\n",
      "572/572 [==============================] - 1s 2ms/step - loss: 0.0737 - accuracy: 0.7269 - val_loss: 0.0735 - val_accuracy: 0.7871 - lr: 1.0000e-05\n",
      "Epoch 57/500\n",
      "548/572 [===========================>..] - ETA: 0s - loss: 0.0736 - accuracy: 0.7269\n",
      "Epoch 57: val_accuracy did not improve from 0.79227\n",
      "572/572 [==============================] - 1s 2ms/step - loss: 0.0735 - accuracy: 0.7276 - val_loss: 0.0735 - val_accuracy: 0.7704 - lr: 1.0000e-05\n",
      "Epoch 58/500\n",
      "561/572 [============================>.] - ETA: 0s - loss: 0.0733 - accuracy: 0.7259\n",
      "Epoch 58: val_accuracy did not improve from 0.79227\n",
      "572/572 [==============================] - 1s 2ms/step - loss: 0.0733 - accuracy: 0.7256 - val_loss: 0.0733 - val_accuracy: 0.7802 - lr: 1.0000e-05\n",
      "Epoch 59/500\n",
      "551/572 [===========================>..] - ETA: 0s - loss: 0.0734 - accuracy: 0.7288\n",
      "Epoch 59: val_accuracy did not improve from 0.79227\n",
      "572/572 [==============================] - 1s 2ms/step - loss: 0.0732 - accuracy: 0.7287 - val_loss: 0.0733 - val_accuracy: 0.7755 - lr: 1.0000e-05\n",
      "Epoch 60/500\n",
      "548/572 [===========================>..] - ETA: 0s - loss: 0.0731 - accuracy: 0.7283\n",
      "Epoch 60: val_accuracy did not improve from 0.79227\n",
      "572/572 [==============================] - 1s 2ms/step - loss: 0.0731 - accuracy: 0.7288 - val_loss: 0.0732 - val_accuracy: 0.7812 - lr: 1.0000e-05\n",
      "Epoch 61/500\n",
      "565/572 [============================>.] - ETA: 0s - loss: 0.0730 - accuracy: 0.7281\n",
      "Epoch 61: val_accuracy did not improve from 0.79227\n",
      "572/572 [==============================] - 1s 2ms/step - loss: 0.0730 - accuracy: 0.7285 - val_loss: 0.0730 - val_accuracy: 0.7893 - lr: 1.0000e-05\n",
      "Epoch 62/500\n",
      "557/572 [============================>.] - ETA: 0s - loss: 0.0729 - accuracy: 0.7287\n",
      "Epoch 62: val_accuracy improved from 0.79227 to 0.79350, saving model to models_backup/model-0.7935.h5\n",
      "572/572 [==============================] - 1s 2ms/step - loss: 0.0729 - accuracy: 0.7291 - val_loss: 0.0730 - val_accuracy: 0.7935 - lr: 1.0000e-05\n",
      "Epoch 63/500\n",
      "549/572 [===========================>..] - ETA: 0s - loss: 0.0726 - accuracy: 0.7328\n",
      "Epoch 63: val_accuracy did not improve from 0.79350\n",
      "572/572 [==============================] - 1s 2ms/step - loss: 0.0726 - accuracy: 0.7325 - val_loss: 0.0728 - val_accuracy: 0.7770 - lr: 1.0000e-05\n",
      "Epoch 64/500\n",
      "558/572 [============================>.] - ETA: 0s - loss: 0.0725 - accuracy: 0.7302\n",
      "Epoch 64: val_accuracy did not improve from 0.79350\n",
      "572/572 [==============================] - 1s 2ms/step - loss: 0.0726 - accuracy: 0.7305 - val_loss: 0.0727 - val_accuracy: 0.7817 - lr: 1.0000e-05\n",
      "Epoch 65/500\n",
      "571/572 [============================>.] - ETA: 0s - loss: 0.0725 - accuracy: 0.7314\n",
      "Epoch 65: val_accuracy did not improve from 0.79350\n",
      "572/572 [==============================] - 1s 2ms/step - loss: 0.0725 - accuracy: 0.7313 - val_loss: 0.0727 - val_accuracy: 0.7869 - lr: 1.0000e-05\n",
      "Epoch 66/500\n",
      "568/572 [============================>.] - ETA: 0s - loss: 0.0723 - accuracy: 0.7297\n",
      "Epoch 66: val_accuracy did not improve from 0.79350\n",
      "572/572 [==============================] - 1s 2ms/step - loss: 0.0723 - accuracy: 0.7299 - val_loss: 0.0726 - val_accuracy: 0.7750 - lr: 1.0000e-05\n",
      "Epoch 67/500\n",
      "567/572 [============================>.] - ETA: 0s - loss: 0.0723 - accuracy: 0.7312\n",
      "Epoch 67: val_accuracy did not improve from 0.79350\n",
      "572/572 [==============================] - 1s 2ms/step - loss: 0.0724 - accuracy: 0.7310 - val_loss: 0.0725 - val_accuracy: 0.7775 - lr: 1.0000e-05\n",
      "Epoch 68/500\n",
      "572/572 [==============================] - ETA: 0s - loss: 0.0722 - accuracy: 0.7347\n",
      "Epoch 68: val_accuracy did not improve from 0.79350\n",
      "572/572 [==============================] - 1s 2ms/step - loss: 0.0722 - accuracy: 0.7347 - val_loss: 0.0725 - val_accuracy: 0.7765 - lr: 1.0000e-05\n",
      "Epoch 69/500\n",
      "564/572 [============================>.] - ETA: 0s - loss: 0.0720 - accuracy: 0.7351\n",
      "Epoch 69: val_accuracy did not improve from 0.79350\n",
      "572/572 [==============================] - 1s 2ms/step - loss: 0.0720 - accuracy: 0.7353 - val_loss: 0.0723 - val_accuracy: 0.7864 - lr: 1.0000e-05\n",
      "Epoch 70/500\n",
      "554/572 [============================>.] - ETA: 0s - loss: 0.0720 - accuracy: 0.7325\n",
      "Epoch 70: val_accuracy improved from 0.79350 to 0.79449, saving model to models_backup/model-0.7945.h5\n",
      "572/572 [==============================] - 1s 2ms/step - loss: 0.0719 - accuracy: 0.7328 - val_loss: 0.0724 - val_accuracy: 0.7945 - lr: 1.0000e-05\n",
      "Epoch 71/500\n",
      "568/572 [============================>.] - ETA: 0s - loss: 0.0717 - accuracy: 0.7355\n",
      "Epoch 71: val_accuracy did not improve from 0.79449\n",
      "572/572 [==============================] - 1s 2ms/step - loss: 0.0718 - accuracy: 0.7353 - val_loss: 0.0722 - val_accuracy: 0.7753 - lr: 1.0000e-05\n",
      "Epoch 72/500\n",
      "564/572 [============================>.] - ETA: 0s - loss: 0.0718 - accuracy: 0.7356\n",
      "Epoch 72: val_accuracy did not improve from 0.79449\n",
      "572/572 [==============================] - 1s 2ms/step - loss: 0.0717 - accuracy: 0.7357 - val_loss: 0.0720 - val_accuracy: 0.7733 - lr: 1.0000e-05\n",
      "Epoch 73/500\n",
      "565/572 [============================>.] - ETA: 0s - loss: 0.0716 - accuracy: 0.7355\n",
      "Epoch 73: val_accuracy did not improve from 0.79449\n",
      "572/572 [==============================] - 1s 2ms/step - loss: 0.0716 - accuracy: 0.7354 - val_loss: 0.0720 - val_accuracy: 0.7822 - lr: 1.0000e-05\n",
      "Epoch 74/500\n",
      "551/572 [===========================>..] - ETA: 0s - loss: 0.0716 - accuracy: 0.7364\n",
      "Epoch 74: val_accuracy did not improve from 0.79449\n",
      "572/572 [==============================] - 1s 2ms/step - loss: 0.0715 - accuracy: 0.7365 - val_loss: 0.0719 - val_accuracy: 0.7738 - lr: 1.0000e-05\n",
      "Epoch 75/500\n",
      "558/572 [============================>.] - ETA: 0s - loss: 0.0714 - accuracy: 0.7366\n",
      "Epoch 75: val_accuracy did not improve from 0.79449\n",
      "572/572 [==============================] - 1s 2ms/step - loss: 0.0714 - accuracy: 0.7370 - val_loss: 0.0718 - val_accuracy: 0.7763 - lr: 1.0000e-05\n",
      "Epoch 76/500\n",
      "565/572 [============================>.] - ETA: 0s - loss: 0.0711 - accuracy: 0.7384\n",
      "Epoch 76: val_accuracy did not improve from 0.79449\n",
      "572/572 [==============================] - 1s 2ms/step - loss: 0.0713 - accuracy: 0.7380 - val_loss: 0.0718 - val_accuracy: 0.7839 - lr: 1.0000e-05\n",
      "Epoch 77/500\n",
      "570/572 [============================>.] - ETA: 0s - loss: 0.0712 - accuracy: 0.7393\n",
      "Epoch 77: val_accuracy did not improve from 0.79449\n",
      "572/572 [==============================] - 1s 2ms/step - loss: 0.0712 - accuracy: 0.7390 - val_loss: 0.0718 - val_accuracy: 0.7810 - lr: 1.0000e-05\n",
      "Epoch 78/500\n",
      "567/572 [============================>.] - ETA: 0s - loss: 0.0711 - accuracy: 0.7401\n",
      "Epoch 78: val_accuracy did not improve from 0.79449\n",
      "572/572 [==============================] - 1s 2ms/step - loss: 0.0711 - accuracy: 0.7396 - val_loss: 0.0718 - val_accuracy: 0.7905 - lr: 1.0000e-05\n",
      "Epoch 79/500\n",
      "561/572 [============================>.] - ETA: 0s - loss: 0.0710 - accuracy: 0.7408\n",
      "Epoch 79: val_accuracy did not improve from 0.79449\n",
      "572/572 [==============================] - 1s 2ms/step - loss: 0.0710 - accuracy: 0.7411 - val_loss: 0.0716 - val_accuracy: 0.7819 - lr: 1.0000e-05\n",
      "Epoch 80/500\n"
     ]
    },
    {
     "name": "stdout",
     "output_type": "stream",
     "text": [
      "571/572 [============================>.] - ETA: 0s - loss: 0.0710 - accuracy: 0.7419\n",
      "Epoch 80: val_accuracy did not improve from 0.79449\n",
      "572/572 [==============================] - 1s 2ms/step - loss: 0.0710 - accuracy: 0.7419 - val_loss: 0.0716 - val_accuracy: 0.7581 - lr: 1.0000e-05\n",
      "Epoch 81/500\n",
      "556/572 [============================>.] - ETA: 0s - loss: 0.0709 - accuracy: 0.7407\n",
      "Epoch 81: val_accuracy did not improve from 0.79449\n",
      "572/572 [==============================] - 1s 2ms/step - loss: 0.0709 - accuracy: 0.7403 - val_loss: 0.0715 - val_accuracy: 0.7770 - lr: 1.0000e-05\n",
      "Epoch 82/500\n",
      "571/572 [============================>.] - ETA: 0s - loss: 0.0709 - accuracy: 0.7382\n",
      "Epoch 82: val_accuracy did not improve from 0.79449\n",
      "572/572 [==============================] - 1s 2ms/step - loss: 0.0709 - accuracy: 0.7382 - val_loss: 0.0715 - val_accuracy: 0.7844 - lr: 1.0000e-05\n",
      "Epoch 83/500\n",
      "554/572 [============================>.] - ETA: 0s - loss: 0.0707 - accuracy: 0.7382\n",
      "Epoch 83: val_accuracy did not improve from 0.79449\n",
      "572/572 [==============================] - 1s 2ms/step - loss: 0.0708 - accuracy: 0.7387 - val_loss: 0.0715 - val_accuracy: 0.7903 - lr: 1.0000e-05\n",
      "Epoch 84/500\n",
      "567/572 [============================>.] - ETA: 0s - loss: 0.0707 - accuracy: 0.7423\n",
      "Epoch 84: val_accuracy did not improve from 0.79449\n",
      "572/572 [==============================] - 1s 2ms/step - loss: 0.0707 - accuracy: 0.7426 - val_loss: 0.0714 - val_accuracy: 0.7893 - lr: 1.0000e-05\n",
      "Epoch 85/500\n",
      "568/572 [============================>.] - ETA: 0s - loss: 0.0706 - accuracy: 0.7418\n",
      "Epoch 85: val_accuracy did not improve from 0.79449\n",
      "572/572 [==============================] - 1s 2ms/step - loss: 0.0706 - accuracy: 0.7416 - val_loss: 0.0714 - val_accuracy: 0.7758 - lr: 1.0000e-05\n",
      "Epoch 86/500\n",
      "571/572 [============================>.] - ETA: 0s - loss: 0.0706 - accuracy: 0.7417\n",
      "Epoch 86: val_accuracy did not improve from 0.79449\n",
      "572/572 [==============================] - 1s 2ms/step - loss: 0.0706 - accuracy: 0.7417 - val_loss: 0.0714 - val_accuracy: 0.7903 - lr: 1.0000e-05\n",
      "Epoch 87/500\n",
      "564/572 [============================>.] - ETA: 0s - loss: 0.0705 - accuracy: 0.7422\n",
      "Epoch 87: val_accuracy did not improve from 0.79449\n",
      "572/572 [==============================] - 1s 2ms/step - loss: 0.0705 - accuracy: 0.7425 - val_loss: 0.0712 - val_accuracy: 0.7844 - lr: 1.0000e-05\n",
      "Epoch 88/500\n",
      "550/572 [===========================>..] - ETA: 0s - loss: 0.0705 - accuracy: 0.7463\n",
      "Epoch 88: val_accuracy did not improve from 0.79449\n",
      "572/572 [==============================] - 1s 2ms/step - loss: 0.0705 - accuracy: 0.7469 - val_loss: 0.0713 - val_accuracy: 0.7864 - lr: 1.0000e-05\n",
      "Epoch 89/500\n",
      "563/572 [============================>.] - ETA: 0s - loss: 0.0704 - accuracy: 0.7434\n",
      "Epoch 89: val_accuracy did not improve from 0.79449\n",
      "572/572 [==============================] - 1s 2ms/step - loss: 0.0703 - accuracy: 0.7440 - val_loss: 0.0712 - val_accuracy: 0.7873 - lr: 1.0000e-05\n",
      "Epoch 90/500\n",
      "565/572 [============================>.] - ETA: 0s - loss: 0.0704 - accuracy: 0.7466\n",
      "Epoch 90: val_accuracy did not improve from 0.79449\n",
      "572/572 [==============================] - 1s 2ms/step - loss: 0.0704 - accuracy: 0.7466 - val_loss: 0.0711 - val_accuracy: 0.7834 - lr: 1.0000e-05\n",
      "Epoch 91/500\n",
      "570/572 [============================>.] - ETA: 0s - loss: 0.0702 - accuracy: 0.7488\n",
      "Epoch 91: val_accuracy did not improve from 0.79449\n",
      "572/572 [==============================] - 1s 2ms/step - loss: 0.0702 - accuracy: 0.7488 - val_loss: 0.0711 - val_accuracy: 0.7790 - lr: 1.0000e-05\n",
      "Epoch 92/500\n",
      "552/572 [===========================>..] - ETA: 0s - loss: 0.0702 - accuracy: 0.7435\n",
      "Epoch 92: val_accuracy did not improve from 0.79449\n",
      "572/572 [==============================] - 1s 2ms/step - loss: 0.0701 - accuracy: 0.7434 - val_loss: 0.0711 - val_accuracy: 0.7854 - lr: 1.0000e-05\n",
      "Epoch 93/500\n",
      "564/572 [============================>.] - ETA: 0s - loss: 0.0701 - accuracy: 0.7462\n",
      "Epoch 93: val_accuracy did not improve from 0.79449\n",
      "572/572 [==============================] - 1s 2ms/step - loss: 0.0701 - accuracy: 0.7464 - val_loss: 0.0711 - val_accuracy: 0.7881 - lr: 1.0000e-05\n",
      "Epoch 94/500\n",
      "548/572 [===========================>..] - ETA: 0s - loss: 0.0701 - accuracy: 0.7494\n",
      "Epoch 94: val_accuracy did not improve from 0.79449\n",
      "572/572 [==============================] - 1s 2ms/step - loss: 0.0701 - accuracy: 0.7492 - val_loss: 0.0710 - val_accuracy: 0.7770 - lr: 1.0000e-05\n",
      "Epoch 95/500\n",
      "568/572 [============================>.] - ETA: 0s - loss: 0.0700 - accuracy: 0.7473\n",
      "Epoch 95: val_accuracy did not improve from 0.79449\n",
      "572/572 [==============================] - 1s 2ms/step - loss: 0.0700 - accuracy: 0.7473 - val_loss: 0.0710 - val_accuracy: 0.7893 - lr: 1.0000e-05\n",
      "Epoch 96/500\n",
      "563/572 [============================>.] - ETA: 0s - loss: 0.0700 - accuracy: 0.7497\n",
      "Epoch 96: val_accuracy did not improve from 0.79449\n",
      "572/572 [==============================] - 1s 2ms/step - loss: 0.0700 - accuracy: 0.7494 - val_loss: 0.0709 - val_accuracy: 0.7760 - lr: 1.0000e-05\n",
      "Epoch 97/500\n",
      "571/572 [============================>.] - ETA: 0s - loss: 0.0699 - accuracy: 0.7492\n",
      "Epoch 97: val_accuracy did not improve from 0.79449\n",
      "572/572 [==============================] - 1s 2ms/step - loss: 0.0699 - accuracy: 0.7492 - val_loss: 0.0709 - val_accuracy: 0.7866 - lr: 1.0000e-05\n",
      "Epoch 98/500\n",
      "560/572 [============================>.] - ETA: 0s - loss: 0.0699 - accuracy: 0.7482\n",
      "Epoch 98: val_accuracy did not improve from 0.79449\n",
      "572/572 [==============================] - 1s 2ms/step - loss: 0.0698 - accuracy: 0.7482 - val_loss: 0.0708 - val_accuracy: 0.7910 - lr: 1.0000e-05\n",
      "Epoch 99/500\n",
      "565/572 [============================>.] - ETA: 0s - loss: 0.0697 - accuracy: 0.7515\n",
      "Epoch 99: val_accuracy did not improve from 0.79449\n",
      "572/572 [==============================] - 1s 2ms/step - loss: 0.0697 - accuracy: 0.7518 - val_loss: 0.0708 - val_accuracy: 0.7920 - lr: 1.0000e-05\n",
      "Epoch 100/500\n",
      "550/572 [===========================>..] - ETA: 0s - loss: 0.0698 - accuracy: 0.7531\n",
      "Epoch 100: val_accuracy did not improve from 0.79449\n",
      "572/572 [==============================] - 1s 2ms/step - loss: 0.0698 - accuracy: 0.7525 - val_loss: 0.0707 - val_accuracy: 0.7824 - lr: 1.0000e-05\n",
      "Epoch 101/500\n",
      "565/572 [============================>.] - ETA: 0s - loss: 0.0696 - accuracy: 0.7474\n",
      "Epoch 101: val_accuracy improved from 0.79449 to 0.79473, saving model to models_backup/model-0.7947.h5\n",
      "572/572 [==============================] - 1s 2ms/step - loss: 0.0697 - accuracy: 0.7471 - val_loss: 0.0708 - val_accuracy: 0.7947 - lr: 1.0000e-05\n",
      "Epoch 102/500\n",
      "567/572 [============================>.] - ETA: 0s - loss: 0.0696 - accuracy: 0.7472\n",
      "Epoch 102: val_accuracy did not improve from 0.79473\n",
      "572/572 [==============================] - 1s 2ms/step - loss: 0.0696 - accuracy: 0.7475 - val_loss: 0.0707 - val_accuracy: 0.7925 - lr: 1.0000e-05\n",
      "Epoch 103/500\n",
      "551/572 [===========================>..] - ETA: 0s - loss: 0.0696 - accuracy: 0.7517\n",
      "Epoch 103: val_accuracy did not improve from 0.79473\n",
      "572/572 [==============================] - 1s 2ms/step - loss: 0.0695 - accuracy: 0.7518 - val_loss: 0.0707 - val_accuracy: 0.7930 - lr: 1.0000e-05\n",
      "Epoch 104/500\n",
      "549/572 [===========================>..] - ETA: 0s - loss: 0.0696 - accuracy: 0.7508\n",
      "Epoch 104: val_accuracy did not improve from 0.79473\n",
      "572/572 [==============================] - 1s 2ms/step - loss: 0.0696 - accuracy: 0.7512 - val_loss: 0.0706 - val_accuracy: 0.7910 - lr: 1.0000e-05\n",
      "Epoch 105/500\n",
      "562/572 [============================>.] - ETA: 0s - loss: 0.0694 - accuracy: 0.7557\n",
      "Epoch 105: val_accuracy did not improve from 0.79473\n",
      "572/572 [==============================] - 1s 2ms/step - loss: 0.0695 - accuracy: 0.7552 - val_loss: 0.0706 - val_accuracy: 0.7871 - lr: 1.0000e-05\n",
      "Epoch 106/500\n",
      "565/572 [============================>.] - ETA: 0s - loss: 0.0694 - accuracy: 0.7525\n",
      "Epoch 106: val_accuracy did not improve from 0.79473\n",
      "572/572 [==============================] - 1s 2ms/step - loss: 0.0694 - accuracy: 0.7526 - val_loss: 0.0706 - val_accuracy: 0.7846 - lr: 1.0000e-05\n",
      "Epoch 107/500\n",
      "553/572 [============================>.] - ETA: 0s - loss: 0.0693 - accuracy: 0.7551\n",
      "Epoch 107: val_accuracy did not improve from 0.79473\n",
      "572/572 [==============================] - 1s 2ms/step - loss: 0.0693 - accuracy: 0.7555 - val_loss: 0.0705 - val_accuracy: 0.7925 - lr: 1.0000e-05\n",
      "Epoch 108/500\n",
      "558/572 [============================>.] - ETA: 0s - loss: 0.0694 - accuracy: 0.7561\n",
      "Epoch 108: val_accuracy did not improve from 0.79473\n",
      "572/572 [==============================] - 1s 2ms/step - loss: 0.0693 - accuracy: 0.7566 - val_loss: 0.0705 - val_accuracy: 0.7918 - lr: 1.0000e-05\n",
      "Epoch 109/500\n",
      "551/572 [===========================>..] - ETA: 0s - loss: 0.0692 - accuracy: 0.7594\n",
      "Epoch 109: val_accuracy did not improve from 0.79473\n",
      "572/572 [==============================] - 1s 2ms/step - loss: 0.0693 - accuracy: 0.7592 - val_loss: 0.0705 - val_accuracy: 0.7829 - lr: 1.0000e-05\n",
      "Epoch 110/500\n",
      "568/572 [============================>.] - ETA: 0s - loss: 0.0692 - accuracy: 0.7552\n",
      "Epoch 110: val_accuracy improved from 0.79473 to 0.79966, saving model to models_backup/model-0.7997.h5\n",
      "572/572 [==============================] - 1s 2ms/step - loss: 0.0692 - accuracy: 0.7554 - val_loss: 0.0705 - val_accuracy: 0.7997 - lr: 1.0000e-05\n",
      "Epoch 111/500\n",
      "558/572 [============================>.] - ETA: 0s - loss: 0.0692 - accuracy: 0.7600\n",
      "Epoch 111: val_accuracy did not improve from 0.79966\n",
      "572/572 [==============================] - 1s 2ms/step - loss: 0.0691 - accuracy: 0.7599 - val_loss: 0.0704 - val_accuracy: 0.7873 - lr: 1.0000e-05\n",
      "Epoch 112/500\n",
      "564/572 [============================>.] - ETA: 0s - loss: 0.0692 - accuracy: 0.7581\n",
      "Epoch 112: val_accuracy did not improve from 0.79966\n",
      "572/572 [==============================] - 1s 2ms/step - loss: 0.0691 - accuracy: 0.7579 - val_loss: 0.0704 - val_accuracy: 0.7888 - lr: 1.0000e-05\n",
      "Epoch 113/500\n",
      "561/572 [============================>.] - ETA: 0s - loss: 0.0691 - accuracy: 0.7613\n",
      "Epoch 113: val_accuracy did not improve from 0.79966\n",
      "572/572 [==============================] - 1s 2ms/step - loss: 0.0691 - accuracy: 0.7608 - val_loss: 0.0704 - val_accuracy: 0.7873 - lr: 1.0000e-05\n",
      "Epoch 114/500\n",
      "550/572 [===========================>..] - ETA: 0s - loss: 0.0690 - accuracy: 0.7622\n",
      "Epoch 114: val_accuracy did not improve from 0.79966\n",
      "572/572 [==============================] - 1s 2ms/step - loss: 0.0690 - accuracy: 0.7617 - val_loss: 0.0704 - val_accuracy: 0.7871 - lr: 1.0000e-05\n",
      "Epoch 115/500\n",
      "565/572 [============================>.] - ETA: 0s - loss: 0.0690 - accuracy: 0.7621\n",
      "Epoch 115: val_accuracy did not improve from 0.79966\n",
      "572/572 [==============================] - 1s 2ms/step - loss: 0.0690 - accuracy: 0.7622 - val_loss: 0.0703 - val_accuracy: 0.7942 - lr: 1.0000e-05\n",
      "Epoch 116/500\n",
      "568/572 [============================>.] - ETA: 0s - loss: 0.0688 - accuracy: 0.7635\n",
      "Epoch 116: val_accuracy did not improve from 0.79966\n",
      "572/572 [==============================] - 1s 2ms/step - loss: 0.0688 - accuracy: 0.7635 - val_loss: 0.0702 - val_accuracy: 0.7933 - lr: 1.0000e-05\n",
      "Epoch 117/500\n",
      "565/572 [============================>.] - ETA: 0s - loss: 0.0689 - accuracy: 0.7623\n",
      "Epoch 117: val_accuracy did not improve from 0.79966\n",
      "572/572 [==============================] - 1s 2ms/step - loss: 0.0689 - accuracy: 0.7625 - val_loss: 0.0702 - val_accuracy: 0.7873 - lr: 1.0000e-05\n",
      "Epoch 118/500\n",
      "562/572 [============================>.] - ETA: 0s - loss: 0.0689 - accuracy: 0.7601\n",
      "Epoch 118: val_accuracy did not improve from 0.79966\n",
      "572/572 [==============================] - 1s 2ms/step - loss: 0.0689 - accuracy: 0.7604 - val_loss: 0.0702 - val_accuracy: 0.7972 - lr: 1.0000e-05\n",
      "Epoch 119/500\n",
      "563/572 [============================>.] - ETA: 0s - loss: 0.0688 - accuracy: 0.7660\n",
      "Epoch 119: val_accuracy did not improve from 0.79966\n",
      "572/572 [==============================] - 1s 2ms/step - loss: 0.0688 - accuracy: 0.7661 - val_loss: 0.0702 - val_accuracy: 0.7928 - lr: 1.0000e-05\n",
      "Epoch 120/500\n",
      "563/572 [============================>.] - ETA: 0s - loss: 0.0688 - accuracy: 0.7612\n",
      "Epoch 120: val_accuracy did not improve from 0.79966\n",
      "572/572 [==============================] - 1s 2ms/step - loss: 0.0688 - accuracy: 0.7614 - val_loss: 0.0702 - val_accuracy: 0.7928 - lr: 1.0000e-05\n",
      "Epoch 121/500\n",
      "564/572 [============================>.] - ETA: 0s - loss: 0.0687 - accuracy: 0.7644\n",
      "Epoch 121: val_accuracy did not improve from 0.79966\n",
      "572/572 [==============================] - 1s 2ms/step - loss: 0.0687 - accuracy: 0.7642 - val_loss: 0.0702 - val_accuracy: 0.7915 - lr: 1.0000e-05\n",
      "Epoch 122/500\n",
      "564/572 [============================>.] - ETA: 0s - loss: 0.0686 - accuracy: 0.7644\n",
      "Epoch 122: val_accuracy did not improve from 0.79966\n",
      "572/572 [==============================] - 1s 2ms/step - loss: 0.0686 - accuracy: 0.7644 - val_loss: 0.0701 - val_accuracy: 0.7979 - lr: 1.0000e-05\n",
      "Epoch 123/500\n",
      "548/572 [===========================>..] - ETA: 0s - loss: 0.0687 - accuracy: 0.7659\n",
      "Epoch 123: val_accuracy did not improve from 0.79966\n",
      "572/572 [==============================] - 1s 2ms/step - loss: 0.0686 - accuracy: 0.7660 - val_loss: 0.0701 - val_accuracy: 0.7945 - lr: 1.0000e-05\n",
      "Epoch 124/500\n",
      "558/572 [============================>.] - ETA: 0s - loss: 0.0687 - accuracy: 0.7696\n",
      "Epoch 124: val_accuracy did not improve from 0.79966\n",
      "572/572 [==============================] - 1s 2ms/step - loss: 0.0686 - accuracy: 0.7702 - val_loss: 0.0701 - val_accuracy: 0.7856 - lr: 1.0000e-05\n",
      "Epoch 125/500\n",
      "564/572 [============================>.] - ETA: 0s - loss: 0.0687 - accuracy: 0.7669\n",
      "Epoch 125: val_accuracy did not improve from 0.79966\n",
      "572/572 [==============================] - 1s 2ms/step - loss: 0.0685 - accuracy: 0.7675 - val_loss: 0.0700 - val_accuracy: 0.7846 - lr: 1.0000e-05\n",
      "Epoch 126/500\n",
      "548/572 [===========================>..] - ETA: 0s - loss: 0.0686 - accuracy: 0.7657\n",
      "Epoch 126: val_accuracy improved from 0.79966 to 0.80015, saving model to models_backup/model-0.8001.h5\n",
      "572/572 [==============================] - 1s 2ms/step - loss: 0.0685 - accuracy: 0.7662 - val_loss: 0.0701 - val_accuracy: 0.8001 - lr: 1.0000e-05\n",
      "Epoch 127/500\n",
      "567/572 [============================>.] - ETA: 0s - loss: 0.0685 - accuracy: 0.7690\n",
      "Epoch 127: val_accuracy did not improve from 0.80015\n",
      "572/572 [==============================] - 1s 2ms/step - loss: 0.0685 - accuracy: 0.7688 - val_loss: 0.0700 - val_accuracy: 0.7866 - lr: 1.0000e-05\n",
      "Epoch 128/500\n",
      "568/572 [============================>.] - ETA: 0s - loss: 0.0685 - accuracy: 0.7680\n",
      "Epoch 128: val_accuracy did not improve from 0.80015\n",
      "572/572 [==============================] - 1s 2ms/step - loss: 0.0685 - accuracy: 0.7679 - val_loss: 0.0700 - val_accuracy: 0.7940 - lr: 1.0000e-05\n",
      "Epoch 129/500\n",
      "559/572 [============================>.] - ETA: 0s - loss: 0.0684 - accuracy: 0.7702\n",
      "Epoch 129: val_accuracy did not improve from 0.80015\n",
      "572/572 [==============================] - 1s 2ms/step - loss: 0.0684 - accuracy: 0.7703 - val_loss: 0.0700 - val_accuracy: 0.7854 - lr: 1.0000e-05\n",
      "Epoch 130/500\n",
      "571/572 [============================>.] - ETA: 0s - loss: 0.0685 - accuracy: 0.7725\n",
      "Epoch 130: val_accuracy did not improve from 0.80015\n",
      "572/572 [==============================] - 1s 2ms/step - loss: 0.0684 - accuracy: 0.7725 - val_loss: 0.0700 - val_accuracy: 0.7886 - lr: 1.0000e-05\n",
      "Epoch 131/500\n",
      "570/572 [============================>.] - ETA: 0s - loss: 0.0684 - accuracy: 0.7712\n",
      "Epoch 131: val_accuracy improved from 0.80015 to 0.80605, saving model to models_backup/model-0.8061.h5\n",
      "572/572 [==============================] - 1s 2ms/step - loss: 0.0684 - accuracy: 0.7712 - val_loss: 0.0700 - val_accuracy: 0.8061 - lr: 1.0000e-05\n",
      "Epoch 132/500\n",
      "566/572 [============================>.] - ETA: 0s - loss: 0.0684 - accuracy: 0.7721\n",
      "Epoch 132: val_accuracy did not improve from 0.80605\n",
      "572/572 [==============================] - 1s 2ms/step - loss: 0.0683 - accuracy: 0.7724 - val_loss: 0.0699 - val_accuracy: 0.7930 - lr: 1.0000e-05\n",
      "Epoch 133/500\n",
      "568/572 [============================>.] - ETA: 0s - loss: 0.0682 - accuracy: 0.7764\n",
      "Epoch 133: val_accuracy did not improve from 0.80605\n",
      "572/572 [==============================] - 1s 2ms/step - loss: 0.0682 - accuracy: 0.7764 - val_loss: 0.0699 - val_accuracy: 0.7962 - lr: 1.0000e-05\n"
     ]
    },
    {
     "name": "stdout",
     "output_type": "stream",
     "text": [
      "Epoch 134/500\n",
      "568/572 [============================>.] - ETA: 0s - loss: 0.0683 - accuracy: 0.7767\n",
      "Epoch 134: val_accuracy did not improve from 0.80605\n",
      "572/572 [==============================] - 1s 2ms/step - loss: 0.0682 - accuracy: 0.7768 - val_loss: 0.0699 - val_accuracy: 0.8024 - lr: 1.0000e-05\n",
      "Epoch 135/500\n",
      "571/572 [============================>.] - ETA: 0s - loss: 0.0682 - accuracy: 0.7764\n",
      "Epoch 135: val_accuracy did not improve from 0.80605\n",
      "572/572 [==============================] - 1s 2ms/step - loss: 0.0682 - accuracy: 0.7764 - val_loss: 0.0699 - val_accuracy: 0.8031 - lr: 1.0000e-05\n",
      "Epoch 136/500\n",
      "560/572 [============================>.] - ETA: 0s - loss: 0.0682 - accuracy: 0.7766\n",
      "Epoch 136: val_accuracy did not improve from 0.80605\n",
      "572/572 [==============================] - 1s 2ms/step - loss: 0.0682 - accuracy: 0.7767 - val_loss: 0.0698 - val_accuracy: 0.8014 - lr: 1.0000e-05\n",
      "Epoch 137/500\n",
      "549/572 [===========================>..] - ETA: 0s - loss: 0.0681 - accuracy: 0.7776\n",
      "Epoch 137: val_accuracy did not improve from 0.80605\n",
      "572/572 [==============================] - 1s 2ms/step - loss: 0.0682 - accuracy: 0.7772 - val_loss: 0.0698 - val_accuracy: 0.8009 - lr: 1.0000e-05\n",
      "Epoch 138/500\n",
      "566/572 [============================>.] - ETA: 0s - loss: 0.0681 - accuracy: 0.7776\n",
      "Epoch 138: val_accuracy did not improve from 0.80605\n",
      "572/572 [==============================] - 1s 2ms/step - loss: 0.0680 - accuracy: 0.7780 - val_loss: 0.0698 - val_accuracy: 0.7984 - lr: 1.0000e-05\n",
      "Epoch 139/500\n",
      "558/572 [============================>.] - ETA: 0s - loss: 0.0679 - accuracy: 0.7762\n",
      "Epoch 139: val_accuracy improved from 0.80605 to 0.80999, saving model to models_backup/model-0.8100.h5\n",
      "572/572 [==============================] - 1s 2ms/step - loss: 0.0681 - accuracy: 0.7762 - val_loss: 0.0697 - val_accuracy: 0.8100 - lr: 1.0000e-05\n",
      "Epoch 140/500\n",
      "562/572 [============================>.] - ETA: 0s - loss: 0.0681 - accuracy: 0.7796\n",
      "Epoch 140: val_accuracy did not improve from 0.80999\n",
      "572/572 [==============================] - 1s 2ms/step - loss: 0.0680 - accuracy: 0.7796 - val_loss: 0.0698 - val_accuracy: 0.8033 - lr: 1.0000e-05\n",
      "Epoch 141/500\n",
      "566/572 [============================>.] - ETA: 0s - loss: 0.0679 - accuracy: 0.7776\n",
      "Epoch 141: val_accuracy did not improve from 0.80999\n",
      "572/572 [==============================] - 1s 2ms/step - loss: 0.0680 - accuracy: 0.7774 - val_loss: 0.0698 - val_accuracy: 0.8048 - lr: 1.0000e-05\n",
      "Epoch 142/500\n",
      "558/572 [============================>.] - ETA: 0s - loss: 0.0680 - accuracy: 0.7831\n",
      "Epoch 142: val_accuracy did not improve from 0.80999\n",
      "572/572 [==============================] - 1s 2ms/step - loss: 0.0680 - accuracy: 0.7829 - val_loss: 0.0697 - val_accuracy: 0.7999 - lr: 1.0000e-05\n",
      "Epoch 143/500\n",
      "572/572 [==============================] - ETA: 0s - loss: 0.0680 - accuracy: 0.7837\n",
      "Epoch 143: ReduceLROnPlateau reducing learning rate to 9.999999747378752e-07.\n",
      "\n",
      "Epoch 143: val_accuracy did not improve from 0.80999\n",
      "572/572 [==============================] - 1s 2ms/step - loss: 0.0680 - accuracy: 0.7837 - val_loss: 0.0697 - val_accuracy: 0.8014 - lr: 1.0000e-05\n",
      "Epoch 144/500\n",
      "567/572 [============================>.] - ETA: 0s - loss: 0.0678 - accuracy: 0.7822\n",
      "Epoch 144: val_accuracy did not improve from 0.80999\n",
      "572/572 [==============================] - 1s 2ms/step - loss: 0.0679 - accuracy: 0.7823 - val_loss: 0.0697 - val_accuracy: 0.8024 - lr: 1.0000e-06\n",
      "Epoch 145/500\n",
      "563/572 [============================>.] - ETA: 0s - loss: 0.0679 - accuracy: 0.7840\n",
      "Epoch 145: val_accuracy did not improve from 0.80999\n",
      "572/572 [==============================] - 1s 2ms/step - loss: 0.0679 - accuracy: 0.7837 - val_loss: 0.0697 - val_accuracy: 0.8036 - lr: 1.0000e-06\n",
      "Epoch 146/500\n",
      "572/572 [==============================] - ETA: 0s - loss: 0.0679 - accuracy: 0.7837\n",
      "Epoch 146: val_accuracy did not improve from 0.80999\n",
      "572/572 [==============================] - 1s 2ms/step - loss: 0.0679 - accuracy: 0.7837 - val_loss: 0.0697 - val_accuracy: 0.8024 - lr: 1.0000e-06\n",
      "Epoch 147/500\n",
      "567/572 [============================>.] - ETA: 0s - loss: 0.0678 - accuracy: 0.7840\n",
      "Epoch 147: val_accuracy did not improve from 0.80999\n",
      "572/572 [==============================] - 1s 2ms/step - loss: 0.0678 - accuracy: 0.7840 - val_loss: 0.0697 - val_accuracy: 0.8043 - lr: 1.0000e-06\n",
      "Epoch 148/500\n",
      "565/572 [============================>.] - ETA: 0s - loss: 0.0678 - accuracy: 0.7861\n",
      "Epoch 148: val_accuracy did not improve from 0.80999\n",
      "572/572 [==============================] - 1s 2ms/step - loss: 0.0679 - accuracy: 0.7858 - val_loss: 0.0697 - val_accuracy: 0.8041 - lr: 1.0000e-06\n",
      "Epoch 149/500\n",
      "560/572 [============================>.] - ETA: 0s - loss: 0.0678 - accuracy: 0.7845\n",
      "Epoch 149: ReduceLROnPlateau reducing learning rate to 9.999999974752428e-08.\n",
      "\n",
      "Epoch 149: val_accuracy did not improve from 0.80999\n",
      "572/572 [==============================] - 1s 2ms/step - loss: 0.0678 - accuracy: 0.7845 - val_loss: 0.0697 - val_accuracy: 0.8051 - lr: 1.0000e-06\n",
      "Epoch 150/500\n",
      "563/572 [============================>.] - ETA: 0s - loss: 0.0678 - accuracy: 0.7844\n",
      "Epoch 150: val_accuracy did not improve from 0.80999\n",
      "572/572 [==============================] - 1s 2ms/step - loss: 0.0679 - accuracy: 0.7841 - val_loss: 0.0697 - val_accuracy: 0.8046 - lr: 1.0000e-07\n",
      "Epoch 151/500\n",
      "569/572 [============================>.] - ETA: 0s - loss: 0.0678 - accuracy: 0.7841\n",
      "Epoch 151: val_accuracy did not improve from 0.80999\n",
      "572/572 [==============================] - 1s 2ms/step - loss: 0.0678 - accuracy: 0.7839 - val_loss: 0.0697 - val_accuracy: 0.8048 - lr: 1.0000e-07\n",
      "Epoch 152/500\n",
      "567/572 [============================>.] - ETA: 0s - loss: 0.0680 - accuracy: 0.7819\n",
      "Epoch 152: val_accuracy did not improve from 0.80999\n",
      "572/572 [==============================] - 1s 2ms/step - loss: 0.0679 - accuracy: 0.7821 - val_loss: 0.0697 - val_accuracy: 0.8051 - lr: 1.0000e-07\n",
      "Epoch 153/500\n",
      "565/572 [============================>.] - ETA: 0s - loss: 0.0679 - accuracy: 0.7830\n",
      "Epoch 153: val_accuracy did not improve from 0.80999\n",
      "572/572 [==============================] - 1s 2ms/step - loss: 0.0679 - accuracy: 0.7833 - val_loss: 0.0697 - val_accuracy: 0.8053 - lr: 1.0000e-07\n",
      "Epoch 154/500\n",
      "570/572 [============================>.] - ETA: 0s - loss: 0.0679 - accuracy: 0.7841\n",
      "Epoch 154: ReduceLROnPlateau reducing learning rate to 1.0000000116860975e-08.\n",
      "\n",
      "Epoch 154: val_accuracy did not improve from 0.80999\n",
      "572/572 [==============================] - 1s 2ms/step - loss: 0.0679 - accuracy: 0.7841 - val_loss: 0.0697 - val_accuracy: 0.8046 - lr: 1.0000e-07\n",
      "Epoch 155/500\n",
      "558/572 [============================>.] - ETA: 0s - loss: 0.0678 - accuracy: 0.7855\n",
      "Epoch 155: val_accuracy did not improve from 0.80999\n",
      "572/572 [==============================] - 1s 2ms/step - loss: 0.0678 - accuracy: 0.7856 - val_loss: 0.0697 - val_accuracy: 0.8046 - lr: 1.0000e-08\n",
      "Epoch 156/500\n",
      "565/572 [============================>.] - ETA: 0s - loss: 0.0679 - accuracy: 0.7841\n",
      "Epoch 156: val_accuracy did not improve from 0.80999\n",
      "572/572 [==============================] - 1s 2ms/step - loss: 0.0679 - accuracy: 0.7842 - val_loss: 0.0697 - val_accuracy: 0.8046 - lr: 1.0000e-08\n"
     ]
    }
   ],
   "source": [
    "X_train, X_test, y_train, y_test = train_test_split(xTrain_for_model_charge, yTrain, test_size=0.1)  # 0.2\n",
    "\n",
    "history = model.fit(\n",
    "    X_train,\n",
    "    y_train,\n",
    "    validation_data=(X_test, y_test),\n",
    "    epochs=500,\n",
    "    batch_size=64,\n",
    "    verbose=1,\n",
    "    callbacks=get_callbacks()\n",
    ")"
   ]
  },
  {
   "cell_type": "code",
   "execution_count": 38,
   "metadata": {},
   "outputs": [
    {
     "name": "stdout",
     "output_type": "stream",
     "text": [
      "dict_keys(['loss', 'accuracy', 'val_loss', 'val_accuracy', 'lr'])\n"
     ]
    },
    {
     "data": {
      "image/png": "[encoded data removed]",
      "text/plain": [
       "<Figure size 640x480 with 1 Axes>"
      ]
     },
     "metadata": {},
     "output_type": "display_data"
    }
   ],
   "source": [
    "plot_history(history)"
   ]
  },
  {
   "cell_type": "code",
   "execution_count": 39,
   "metadata": {},
   "outputs": [
    {
     "name": "stdout",
     "output_type": "stream",
     "text": [
      "127/127 [==============================] - 0s 1ms/step - loss: 0.0697 - accuracy: 0.8041\n",
      "Evaluate train acc:  0.8040856719017029\n"
     ]
    }
   ],
   "source": [
    "test_loss, test_acc = model.evaluate(X_test, y_test)\n",
    "print('Evaluate train acc: ', test_acc)"
   ]
  },
  {
   "cell_type": "code",
   "execution_count": 40,
   "metadata": {},
   "outputs": [],
   "source": [
    "@count_elapsed_time\n",
    "def predecir(d):\n",
    "    y_final = model.predict(d)\n",
    "    y_final = np.round(y_final, 0).astype(int)\n",
    "    return y_final"
   ]
  },
  {
   "cell_type": "code",
   "execution_count": 41,
   "metadata": {},
   "outputs": [
    {
     "name": "stdout",
     "output_type": "stream",
     "text": [
      "Tiempo transcurrido (en segundos): 0.9034075736999512\n",
      "Aciertos train 88.36%\n"
     ]
    }
   ],
   "source": [
    "y_final = predecir(X_train)\n",
    "aciertos = calcular_porcentajes_aciertos(y_final, y_train)[2]\n",
    "print(\"Aciertos train\", aciertos)"
   ]
  },
  {
   "cell_type": "code",
   "execution_count": 42,
   "metadata": {},
   "outputs": [
    {
     "name": "stdout",
     "output_type": "stream",
     "text": [
      "Tiempo transcurrido (en segundos): 0.1325826644897461\n",
      "Aciertos validacion 87.72%\n"
     ]
    }
   ],
   "source": [
    "y_final = predecir(X_test)\n",
    "aciertos = calcular_porcentajes_aciertos(y_final, y_test)[2]\n",
    "print(\"Aciertos validacion\", aciertos)"
   ]
  },
  {
   "cell_type": "code",
   "execution_count": 43,
   "metadata": {},
   "outputs": [
    {
     "name": "stdout",
     "output_type": "stream",
     "text": [
      "Tiempo transcurrido (en segundos): 0.0647740364074707\n",
      "Aciertos test 87.54%\n"
     ]
    }
   ],
   "source": [
    "y_final = predecir(xTest_for_model_charge)\n",
    "aciertos = calcular_porcentajes_aciertos(y_final, yTest)[2]\n",
    "print(\"Aciertos test\", aciertos)"
   ]
  },
  {
   "cell_type": "code",
   "execution_count": null,
   "metadata": {},
   "outputs": [],
   "source": []
  },
  {
   "cell_type": "code",
   "execution_count": null,
   "metadata": {},
   "outputs": [],
   "source": []
  },
  {
   "cell_type": "code",
   "execution_count": null,
   "metadata": {},
   "outputs": [],
   "source": []
  },
  {
   "cell_type": "code",
   "execution_count": null,
   "metadata": {},
   "outputs": [],
   "source": []
  },
  {
   "cell_type": "code",
   "execution_count": null,
   "metadata": {},
   "outputs": [],
   "source": []
  },
  {
   "cell_type": "markdown",
   "metadata": {},
   "source": [
    "# 4.2) Modelo RNA medio"
   ]
  },
  {
   "cell_type": "code",
   "execution_count": 13,
   "metadata": {},
   "outputs": [],
   "source": [
    "def modelo_simple(cantidad_entradas, cantidad_salidas):\n",
    "    model = Sequential(name=\"Redsimple\")  # los nombres van sin espacios\n",
    "    model.add(Dense(8 * 4, activation=\"relu\",  input_shape=(cantidad_entradas,)) ) \n",
    "    model.add(Dense(16*4, activation='relu'))\n",
    "    model.add(Dense(16*8, activation='relu'))\n",
    "    model.add(Dense(32*8, activation='relu'))\n",
    "    model.add(Reshape((32, 8)))\n",
    "\n",
    "    model.add(UpSampling1D(size=3))\n",
    "    model.add(Conv1D(12, kernel_size=3, padding=\"same\", activation='relu'))\n",
    "    model.add(Conv1D(12, kernel_size=3, padding=\"same\", activation='relu'))\n",
    "    model.add(Conv1D(12, kernel_size=3, padding=\"same\", activation='relu'))\n",
    "    model.add(MaxPooling1D(pool_size=3, strides=1, padding='valid'))\n",
    "\n",
    "    model.add(Conv1D(24, kernel_size=3, padding=\"same\", activation='relu'))\n",
    "    model.add(Conv1D(24, kernel_size=3, padding=\"same\", activation='relu'))\n",
    "    model.add(Conv1D(32, kernel_size=3, padding=\"same\", activation='relu'))\n",
    "    model.add(MaxPooling1D(pool_size=2, strides=1, padding='valid'))\n",
    "\n",
    "    model.add(Conv1D(32, kernel_size=3, padding=\"same\", activation='relu'))\n",
    "    model.add(Conv1D(32, kernel_size=3, padding=\"same\", activation='relu'))\n",
    "    model.add(MaxPooling1D(pool_size=3, strides=1, padding='valid'))\n",
    "\n",
    "    model.add(Conv1D(24, kernel_size=3, padding=\"same\", activation='relu'))\n",
    "    model.add(Conv1D(24, kernel_size=3, padding=\"same\", activation='relu'))\n",
    "    model.add(Conv1D(16, kernel_size=3, padding=\"same\", activation='relu'))\n",
    "    model.add(MaxPooling1D(pool_size=3, strides=1, padding='valid'))\n",
    "\n",
    "    model.add(Conv1D(16, kernel_size=3, padding=\"same\", activation='relu'))\n",
    "    model.add(Conv1D(8, kernel_size=3, padding=\"same\", activation='relu'))\n",
    "    model.add(MaxPooling1D(pool_size=2, strides=1, padding='valid'))\n",
    "\n",
    "    model.add(Dense(24, activation=\"relu\"))\n",
    "    model.add(Dense(16, activation=\"relu\"))\n",
    "    model.add(MaxPooling1D(pool_size=2, strides=1, padding='valid'))\n",
    "\n",
    "    model.add(Dropout(0.5))\n",
    "\n",
    "    model.add(Dense(128, activation=\"relu\"))\n",
    "    model.add(Dense(64, activation=\"relu\"))\n",
    "    model.add(Dense(32, activation='relu'))\n",
    "\n",
    "    model.add(GlobalAveragePooling1D())\n",
    "\n",
    "    model.add(Flatten())\n",
    "\n",
    "    model.add(Dense(cantidad_salidas, activation=\"softmax\", name='output_layer'))\n",
    "\n",
    "    return model"
   ]
  },
  {
   "cell_type": "code",
   "execution_count": 14,
   "metadata": {},
   "outputs": [
    {
     "name": "stdout",
     "output_type": "stream",
     "text": [
      "Model: \"Redsimple\"\n",
      "_________________________________________________________________\n",
      " Layer (type)                Output Shape              Param #   \n",
      "=================================================================\n",
      " dense_6 (Dense)             (None, 32)                512       \n",
      "                                                                 \n",
      " dense_7 (Dense)             (None, 64)                2112      \n",
      "                                                                 \n",
      " dense_8 (Dense)             (None, 128)               8320      \n",
      "                                                                 \n",
      " dense_9 (Dense)             (None, 256)               33024     \n",
      "                                                                 \n",
      " reshape (Reshape)           (None, 32, 8)             0         \n",
      "                                                                 \n",
      " up_sampling1d (UpSampling1D  (None, 96, 8)            0         \n",
      " )                                                               \n",
      "                                                                 \n",
      " conv1d (Conv1D)             (None, 96, 12)            300       \n",
      "                                                                 \n",
      " conv1d_1 (Conv1D)           (None, 96, 12)            444       \n",
      "                                                                 \n",
      " conv1d_2 (Conv1D)           (None, 96, 12)            444       \n",
      "                                                                 \n",
      " max_pooling1d (MaxPooling1D  (None, 94, 12)           0         \n",
      " )                                                               \n",
      "                                                                 \n",
      " conv1d_3 (Conv1D)           (None, 94, 24)            888       \n",
      "                                                                 \n",
      " conv1d_4 (Conv1D)           (None, 94, 24)            1752      \n",
      "                                                                 \n",
      " conv1d_5 (Conv1D)           (None, 94, 32)            2336      \n",
      "                                                                 \n",
      " max_pooling1d_1 (MaxPooling  (None, 93, 32)           0         \n",
      " 1D)                                                             \n",
      "                                                                 \n",
      " conv1d_6 (Conv1D)           (None, 93, 32)            3104      \n",
      "                                                                 \n",
      " conv1d_7 (Conv1D)           (None, 93, 32)            3104      \n",
      "                                                                 \n",
      " max_pooling1d_2 (MaxPooling  (None, 91, 32)           0         \n",
      " 1D)                                                             \n",
      "                                                                 \n",
      " conv1d_8 (Conv1D)           (None, 91, 24)            2328      \n",
      "                                                                 \n",
      " conv1d_9 (Conv1D)           (None, 91, 24)            1752      \n",
      "                                                                 \n",
      " conv1d_10 (Conv1D)          (None, 91, 16)            1168      \n",
      "                                                                 \n",
      " max_pooling1d_3 (MaxPooling  (None, 89, 16)           0         \n",
      " 1D)                                                             \n",
      "                                                                 \n",
      " conv1d_11 (Conv1D)          (None, 89, 16)            784       \n",
      "                                                                 \n",
      " conv1d_12 (Conv1D)          (None, 89, 8)             392       \n",
      "                                                                 \n",
      " max_pooling1d_4 (MaxPooling  (None, 88, 8)            0         \n",
      " 1D)                                                             \n",
      "                                                                 \n",
      " dense_10 (Dense)            (None, 88, 24)            216       \n",
      "                                                                 \n",
      " dense_11 (Dense)            (None, 88, 16)            400       \n",
      "                                                                 \n",
      " max_pooling1d_5 (MaxPooling  (None, 87, 16)           0         \n",
      " 1D)                                                             \n",
      "                                                                 \n",
      " dropout_1 (Dropout)         (None, 87, 16)            0         \n",
      "                                                                 \n",
      " dense_12 (Dense)            (None, 87, 128)           2176      \n",
      "                                                                 \n",
      " dense_13 (Dense)            (None, 87, 64)            8256      \n",
      "                                                                 \n",
      " dense_14 (Dense)            (None, 87, 32)            2080      \n",
      "                                                                 \n",
      " global_average_pooling1d (G  (None, 32)               0         \n",
      " lobalAveragePooling1D)                                          \n",
      "                                                                 \n",
      " flatten (Flatten)           (None, 32)                0         \n",
      "                                                                 \n",
      " output_layer (Dense)        (None, 11)                363       \n",
      "                                                                 \n",
      "=================================================================\n",
      "Total params: 76,255\n",
      "Trainable params: 76,255\n",
      "Non-trainable params: 0\n",
      "_________________________________________________________________\n"
     ]
    }
   ],
   "source": [
    "cantidad_entradas = 15\n",
    "cantidad_salidas = 11\n",
    "\n",
    "model = modelo_simple(cantidad_entradas, cantidad_salidas)\n",
    "\n",
    "model.summary()"
   ]
  },
  {
   "cell_type": "code",
   "execution_count": 15,
   "metadata": {},
   "outputs": [],
   "source": [
    "model.compile(optimizer=get_optimizador(),\n",
    "              loss='mean_squared_error',  # categorical_crossentropy sparse_categorical_crossentropy mean_squared_error\n",
    "              metrics=['accuracy'])"
   ]
  },
  {
   "cell_type": "code",
   "execution_count": 16,
   "metadata": {},
   "outputs": [],
   "source": [
    "model.save(\"model_experimental.h5\")"
   ]
  },
  {
   "cell_type": "code",
   "execution_count": 47,
   "metadata": {},
   "outputs": [],
   "source": [
    "X_train, X_test, y_train, y_test = train_test_split(xTrain_for_model_charge, yTrain, test_size=0.1)  # 0.2"
   ]
  },
  {
   "cell_type": "code",
   "execution_count": 48,
   "metadata": {},
   "outputs": [
    {
     "name": "stdout",
     "output_type": "stream",
     "text": [
      "Epoch 1/500\n",
      "572/572 [==============================] - ETA: 0s - loss: 0.1463 - accuracy: 0.6240\n",
      "Epoch 1: val_accuracy improved from -inf to 0.66478, saving model to models_backup/model-0.6648.h5\n",
      "572/572 [==============================] - 11s 11ms/step - loss: 0.1463 - accuracy: 0.6240 - val_loss: 0.1427 - val_accuracy: 0.6648 - lr: 1.0000e-05\n",
      "Epoch 2/500\n",
      "569/572 [============================>.] - ETA: 0s - loss: 0.1188 - accuracy: 0.6650\n",
      "Epoch 2: val_accuracy did not improve from 0.66478\n",
      "572/572 [==============================] - 5s 9ms/step - loss: 0.1188 - accuracy: 0.6649 - val_loss: 0.1139 - val_accuracy: 0.6648 - lr: 1.0000e-05\n",
      "Epoch 3/500\n",
      "570/572 [============================>.] - ETA: 0s - loss: 0.1112 - accuracy: 0.6649\n",
      "Epoch 3: val_accuracy did not improve from 0.66478\n",
      "572/572 [==============================] - 5s 9ms/step - loss: 0.1112 - accuracy: 0.6649 - val_loss: 0.1109 - val_accuracy: 0.6648 - lr: 1.0000e-05\n",
      "Epoch 4/500\n",
      "570/572 [============================>.] - ETA: 0s - loss: 0.1068 - accuracy: 0.6652\n",
      "Epoch 4: val_accuracy did not improve from 0.66478\n",
      "572/572 [==============================] - 5s 9ms/step - loss: 0.1069 - accuracy: 0.6649 - val_loss: 0.1061 - val_accuracy: 0.6648 - lr: 1.0000e-05\n",
      "Epoch 5/500\n",
      "569/572 [============================>.] - ETA: 0s - loss: 0.1005 - accuracy: 0.6650\n",
      "Epoch 5: val_accuracy did not improve from 0.66478\n",
      "572/572 [==============================] - 5s 9ms/step - loss: 0.1005 - accuracy: 0.6649 - val_loss: 0.0999 - val_accuracy: 0.6648 - lr: 1.0000e-05\n",
      "Epoch 6/500\n",
      "566/572 [============================>.] - ETA: 0s - loss: 0.0947 - accuracy: 0.6788\n",
      "Epoch 6: val_accuracy improved from 0.66478 to 0.76889, saving model to models_backup/model-0.7689.h5\n",
      "572/572 [==============================] - 5s 9ms/step - loss: 0.0946 - accuracy: 0.6798 - val_loss: 0.0969 - val_accuracy: 0.7689 - lr: 1.0000e-05\n",
      "Epoch 7/500\n",
      "567/572 [============================>.] - ETA: 0s - loss: 0.0913 - accuracy: 0.7671\n",
      "Epoch 7: val_accuracy did not improve from 0.76889\n",
      "572/572 [==============================] - 5s 9ms/step - loss: 0.0913 - accuracy: 0.7673 - val_loss: 0.0945 - val_accuracy: 0.7610 - lr: 1.0000e-05\n",
      "Epoch 8/500\n",
      "572/572 [==============================] - ETA: 0s - loss: 0.0895 - accuracy: 0.7730\n",
      "Epoch 8: val_accuracy did not improve from 0.76889\n",
      "572/572 [==============================] - 5s 9ms/step - loss: 0.0895 - accuracy: 0.7730 - val_loss: 0.0941 - val_accuracy: 0.7519 - lr: 1.0000e-05\n",
      "Epoch 9/500\n",
      "568/572 [============================>.] - ETA: 0s - loss: 0.0882 - accuracy: 0.7723\n",
      "Epoch 9: val_accuracy did not improve from 0.76889\n",
      "572/572 [==============================] - 5s 9ms/step - loss: 0.0882 - accuracy: 0.7721 - val_loss: 0.0967 - val_accuracy: 0.7177 - lr: 1.0000e-05\n",
      "Epoch 10/500\n",
      "570/572 [============================>.] - ETA: 0s - loss: 0.0873 - accuracy: 0.7718\n",
      "Epoch 10: val_accuracy did not improve from 0.76889\n",
      "572/572 [==============================] - 5s 9ms/step - loss: 0.0873 - accuracy: 0.7718 - val_loss: 0.0984 - val_accuracy: 0.6909 - lr: 1.0000e-05\n",
      "Epoch 11/500\n",
      "568/572 [============================>.] - ETA: 0s - loss: 0.0866 - accuracy: 0.7743\n",
      "Epoch 11: val_accuracy did not improve from 0.76889\n",
      "572/572 [==============================] - 5s 9ms/step - loss: 0.0865 - accuracy: 0.7744 - val_loss: 0.0989 - val_accuracy: 0.6653 - lr: 1.0000e-05\n",
      "Epoch 12/500\n",
      "568/572 [============================>.] - ETA: 0s - loss: 0.0859 - accuracy: 0.7775\n",
      "Epoch 12: val_accuracy did not improve from 0.76889\n",
      "572/572 [==============================] - 5s 9ms/step - loss: 0.0858 - accuracy: 0.7773 - val_loss: 0.0934 - val_accuracy: 0.7066 - lr: 1.0000e-05\n",
      "Epoch 13/500\n",
      "569/572 [============================>.] - ETA: 0s - loss: 0.0853 - accuracy: 0.7812\n",
      "Epoch 13: val_accuracy did not improve from 0.76889\n",
      "572/572 [==============================] - 5s 9ms/step - loss: 0.0852 - accuracy: 0.7811 - val_loss: 0.0958 - val_accuracy: 0.6823 - lr: 1.0000e-05\n",
      "Epoch 14/500\n",
      "569/572 [============================>.] - ETA: 0s - loss: 0.0847 - accuracy: 0.7837\n",
      "Epoch 14: val_accuracy did not improve from 0.76889\n",
      "572/572 [==============================] - 5s 9ms/step - loss: 0.0847 - accuracy: 0.7839 - val_loss: 0.0890 - val_accuracy: 0.7285 - lr: 1.0000e-05\n",
      "Epoch 15/500\n",
      "570/572 [============================>.] - ETA: 0s - loss: 0.0842 - accuracy: 0.7868\n",
      "Epoch 15: val_accuracy did not improve from 0.76889\n",
      "572/572 [==============================] - 5s 9ms/step - loss: 0.0842 - accuracy: 0.7867 - val_loss: 0.0891 - val_accuracy: 0.7221 - lr: 1.0000e-05\n",
      "Epoch 16/500\n",
      "572/572 [==============================] - ETA: 0s - loss: 0.0838 - accuracy: 0.7887\n",
      "Epoch 16: val_accuracy did not improve from 0.76889\n",
      "572/572 [==============================] - 6s 10ms/step - loss: 0.0838 - accuracy: 0.7887 - val_loss: 0.0874 - val_accuracy: 0.7320 - lr: 1.0000e-05\n",
      "Epoch 17/500\n",
      "572/572 [==============================] - ETA: 0s - loss: 0.0833 - accuracy: 0.7907\n",
      "Epoch 17: val_accuracy did not improve from 0.76889\n",
      "572/572 [==============================] - 5s 9ms/step - loss: 0.0833 - accuracy: 0.7907 - val_loss: 0.0873 - val_accuracy: 0.7275 - lr: 1.0000e-05\n",
      "Epoch 18/500\n",
      "566/572 [============================>.] - ETA: 0s - loss: 0.0830 - accuracy: 0.7922\n",
      "Epoch 18: val_accuracy did not improve from 0.76889\n",
      "572/572 [==============================] - 5s 9ms/step - loss: 0.0829 - accuracy: 0.7922 - val_loss: 0.0848 - val_accuracy: 0.7600 - lr: 1.0000e-05\n",
      "Epoch 19/500\n",
      "567/572 [============================>.] - ETA: 0s - loss: 0.0826 - accuracy: 0.7926\n",
      "Epoch 19: val_accuracy improved from 0.76889 to 0.77307, saving model to models_backup/model-0.7731.h5\n",
      "572/572 [==============================] - 5s 9ms/step - loss: 0.0826 - accuracy: 0.7925 - val_loss: 0.0840 - val_accuracy: 0.7731 - lr: 1.0000e-05\n",
      "Epoch 20/500\n",
      "572/572 [==============================] - ETA: 0s - loss: 0.0823 - accuracy: 0.7930\n",
      "Epoch 20: val_accuracy did not improve from 0.77307\n",
      "572/572 [==============================] - 5s 9ms/step - loss: 0.0823 - accuracy: 0.7930 - val_loss: 0.0853 - val_accuracy: 0.7366 - lr: 1.0000e-05\n",
      "Epoch 21/500\n",
      "572/572 [==============================] - ETA: 0s - loss: 0.0820 - accuracy: 0.7947\n",
      "Epoch 21: val_accuracy did not improve from 0.77307\n",
      "572/572 [==============================] - 5s 9ms/step - loss: 0.0820 - accuracy: 0.7947 - val_loss: 0.0850 - val_accuracy: 0.7374 - lr: 1.0000e-05\n",
      "Epoch 22/500\n",
      "572/572 [==============================] - ETA: 0s - loss: 0.0817 - accuracy: 0.7946\n",
      "Epoch 22: val_accuracy did not improve from 0.77307\n",
      "572/572 [==============================] - 5s 9ms/step - loss: 0.0817 - accuracy: 0.7946 - val_loss: 0.0867 - val_accuracy: 0.7088 - lr: 1.0000e-05\n",
      "Epoch 23/500\n",
      "569/572 [============================>.] - ETA: 0s - loss: 0.0813 - accuracy: 0.7956\n",
      "Epoch 23: val_accuracy did not improve from 0.77307\n",
      "572/572 [==============================] - 5s 9ms/step - loss: 0.0813 - accuracy: 0.7953 - val_loss: 0.0889 - val_accuracy: 0.6739 - lr: 1.0000e-05\n",
      "Epoch 24/500\n",
      "567/572 [============================>.] - ETA: 0s - loss: 0.0811 - accuracy: 0.7973\n",
      "Epoch 24: val_accuracy did not improve from 0.77307\n",
      "572/572 [==============================] - 5s 9ms/step - loss: 0.0811 - accuracy: 0.7971 - val_loss: 0.0849 - val_accuracy: 0.7241 - lr: 1.0000e-05\n",
      "Epoch 25/500\n",
      "572/572 [==============================] - ETA: 0s - loss: 0.0808 - accuracy: 0.7980\n",
      "Epoch 25: val_accuracy did not improve from 0.77307\n",
      "572/572 [==============================] - 5s 9ms/step - loss: 0.0808 - accuracy: 0.7980 - val_loss: 0.0851 - val_accuracy: 0.7157 - lr: 1.0000e-05\n",
      "Epoch 26/500\n",
      "569/572 [============================>.] - ETA: 0s - loss: 0.0806 - accuracy: 0.7981\n",
      "Epoch 26: val_accuracy did not improve from 0.77307\n",
      "572/572 [==============================] - 5s 9ms/step - loss: 0.0806 - accuracy: 0.7980 - val_loss: 0.0841 - val_accuracy: 0.7354 - lr: 1.0000e-05\n",
      "Epoch 27/500\n",
      "568/572 [============================>.] - ETA: 0s - loss: 0.0804 - accuracy: 0.7980\n",
      "Epoch 27: val_accuracy did not improve from 0.77307\n",
      "572/572 [==============================] - 5s 9ms/step - loss: 0.0804 - accuracy: 0.7981 - val_loss: 0.0828 - val_accuracy: 0.7492 - lr: 1.0000e-05\n",
      "Epoch 28/500\n"
     ]
    },
    {
     "name": "stdout",
     "output_type": "stream",
     "text": [
      "567/572 [============================>.] - ETA: 0s - loss: 0.0801 - accuracy: 0.7994\n",
      "Epoch 28: val_accuracy did not improve from 0.77307\n",
      "572/572 [==============================] - 5s 9ms/step - loss: 0.0802 - accuracy: 0.7992 - val_loss: 0.0841 - val_accuracy: 0.7069 - lr: 1.0000e-05\n",
      "Epoch 29/500\n",
      "571/572 [============================>.] - ETA: 0s - loss: 0.0800 - accuracy: 0.7995\n",
      "Epoch 29: val_accuracy did not improve from 0.77307\n",
      "572/572 [==============================] - 5s 9ms/step - loss: 0.0800 - accuracy: 0.7995 - val_loss: 0.0833 - val_accuracy: 0.7074 - lr: 1.0000e-05\n",
      "Epoch 30/500\n",
      "567/572 [============================>.] - ETA: 0s - loss: 0.0798 - accuracy: 0.7905\n",
      "Epoch 30: val_accuracy did not improve from 0.77307\n",
      "572/572 [==============================] - 5s 9ms/step - loss: 0.0797 - accuracy: 0.7904 - val_loss: 0.0835 - val_accuracy: 0.5661 - lr: 1.0000e-05\n",
      "Epoch 31/500\n",
      "567/572 [============================>.] - ETA: 0s - loss: 0.0796 - accuracy: 0.7642\n",
      "Epoch 31: val_accuracy did not improve from 0.77307\n",
      "572/572 [==============================] - 5s 9ms/step - loss: 0.0796 - accuracy: 0.7643 - val_loss: 0.0819 - val_accuracy: 0.5562 - lr: 1.0000e-05\n",
      "Epoch 32/500\n",
      "567/572 [============================>.] - ETA: 0s - loss: 0.0794 - accuracy: 0.7437\n",
      "Epoch 32: val_accuracy did not improve from 0.77307\n",
      "572/572 [==============================] - 5s 9ms/step - loss: 0.0794 - accuracy: 0.7436 - val_loss: 0.0817 - val_accuracy: 0.5585 - lr: 1.0000e-05\n",
      "Epoch 33/500\n",
      "569/572 [============================>.] - ETA: 0s - loss: 0.0792 - accuracy: 0.7383\n",
      "Epoch 33: val_accuracy did not improve from 0.77307\n",
      "572/572 [==============================] - 5s 9ms/step - loss: 0.0792 - accuracy: 0.7384 - val_loss: 0.0816 - val_accuracy: 0.5604 - lr: 1.0000e-05\n",
      "Epoch 34/500\n",
      "568/572 [============================>.] - ETA: 0s - loss: 0.0790 - accuracy: 0.7379\n",
      "Epoch 34: val_accuracy did not improve from 0.77307\n",
      "572/572 [==============================] - 5s 9ms/step - loss: 0.0790 - accuracy: 0.7379 - val_loss: 0.0819 - val_accuracy: 0.5540 - lr: 1.0000e-05\n",
      "Epoch 35/500\n",
      "571/572 [============================>.] - ETA: 0s - loss: 0.0789 - accuracy: 0.7356\n",
      "Epoch 35: val_accuracy did not improve from 0.77307\n",
      "572/572 [==============================] - 5s 9ms/step - loss: 0.0789 - accuracy: 0.7356 - val_loss: 0.0812 - val_accuracy: 0.5730 - lr: 1.0000e-05\n",
      "Epoch 36/500\n",
      "569/572 [============================>.] - ETA: 0s - loss: 0.0787 - accuracy: 0.7334\n",
      "Epoch 36: val_accuracy did not improve from 0.77307\n",
      "572/572 [==============================] - 5s 9ms/step - loss: 0.0787 - accuracy: 0.7333 - val_loss: 0.0818 - val_accuracy: 0.5602 - lr: 1.0000e-05\n",
      "Epoch 37/500\n",
      "571/572 [============================>.] - ETA: 0s - loss: 0.0786 - accuracy: 0.7313\n",
      "Epoch 37: val_accuracy did not improve from 0.77307\n",
      "572/572 [==============================] - 5s 9ms/step - loss: 0.0786 - accuracy: 0.7313 - val_loss: 0.0809 - val_accuracy: 0.5789 - lr: 1.0000e-05\n"
     ]
    }
   ],
   "source": [
    "history = model.fit(\n",
    "    X_train,\n",
    "    y_train,\n",
    "    validation_data=(X_test, y_test),\n",
    "    epochs=500,\n",
    "    batch_size=64,\n",
    "    verbose=1,\n",
    "    callbacks=get_callbacks()\n",
    ")\n",
    "\n"
   ]
  },
  {
   "cell_type": "code",
   "execution_count": 49,
   "metadata": {},
   "outputs": [
    {
     "name": "stdout",
     "output_type": "stream",
     "text": [
      "dict_keys(['loss', 'accuracy', 'val_loss', 'val_accuracy', 'lr'])\n"
     ]
    },
    {
     "data": {
      "image/png": "[encoded data removed]",
      "text/plain": [
       "<Figure size 640x480 with 1 Axes>"
      ]
     },
     "metadata": {},
     "output_type": "display_data"
    }
   ],
   "source": [
    "plot_history(history)"
   ]
  },
  {
   "cell_type": "code",
   "execution_count": 50,
   "metadata": {},
   "outputs": [],
   "source": [
    "#test_loss, test_acc = model.evaluate(X_test, y_test)\n",
    "#print('Evaluate train acc: ', test_acc)"
   ]
  },
  {
   "cell_type": "code",
   "execution_count": 51,
   "metadata": {},
   "outputs": [
    {
     "name": "stdout",
     "output_type": "stream",
     "text": [
      "Tiempo transcurrido (en segundos): 3.888659715652466\n",
      "Aciertos train 86.72%\n"
     ]
    }
   ],
   "source": [
    "y_final = predecir(X_train)\n",
    "aciertos = calcular_porcentajes_aciertos(y_final, y_train)[2]\n",
    "print(\"Aciertos train\", aciertos)"
   ]
  },
  {
   "cell_type": "code",
   "execution_count": 52,
   "metadata": {},
   "outputs": [
    {
     "name": "stdout",
     "output_type": "stream",
     "text": [
      "Tiempo transcurrido (en segundos): 0.43511319160461426\n",
      "Aciertos validacion 86.72%\n"
     ]
    }
   ],
   "source": [
    "y_final = predecir(X_test)\n",
    "aciertos = calcular_porcentajes_aciertos(y_final, y_test)[2]\n",
    "print(\"Aciertos validacion\", aciertos)"
   ]
  },
  {
   "cell_type": "code",
   "execution_count": 53,
   "metadata": {},
   "outputs": [
    {
     "name": "stdout",
     "output_type": "stream",
     "text": [
      "Tiempo transcurrido (en segundos): 0.3243682384490967\n",
      "Aciertos test 86.0%\n"
     ]
    }
   ],
   "source": [
    "y_final = predecir(xTest_for_model_charge)\n",
    "aciertos = calcular_porcentajes_aciertos(y_final, yTest)[2]\n",
    "print(\"Aciertos test\", aciertos)"
   ]
  },
  {
   "cell_type": "code",
   "execution_count": null,
   "metadata": {},
   "outputs": [],
   "source": []
  },
  {
   "cell_type": "code",
   "execution_count": null,
   "metadata": {},
   "outputs": [],
   "source": []
  },
  {
   "cell_type": "code",
   "execution_count": null,
   "metadata": {},
   "outputs": [],
   "source": []
  },
  {
   "cell_type": "markdown",
   "metadata": {},
   "source": [
    "# Bibliografia usada"
   ]
  },
  {
   "cell_type": "raw",
   "metadata": {},
   "source": [
    "https://www.analyticsvidhya.com/blog/2021/06/visualizing-sounds-librosa/"
   ]
  },
  {
   "cell_type": "raw",
   "metadata": {},
   "source": [
    "https://www.youtube.com/watch?v=iCwMQJnKk2c\n",
    "https://github.com/musikalkemist/DeepLearningForAudioWithPython\n",
    "https://towardsdatascience.com/extract-features-of-music-75a3f9bc265d\n",
    "https://programmerclick.com/article/4926701185/\n",
    "\n",
    "https://www.cienciadedatos.net/documentos/py19-pca-python.html"
   ]
  },
  {
   "cell_type": "raw",
   "metadata": {},
   "source": []
  },
  {
   "cell_type": "raw",
   "metadata": {},
   "source": []
  }
 ],
 "metadata": {
  "kernelspec": {
   "display_name": "Python 3",
   "language": "python",
   "name": "python3"
  },
  "language_info": {
   "codemirror_mode": {
    "name": "ipython",
    "version": 3
   },
   "file_extension": ".py",
   "mimetype": "text/x-python",
   "name": "python",
   "nbconvert_exporter": "python",
   "pygments_lexer": "ipython3",
   "version": "3.8.10"
  }
 },
 "nbformat": 4,
 "nbformat_minor": 2
}
